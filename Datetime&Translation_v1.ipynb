{
 "cells": [
  {
   "cell_type": "code",
   "execution_count": 1,
   "metadata": {},
   "outputs": [],
   "source": [
    "import pandas as pd\n",
    "import numpy as np\n",
    "df = pd.read_csv('C:/Users/Pc_User/Downloads/Raw_Data_HFARM.csv').drop('Unnamed: 0', axis=1)"
   ]
  },
  {
   "cell_type": "markdown",
   "metadata": {},
   "source": [
    "## Some info about the data for a future double check"
   ]
  },
  {
   "cell_type": "code",
   "execution_count": 2,
   "metadata": {},
   "outputs": [
    {
     "data": {
      "text/html": [
       "<div>\n",
       "<style scoped>\n",
       "    .dataframe tbody tr th:only-of-type {\n",
       "        vertical-align: middle;\n",
       "    }\n",
       "\n",
       "    .dataframe tbody tr th {\n",
       "        vertical-align: top;\n",
       "    }\n",
       "\n",
       "    .dataframe thead th {\n",
       "        text-align: right;\n",
       "    }\n",
       "</style>\n",
       "<table border=\"1\" class=\"dataframe\">\n",
       "  <thead>\n",
       "    <tr style=\"text-align: right;\">\n",
       "      <th></th>\n",
       "      <th>_id</th>\n",
       "      <th>mall</th>\n",
       "      <th>date</th>\n",
       "      <th>customer</th>\n",
       "      <th>desc</th>\n",
       "      <th>net_am</th>\n",
       "      <th>n_unit</th>\n",
       "    </tr>\n",
       "  </thead>\n",
       "  <tbody>\n",
       "    <tr>\n",
       "      <th>0</th>\n",
       "      <td>1001</td>\n",
       "      <td>2</td>\n",
       "      <td>2016-01-14T20:07:00.000+0000</td>\n",
       "      <td>77021708271</td>\n",
       "      <td>caramelos s/azucar</td>\n",
       "      <td>1.00</td>\n",
       "      <td>1</td>\n",
       "    </tr>\n",
       "    <tr>\n",
       "      <th>1</th>\n",
       "      <td>1002</td>\n",
       "      <td>1</td>\n",
       "      <td>2016-01-14T15:25:00.000+0000</td>\n",
       "      <td>77021708271</td>\n",
       "      <td>tosta variada</td>\n",
       "      <td>3.00</td>\n",
       "      <td>1</td>\n",
       "    </tr>\n",
       "    <tr>\n",
       "      <th>2</th>\n",
       "      <td>1002</td>\n",
       "      <td>1</td>\n",
       "      <td>2016-01-14T15:25:00.000+0000</td>\n",
       "      <td>77021708271</td>\n",
       "      <td>baguette tortilla</td>\n",
       "      <td>1.00</td>\n",
       "      <td>1</td>\n",
       "    </tr>\n",
       "    <tr>\n",
       "      <th>3</th>\n",
       "      <td>1003</td>\n",
       "      <td>2</td>\n",
       "      <td>2016-01-14T20:07:00.000+0000</td>\n",
       "      <td>77021708271</td>\n",
       "      <td>queso tierno mezcl</td>\n",
       "      <td>2.83</td>\n",
       "      <td>1</td>\n",
       "    </tr>\n",
       "    <tr>\n",
       "      <th>4</th>\n",
       "      <td>1003</td>\n",
       "      <td>2</td>\n",
       "      <td>2016-01-14T20:07:00.000+0000</td>\n",
       "      <td>77021708271</td>\n",
       "      <td>guisantes muy fino</td>\n",
       "      <td>1.65</td>\n",
       "      <td>1</td>\n",
       "    </tr>\n",
       "  </tbody>\n",
       "</table>\n",
       "</div>"
      ],
      "text/plain": [
       "    _id  mall                          date     customer                desc  \\\n",
       "0  1001     2  2016-01-14T20:07:00.000+0000  77021708271  caramelos s/azucar   \n",
       "1  1002     1  2016-01-14T15:25:00.000+0000  77021708271       tosta variada   \n",
       "2  1002     1  2016-01-14T15:25:00.000+0000  77021708271   baguette tortilla   \n",
       "3  1003     2  2016-01-14T20:07:00.000+0000  77021708271  queso tierno mezcl   \n",
       "4  1003     2  2016-01-14T20:07:00.000+0000  77021708271  guisantes muy fino   \n",
       "\n",
       "   net_am  n_unit  \n",
       "0    1.00       1  \n",
       "1    3.00       1  \n",
       "2    1.00       1  \n",
       "3    2.83       1  \n",
       "4    1.65       1  "
      ]
     },
     "execution_count": 2,
     "metadata": {},
     "output_type": "execute_result"
    }
   ],
   "source": [
    "df.head(5)"
   ]
  },
  {
   "cell_type": "code",
   "execution_count": 3,
   "metadata": {},
   "outputs": [
    {
     "name": "stdout",
     "output_type": "stream",
     "text": [
      "The total number of customers is 66058\n",
      "The total number of tickets is 586479\n",
      "The total number of non-unique bought items is 6848976\n",
      "The average number of items per ticket is 11.678126582537482\n"
     ]
    }
   ],
   "source": [
    "print(f\"The total number of customers is {len(np.unique(df['customer']))}\")\n",
    "print(f\"The total number of tickets is {len(np.unique(df['_id']))}\")\n",
    "print(f\"The total number of non-unique bought items is {len(df)}\")\n",
    "print(f\"The average number of items per ticket is {len(df) / len(np.unique(df['_id']))}\")"
   ]
  },
  {
   "cell_type": "markdown",
   "metadata": {},
   "source": [
    "## Time engineering "
   ]
  },
  {
   "cell_type": "code",
   "execution_count": 4,
   "metadata": {},
   "outputs": [],
   "source": [
    "df['date'] = pd.to_datetime(df['date'], format= \"%Y-%m-%dT%H:%M:%S.000+0000\")\n",
    "df['month'] = df['date'].dt.month\n",
    "df['day_of_year'] = df['date'].dt.dayofyear"
   ]
  },
  {
   "cell_type": "code",
   "execution_count": 5,
   "metadata": {},
   "outputs": [
    {
     "data": {
      "text/html": [
       "<div>\n",
       "<style scoped>\n",
       "    .dataframe tbody tr th:only-of-type {\n",
       "        vertical-align: middle;\n",
       "    }\n",
       "\n",
       "    .dataframe tbody tr th {\n",
       "        vertical-align: top;\n",
       "    }\n",
       "\n",
       "    .dataframe thead th {\n",
       "        text-align: right;\n",
       "    }\n",
       "</style>\n",
       "<table border=\"1\" class=\"dataframe\">\n",
       "  <thead>\n",
       "    <tr style=\"text-align: right;\">\n",
       "      <th></th>\n",
       "      <th>_id</th>\n",
       "      <th>mall</th>\n",
       "      <th>date</th>\n",
       "      <th>customer</th>\n",
       "      <th>desc</th>\n",
       "      <th>net_am</th>\n",
       "      <th>n_unit</th>\n",
       "      <th>month</th>\n",
       "      <th>day_of_year</th>\n",
       "    </tr>\n",
       "  </thead>\n",
       "  <tbody>\n",
       "    <tr>\n",
       "      <th>0</th>\n",
       "      <td>1001</td>\n",
       "      <td>2</td>\n",
       "      <td>2016-01-14 20:07:00</td>\n",
       "      <td>77021708271</td>\n",
       "      <td>caramelos s/azucar</td>\n",
       "      <td>1.00</td>\n",
       "      <td>1</td>\n",
       "      <td>1</td>\n",
       "      <td>14</td>\n",
       "    </tr>\n",
       "    <tr>\n",
       "      <th>1</th>\n",
       "      <td>1002</td>\n",
       "      <td>1</td>\n",
       "      <td>2016-01-14 15:25:00</td>\n",
       "      <td>77021708271</td>\n",
       "      <td>tosta variada</td>\n",
       "      <td>3.00</td>\n",
       "      <td>1</td>\n",
       "      <td>1</td>\n",
       "      <td>14</td>\n",
       "    </tr>\n",
       "    <tr>\n",
       "      <th>2</th>\n",
       "      <td>1002</td>\n",
       "      <td>1</td>\n",
       "      <td>2016-01-14 15:25:00</td>\n",
       "      <td>77021708271</td>\n",
       "      <td>baguette tortilla</td>\n",
       "      <td>1.00</td>\n",
       "      <td>1</td>\n",
       "      <td>1</td>\n",
       "      <td>14</td>\n",
       "    </tr>\n",
       "    <tr>\n",
       "      <th>3</th>\n",
       "      <td>1003</td>\n",
       "      <td>2</td>\n",
       "      <td>2016-01-14 20:07:00</td>\n",
       "      <td>77021708271</td>\n",
       "      <td>queso tierno mezcl</td>\n",
       "      <td>2.83</td>\n",
       "      <td>1</td>\n",
       "      <td>1</td>\n",
       "      <td>14</td>\n",
       "    </tr>\n",
       "    <tr>\n",
       "      <th>4</th>\n",
       "      <td>1003</td>\n",
       "      <td>2</td>\n",
       "      <td>2016-01-14 20:07:00</td>\n",
       "      <td>77021708271</td>\n",
       "      <td>guisantes muy fino</td>\n",
       "      <td>1.65</td>\n",
       "      <td>1</td>\n",
       "      <td>1</td>\n",
       "      <td>14</td>\n",
       "    </tr>\n",
       "  </tbody>\n",
       "</table>\n",
       "</div>"
      ],
      "text/plain": [
       "    _id  mall                date     customer                desc  net_am  \\\n",
       "0  1001     2 2016-01-14 20:07:00  77021708271  caramelos s/azucar    1.00   \n",
       "1  1002     1 2016-01-14 15:25:00  77021708271       tosta variada    3.00   \n",
       "2  1002     1 2016-01-14 15:25:00  77021708271   baguette tortilla    1.00   \n",
       "3  1003     2 2016-01-14 20:07:00  77021708271  queso tierno mezcl    2.83   \n",
       "4  1003     2 2016-01-14 20:07:00  77021708271  guisantes muy fino    1.65   \n",
       "\n",
       "   n_unit  month  day_of_year  \n",
       "0       1      1           14  \n",
       "1       1      1           14  \n",
       "2       1      1           14  \n",
       "3       1      1           14  \n",
       "4       1      1           14  "
      ]
     },
     "execution_count": 5,
     "metadata": {},
     "output_type": "execute_result"
    }
   ],
   "source": [
    "df.head(5)"
   ]
  },
  {
   "cell_type": "markdown",
   "metadata": {},
   "source": [
    "## Frequency of all the items"
   ]
  },
  {
   "cell_type": "code",
   "execution_count": 6,
   "metadata": {},
   "outputs": [
    {
     "data": {
      "text/plain": [
       "bolsa carrefour         144226\n",
       "platano 1a bolsa         41353\n",
       "pan pistola/barra        28252\n",
       "freson tarrina 500       21746\n",
       "panecillos surtidos      21236\n",
       "baguette carrefour       21223\n",
       "zanahoria bolsa 1kg      17985\n",
       "pimiento italiano        17298\n",
       "cerveza mahou clas       16746\n",
       "calabacin campo          15754\n",
       "freson caja 2 kg         15501\n",
       "limon carrefour 750g     15452\n",
       "cebolla carrefour        15228\n",
       "pimiento rojo camp       15172\n",
       "brocoli filmado          14812\n",
       "atun claro aceite        14749\n",
       "banana granel            14567\n",
       "patatas fritas lay       13885\n",
       "pera conferencia         13598\n",
       "manzana golden           13142\n",
       "cerveza mahou 5 *        12797\n",
       "barras pan 3 unida       12639\n",
       "naranja zumo carre       11825\n",
       "puerro manojo 3 u        11714\n",
       "lechuga iceberg          11325\n",
       "azucar bolsa papel       11182\n",
       "judias verdes plan       11168\n",
       "esparrago verde mano     10707\n",
       "huevos camperos 12       10549\n",
       "revistas 4% iva          10404\n",
       "                         ...  \n",
       "sec.pelo.rem d5216           1\n",
       "venta de varg.dvd            1\n",
       "tijera cocina inox .         1\n",
       "al limite dvd                1\n",
       "bolsa star wars              1\n",
       "notting h.e.hdvd             1\n",
       "clara y las abuel            1\n",
       "tea stilton 15.ley           1\n",
       "sillon marinero azul         1\n",
       "yo como sano                 1\n",
       "bici invizimals 14\"          1\n",
       "crema health&aloe 50         1\n",
       "18 rotuladores punta         1\n",
       "numero cero                  1\n",
       "ben&jerrys classic           1\n",
       "hombre queria                1\n",
       "chupete 6-18 anat            1\n",
       "miel azahar 500              1\n",
       "corazon de oro               1\n",
       "turron nata nueces           1\n",
       "tab onix 8gold ips           1\n",
       "copa bohemia 22ml            1\n",
       "horch chufi 33 cc            1\n",
       "lavav bal 3vs704ba           1\n",
       "canvas 28x28                 1\n",
       "trolley 77cm azul            1\n",
       "mi hombre.obsesion           1\n",
       "four cd                      1\n",
       "langostino madagas           1\n",
       "mundo mundial,el             1\n",
       "Name: desc, Length: 53403, dtype: int64"
      ]
     },
     "execution_count": 6,
     "metadata": {},
     "output_type": "execute_result"
    }
   ],
   "source": [
    "df['desc'].value_counts()"
   ]
  },
  {
   "cell_type": "code",
   "execution_count": 7,
   "metadata": {},
   "outputs": [],
   "source": [
    "df[\"desc\"] = df[\"desc\"].apply(lambda x : x.strip() if x != 'ropa de lulu, la ' else x) #excel is not stripping this string, so i'll leave it not stripped"
   ]
  },
  {
   "cell_type": "markdown",
   "metadata": {},
   "source": [
    "## Translate items in english"
   ]
  },
  {
   "cell_type": "code",
   "execution_count": 8,
   "metadata": {},
   "outputs": [],
   "source": [
    "#save them in a csv, to translate them in english with excel, and reupload them\n",
    "not_translated_directory = \"C:/Users/Pc_User/Desktop/H-Farm/translation.csv\" #change it with yours\n",
    "df['desc'].value_counts().to_csv(not_translated_directory)"
   ]
  },
  {
   "cell_type": "code",
   "execution_count": 9,
   "metadata": {},
   "outputs": [],
   "source": [
    "#reupload\n",
    "translated_directory = \"C:/Users/Pc_User/Desktop/H-Farm/Item Translation 08-10-2020.csv\" #change it with yours\n",
    "translation = pd.read_csv(translated_directory).drop('Count', axis=1).drop_duplicates(subset = \"Item\") #excel creates double translations for some string"
   ]
  },
  {
   "cell_type": "code",
   "execution_count": 10,
   "metadata": {},
   "outputs": [
    {
     "data": {
      "text/html": [
       "<div>\n",
       "<style scoped>\n",
       "    .dataframe tbody tr th:only-of-type {\n",
       "        vertical-align: middle;\n",
       "    }\n",
       "\n",
       "    .dataframe tbody tr th {\n",
       "        vertical-align: top;\n",
       "    }\n",
       "\n",
       "    .dataframe thead th {\n",
       "        text-align: right;\n",
       "    }\n",
       "</style>\n",
       "<table border=\"1\" class=\"dataframe\">\n",
       "  <thead>\n",
       "    <tr style=\"text-align: right;\">\n",
       "      <th></th>\n",
       "      <th>_id</th>\n",
       "      <th>mall</th>\n",
       "      <th>date</th>\n",
       "      <th>customer</th>\n",
       "      <th>desc</th>\n",
       "      <th>net_am</th>\n",
       "      <th>n_unit</th>\n",
       "      <th>month</th>\n",
       "      <th>day_of_year</th>\n",
       "      <th>Translation</th>\n",
       "    </tr>\n",
       "  </thead>\n",
       "  <tbody>\n",
       "    <tr>\n",
       "      <th>0</th>\n",
       "      <td>1001</td>\n",
       "      <td>2</td>\n",
       "      <td>2016-01-14 20:07:00</td>\n",
       "      <td>77021708271</td>\n",
       "      <td>caramelos s/azucar</td>\n",
       "      <td>1.00</td>\n",
       "      <td>1</td>\n",
       "      <td>1</td>\n",
       "      <td>14</td>\n",
       "      <td>s candy / sugar</td>\n",
       "    </tr>\n",
       "    <tr>\n",
       "      <th>1</th>\n",
       "      <td>1002</td>\n",
       "      <td>1</td>\n",
       "      <td>2016-01-14 15:25:00</td>\n",
       "      <td>77021708271</td>\n",
       "      <td>tosta variada</td>\n",
       "      <td>3.00</td>\n",
       "      <td>1</td>\n",
       "      <td>1</td>\n",
       "      <td>14</td>\n",
       "      <td>tosta varied</td>\n",
       "    </tr>\n",
       "    <tr>\n",
       "      <th>2</th>\n",
       "      <td>1002</td>\n",
       "      <td>1</td>\n",
       "      <td>2016-01-14 15:25:00</td>\n",
       "      <td>77021708271</td>\n",
       "      <td>baguette tortilla</td>\n",
       "      <td>1.00</td>\n",
       "      <td>1</td>\n",
       "      <td>1</td>\n",
       "      <td>14</td>\n",
       "      <td>omelet baguette</td>\n",
       "    </tr>\n",
       "    <tr>\n",
       "      <th>3</th>\n",
       "      <td>1003</td>\n",
       "      <td>2</td>\n",
       "      <td>2016-01-14 20:07:00</td>\n",
       "      <td>77021708271</td>\n",
       "      <td>queso tierno mezcl</td>\n",
       "      <td>2.83</td>\n",
       "      <td>1</td>\n",
       "      <td>1</td>\n",
       "      <td>14</td>\n",
       "      <td>soft cheese MIXER</td>\n",
       "    </tr>\n",
       "    <tr>\n",
       "      <th>4</th>\n",
       "      <td>1003</td>\n",
       "      <td>2</td>\n",
       "      <td>2016-01-14 20:07:00</td>\n",
       "      <td>77021708271</td>\n",
       "      <td>guisantes muy fino</td>\n",
       "      <td>1.65</td>\n",
       "      <td>1</td>\n",
       "      <td>1</td>\n",
       "      <td>14</td>\n",
       "      <td>Peas very fine</td>\n",
       "    </tr>\n",
       "  </tbody>\n",
       "</table>\n",
       "</div>"
      ],
      "text/plain": [
       "    _id  mall                date     customer                desc  net_am  \\\n",
       "0  1001     2 2016-01-14 20:07:00  77021708271  caramelos s/azucar    1.00   \n",
       "1  1002     1 2016-01-14 15:25:00  77021708271       tosta variada    3.00   \n",
       "2  1002     1 2016-01-14 15:25:00  77021708271   baguette tortilla    1.00   \n",
       "3  1003     2 2016-01-14 20:07:00  77021708271  queso tierno mezcl    2.83   \n",
       "4  1003     2 2016-01-14 20:07:00  77021708271  guisantes muy fino    1.65   \n",
       "\n",
       "   n_unit  month  day_of_year        Translation  \n",
       "0       1      1           14    s candy / sugar  \n",
       "1       1      1           14       tosta varied  \n",
       "2       1      1           14    omelet baguette  \n",
       "3       1      1           14  soft cheese MIXER  \n",
       "4       1      1           14     Peas very fine  "
      ]
     },
     "execution_count": 10,
     "metadata": {},
     "output_type": "execute_result"
    }
   ],
   "source": [
    "#merge the translation\n",
    "data = df.merge(translation, left_on='desc', right_on = 'Item', how='left').drop('Item', axis=1)\n",
    "data.head(5)"
   ]
  },
  {
   "cell_type": "markdown",
   "metadata": {},
   "source": [
    "## check everything is ok"
   ]
  },
  {
   "cell_type": "code",
   "execution_count": 11,
   "metadata": {},
   "outputs": [
    {
     "name": "stdout",
     "output_type": "stream",
     "text": [
      "Everything ok\n"
     ]
    }
   ],
   "source": [
    "#this should run fine\n",
    "assert len(np.unique(translation[~translation[\"Item\"].isin(list(df['desc']))][\"Item\"])) == 0\n",
    "assert len(np.unique(df[~df[\"desc\"].isin(list(translation[\"Item\"]))][\"desc\"])) == 0\n",
    "assert data.isnull().sum().sum() == 0 \n",
    "assert len(data) == len(df) \n",
    "print(\"Everything ok\")"
   ]
  },
  {
   "cell_type": "markdown",
   "metadata": {},
   "source": [
    "## check new table is the same as before"
   ]
  },
  {
   "cell_type": "code",
   "execution_count": 12,
   "metadata": {},
   "outputs": [
    {
     "name": "stdout",
     "output_type": "stream",
     "text": [
      "The total number of customers is 66058\n",
      "The total number of tickets is 586479\n",
      "The total number of non-unique bought items is 6848976\n",
      "The average number of items per ticket is 11.678126582537482\n"
     ]
    }
   ],
   "source": [
    "print(f\"The total number of customers is {len(np.unique(data['customer']))}\")\n",
    "print(f\"The total number of tickets is {len(np.unique(data['_id']))}\")\n",
    "print(f\"The total number of non-unique bought items is {len(data)}\")\n",
    "print(f\"The average number of items per ticket is {len(data) / len(np.unique(data['_id']))}\")"
   ]
  },
  {
   "cell_type": "markdown",
   "metadata": {},
   "source": [
    "## save dataset  for next notebook"
   ]
  },
  {
   "cell_type": "code",
   "execution_count": 13,
   "metadata": {},
   "outputs": [],
   "source": [
    "data.to_csv(\"C:/Users/Pc_User/Desktop/H-Farm/dataset_translation_datetime_v1.csv\")"
   ]
  }
 ],
 "metadata": {
  "kernelspec": {
   "display_name": "Python 3",
   "language": "python",
   "name": "python3"
  },
  "language_info": {
   "codemirror_mode": {
    "name": "ipython",
    "version": 3
   },
   "file_extension": ".py",
   "mimetype": "text/x-python",
   "name": "python",
   "nbconvert_exporter": "python",
   "pygments_lexer": "ipython3",
   "version": "3.6.1"
  }
 },
 "nbformat": 4,
 "nbformat_minor": 2
}
