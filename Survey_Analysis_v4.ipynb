{
 "cells": [
  {
   "cell_type": "code",
   "execution_count": 1,
   "metadata": {},
   "outputs": [],
   "source": [
    "import pandas as pd\n",
    "import numpy as np\n",
    "import seaborn as sns\n",
    "import matplotlib.pyplot as plt\n",
    "from dictionary_new import category_product_dictionary\n",
    "df = pd.read_csv(\"C:/Users/Pc_User/Desktop/H-Farm/survey_hfarm_1.csv\")\n",
    "df = df[df['Status'] == 'IP Address'].reset_index(drop=True)"
   ]
  },
  {
   "cell_type": "markdown",
   "metadata": {},
   "source": [
    "## Data cleaning"
   ]
  },
  {
   "cell_type": "code",
   "execution_count": 2,
   "metadata": {},
   "outputs": [
    {
     "data": {
      "text/plain": [
       "array(['StartDate', 'EndDate', 'Status', 'IPAddress', 'Progress',\n",
       "       'Duration (in seconds)', 'Finished', 'RecordedDate', 'ResponseId',\n",
       "       'RecipientLastName', 'RecipientFirstName', 'RecipientEmail',\n",
       "       'ExternalReference', 'LocationLatitude', 'LocationLongitude',\n",
       "       'DistributionChannel', 'UserLanguage', 'Q9', 'Q6', 'Q1_1', 'Q1_2',\n",
       "       'Q1_3', 'Q1_4', 'Q1_5', 'Q1_6', 'Q1_7', 'Q1_8', 'Q1_9', 'Q14_1',\n",
       "       'Q15_1', 'Q4', 'Q11', 'Q12_1', 'Q13', 'Q7_1'], dtype=object)"
      ]
     },
     "execution_count": 2,
     "metadata": {},
     "output_type": "execute_result"
    }
   ],
   "source": [
    "df.columns.values"
   ]
  },
  {
   "cell_type": "code",
   "execution_count": 3,
   "metadata": {},
   "outputs": [],
   "source": [
    "questions_n = ['Q9', 'Q6', 'Q1_1', 'Q1_2', 'Q1_3', 'Q1_4', 'Q1_5', 'Q1_6', 'Q1_7', 'Q1_8', 'Q1_9', 'Q14_1',\n",
    "             'Q15_1', 'Q4', 'Q11', 'Q12_1', 'Q13', 'Q7_1']\n",
    "questions = ['Gender', 'Age', 'Fruit', 'Vegetable', 'Red meat','Fish','Egg','Snacks','Junk',\n",
    "             'Ready to eat/drink','Alcohol', 'Subjective health', 'Contains plastic', 'Chocolate box?', 'Optimistic', \n",
    "            'Level of concern', 'Longevity insurance', 'Cash inflow']\n",
    "assert len(questions_n) == len(questions)"
   ]
  },
  {
   "cell_type": "code",
   "execution_count": 4,
   "metadata": {},
   "outputs": [],
   "source": [
    "df = df[questions_n]"
   ]
  },
  {
   "cell_type": "code",
   "execution_count": 5,
   "metadata": {},
   "outputs": [],
   "source": [
    "df.rename(dict(zip(questions_n, questions)), inplace=True, axis=1)"
   ]
  },
  {
   "cell_type": "code",
   "execution_count": 6,
   "metadata": {},
   "outputs": [
    {
     "data": {
      "text/html": [
       "<div>\n",
       "<style scoped>\n",
       "    .dataframe tbody tr th:only-of-type {\n",
       "        vertical-align: middle;\n",
       "    }\n",
       "\n",
       "    .dataframe tbody tr th {\n",
       "        vertical-align: top;\n",
       "    }\n",
       "\n",
       "    .dataframe thead th {\n",
       "        text-align: right;\n",
       "    }\n",
       "</style>\n",
       "<table border=\"1\" class=\"dataframe\">\n",
       "  <thead>\n",
       "    <tr style=\"text-align: right;\">\n",
       "      <th></th>\n",
       "      <th>Gender</th>\n",
       "      <th>Age</th>\n",
       "      <th>Fruit</th>\n",
       "      <th>Vegetable</th>\n",
       "      <th>Red meat</th>\n",
       "      <th>Fish</th>\n",
       "      <th>Egg</th>\n",
       "      <th>Snacks</th>\n",
       "      <th>Junk</th>\n",
       "      <th>Ready to eat/drink</th>\n",
       "      <th>Alcohol</th>\n",
       "      <th>Subjective health</th>\n",
       "      <th>Contains plastic</th>\n",
       "      <th>Chocolate box?</th>\n",
       "      <th>Optimistic</th>\n",
       "      <th>Level of concern</th>\n",
       "      <th>Longevity insurance</th>\n",
       "      <th>Cash inflow</th>\n",
       "    </tr>\n",
       "  </thead>\n",
       "  <tbody>\n",
       "    <tr>\n",
       "      <th>0</th>\n",
       "      <td>Female</td>\n",
       "      <td>18 - 24</td>\n",
       "      <td>4</td>\n",
       "      <td>2</td>\n",
       "      <td>5</td>\n",
       "      <td>4</td>\n",
       "      <td>5</td>\n",
       "      <td>5</td>\n",
       "      <td>1</td>\n",
       "      <td>1</td>\n",
       "      <td>3</td>\n",
       "      <td>4</td>\n",
       "      <td>4</td>\n",
       "      <td>The best one</td>\n",
       "      <td>More than 80 years</td>\n",
       "      <td>5</td>\n",
       "      <td>No</td>\n",
       "      <td>1500</td>\n",
       "    </tr>\n",
       "    <tr>\n",
       "      <th>1</th>\n",
       "      <td>Male</td>\n",
       "      <td>18 - 24</td>\n",
       "      <td>5</td>\n",
       "      <td>5</td>\n",
       "      <td>3</td>\n",
       "      <td>2</td>\n",
       "      <td>2</td>\n",
       "      <td>1</td>\n",
       "      <td>1</td>\n",
       "      <td>2</td>\n",
       "      <td>1</td>\n",
       "      <td>5</td>\n",
       "      <td>3</td>\n",
       "      <td>The best one</td>\n",
       "      <td>More than 80 years</td>\n",
       "      <td>5</td>\n",
       "      <td>Yes</td>\n",
       "      <td>700</td>\n",
       "    </tr>\n",
       "    <tr>\n",
       "      <th>2</th>\n",
       "      <td>Female</td>\n",
       "      <td>18 - 24</td>\n",
       "      <td>5</td>\n",
       "      <td>4</td>\n",
       "      <td>3</td>\n",
       "      <td>4</td>\n",
       "      <td>1</td>\n",
       "      <td>1</td>\n",
       "      <td>1</td>\n",
       "      <td>2</td>\n",
       "      <td>1</td>\n",
       "      <td>4</td>\n",
       "      <td>5</td>\n",
       "      <td>The best one</td>\n",
       "      <td>Less than 80 years</td>\n",
       "      <td>3</td>\n",
       "      <td>Yes</td>\n",
       "      <td>0</td>\n",
       "    </tr>\n",
       "    <tr>\n",
       "      <th>3</th>\n",
       "      <td>Male</td>\n",
       "      <td>25 - 34</td>\n",
       "      <td>5</td>\n",
       "      <td>4</td>\n",
       "      <td>4</td>\n",
       "      <td>2</td>\n",
       "      <td>5</td>\n",
       "      <td>5</td>\n",
       "      <td>3</td>\n",
       "      <td>3</td>\n",
       "      <td>3</td>\n",
       "      <td>3</td>\n",
       "      <td>3</td>\n",
       "      <td>The best one</td>\n",
       "      <td>More than 80 years</td>\n",
       "      <td>4</td>\n",
       "      <td>No</td>\n",
       "      <td>6000</td>\n",
       "    </tr>\n",
       "    <tr>\n",
       "      <th>4</th>\n",
       "      <td>I prefer not to specify</td>\n",
       "      <td>18 - 24</td>\n",
       "      <td>2</td>\n",
       "      <td>2</td>\n",
       "      <td>3</td>\n",
       "      <td>2</td>\n",
       "      <td>3</td>\n",
       "      <td>2</td>\n",
       "      <td>2</td>\n",
       "      <td>2</td>\n",
       "      <td>5</td>\n",
       "      <td>3</td>\n",
       "      <td>3</td>\n",
       "      <td>The best one</td>\n",
       "      <td>Less than 80 years</td>\n",
       "      <td>NaN</td>\n",
       "      <td>No</td>\n",
       "      <td>0</td>\n",
       "    </tr>\n",
       "  </tbody>\n",
       "</table>\n",
       "</div>"
      ],
      "text/plain": [
       "                    Gender      Age Fruit Vegetable Red meat Fish Egg Snacks  \\\n",
       "0                   Female  18 - 24     4         2        5    4   5      5   \n",
       "1                     Male  18 - 24     5         5        3    2   2      1   \n",
       "2                   Female  18 - 24     5         4        3    4   1      1   \n",
       "3                     Male  25 - 34     5         4        4    2   5      5   \n",
       "4  I prefer not to specify  18 - 24     2         2        3    2   3      2   \n",
       "\n",
       "  Junk Ready to eat/drink Alcohol Subjective health Contains plastic  \\\n",
       "0    1                  1       3                 4                4   \n",
       "1    1                  2       1                 5                3   \n",
       "2    1                  2       1                 4                5   \n",
       "3    3                  3       3                 3                3   \n",
       "4    2                  2       5                 3                3   \n",
       "\n",
       "  Chocolate box?          Optimistic Level of concern Longevity insurance  \\\n",
       "0   The best one  More than 80 years                5                  No   \n",
       "1   The best one  More than 80 years                5                 Yes   \n",
       "2   The best one  Less than 80 years                3                 Yes   \n",
       "3   The best one  More than 80 years                4                  No   \n",
       "4   The best one  Less than 80 years              NaN                  No   \n",
       "\n",
       "  Cash inflow  \n",
       "0        1500  \n",
       "1         700  \n",
       "2           0  \n",
       "3        6000  \n",
       "4           0  "
      ]
     },
     "execution_count": 6,
     "metadata": {},
     "output_type": "execute_result"
    }
   ],
   "source": [
    "df.head(5)"
   ]
  },
  {
   "cell_type": "markdown",
   "metadata": {},
   "source": [
    "### Convert to numerical variables"
   ]
  },
  {
   "cell_type": "code",
   "execution_count": 7,
   "metadata": {},
   "outputs": [],
   "source": [
    "numeric = ['Fruit', 'Vegetable', 'Red meat','Fish','Egg','Snacks','Junk',\n",
    "             'Ready to eat/drink','Alcohol', 'Subjective health', 'Contains plastic', 'Level of concern', 'Cash inflow'] \n",
    "\n",
    "for num in numeric:\n",
    "    df[num] = pd.to_numeric(df[num], errors='coerce')"
   ]
  },
  {
   "cell_type": "markdown",
   "metadata": {},
   "source": [
    "### Swap environemental friendliness with unfriendliness (to match contains plastic)"
   ]
  },
  {
   "cell_type": "code",
   "execution_count": 8,
   "metadata": {},
   "outputs": [],
   "source": [
    "df['Contains plastic'] = (df['Contains plastic'] - 6) * -1"
   ]
  },
  {
   "cell_type": "code",
   "execution_count": 9,
   "metadata": {},
   "outputs": [
    {
     "name": "stdout",
     "output_type": "stream",
     "text": [
      "115\n"
     ]
    },
    {
     "data": {
      "text/html": [
       "<div>\n",
       "<style scoped>\n",
       "    .dataframe tbody tr th:only-of-type {\n",
       "        vertical-align: middle;\n",
       "    }\n",
       "\n",
       "    .dataframe tbody tr th {\n",
       "        vertical-align: top;\n",
       "    }\n",
       "\n",
       "    .dataframe thead th {\n",
       "        text-align: right;\n",
       "    }\n",
       "</style>\n",
       "<table border=\"1\" class=\"dataframe\">\n",
       "  <thead>\n",
       "    <tr style=\"text-align: right;\">\n",
       "      <th></th>\n",
       "      <th>Gender</th>\n",
       "      <th>Age</th>\n",
       "      <th>Fruit</th>\n",
       "      <th>Vegetable</th>\n",
       "      <th>Red meat</th>\n",
       "      <th>Fish</th>\n",
       "      <th>Egg</th>\n",
       "      <th>Snacks</th>\n",
       "      <th>Junk</th>\n",
       "      <th>Ready to eat/drink</th>\n",
       "      <th>Alcohol</th>\n",
       "      <th>Subjective health</th>\n",
       "      <th>Contains plastic</th>\n",
       "      <th>Chocolate box?</th>\n",
       "      <th>Optimistic</th>\n",
       "      <th>Level of concern</th>\n",
       "      <th>Longevity insurance</th>\n",
       "      <th>Cash inflow</th>\n",
       "    </tr>\n",
       "  </thead>\n",
       "  <tbody>\n",
       "    <tr>\n",
       "      <th>0</th>\n",
       "      <td>Female</td>\n",
       "      <td>18 - 24</td>\n",
       "      <td>4</td>\n",
       "      <td>2</td>\n",
       "      <td>5</td>\n",
       "      <td>4</td>\n",
       "      <td>5</td>\n",
       "      <td>5</td>\n",
       "      <td>1</td>\n",
       "      <td>1</td>\n",
       "      <td>3</td>\n",
       "      <td>4.0</td>\n",
       "      <td>2.0</td>\n",
       "      <td>The best one</td>\n",
       "      <td>More than 80 years</td>\n",
       "      <td>5.0</td>\n",
       "      <td>No</td>\n",
       "      <td>1500.0</td>\n",
       "    </tr>\n",
       "    <tr>\n",
       "      <th>1</th>\n",
       "      <td>Male</td>\n",
       "      <td>18 - 24</td>\n",
       "      <td>5</td>\n",
       "      <td>5</td>\n",
       "      <td>3</td>\n",
       "      <td>2</td>\n",
       "      <td>2</td>\n",
       "      <td>1</td>\n",
       "      <td>1</td>\n",
       "      <td>2</td>\n",
       "      <td>1</td>\n",
       "      <td>5.0</td>\n",
       "      <td>3.0</td>\n",
       "      <td>The best one</td>\n",
       "      <td>More than 80 years</td>\n",
       "      <td>5.0</td>\n",
       "      <td>Yes</td>\n",
       "      <td>700.0</td>\n",
       "    </tr>\n",
       "    <tr>\n",
       "      <th>2</th>\n",
       "      <td>Female</td>\n",
       "      <td>18 - 24</td>\n",
       "      <td>5</td>\n",
       "      <td>4</td>\n",
       "      <td>3</td>\n",
       "      <td>4</td>\n",
       "      <td>1</td>\n",
       "      <td>1</td>\n",
       "      <td>1</td>\n",
       "      <td>2</td>\n",
       "      <td>1</td>\n",
       "      <td>4.0</td>\n",
       "      <td>1.0</td>\n",
       "      <td>The best one</td>\n",
       "      <td>Less than 80 years</td>\n",
       "      <td>3.0</td>\n",
       "      <td>Yes</td>\n",
       "      <td>0.0</td>\n",
       "    </tr>\n",
       "    <tr>\n",
       "      <th>3</th>\n",
       "      <td>Male</td>\n",
       "      <td>25 - 34</td>\n",
       "      <td>5</td>\n",
       "      <td>4</td>\n",
       "      <td>4</td>\n",
       "      <td>2</td>\n",
       "      <td>5</td>\n",
       "      <td>5</td>\n",
       "      <td>3</td>\n",
       "      <td>3</td>\n",
       "      <td>3</td>\n",
       "      <td>3.0</td>\n",
       "      <td>3.0</td>\n",
       "      <td>The best one</td>\n",
       "      <td>More than 80 years</td>\n",
       "      <td>4.0</td>\n",
       "      <td>No</td>\n",
       "      <td>6000.0</td>\n",
       "    </tr>\n",
       "    <tr>\n",
       "      <th>4</th>\n",
       "      <td>I prefer not to specify</td>\n",
       "      <td>18 - 24</td>\n",
       "      <td>2</td>\n",
       "      <td>2</td>\n",
       "      <td>3</td>\n",
       "      <td>2</td>\n",
       "      <td>3</td>\n",
       "      <td>2</td>\n",
       "      <td>2</td>\n",
       "      <td>2</td>\n",
       "      <td>5</td>\n",
       "      <td>3.0</td>\n",
       "      <td>3.0</td>\n",
       "      <td>The best one</td>\n",
       "      <td>Less than 80 years</td>\n",
       "      <td>NaN</td>\n",
       "      <td>No</td>\n",
       "      <td>0.0</td>\n",
       "    </tr>\n",
       "  </tbody>\n",
       "</table>\n",
       "</div>"
      ],
      "text/plain": [
       "                    Gender      Age  Fruit  Vegetable  Red meat  Fish  Egg  \\\n",
       "0                   Female  18 - 24      4          2         5     4    5   \n",
       "1                     Male  18 - 24      5          5         3     2    2   \n",
       "2                   Female  18 - 24      5          4         3     4    1   \n",
       "3                     Male  25 - 34      5          4         4     2    5   \n",
       "4  I prefer not to specify  18 - 24      2          2         3     2    3   \n",
       "\n",
       "   Snacks  Junk  Ready to eat/drink  Alcohol  Subjective health  \\\n",
       "0       5     1                   1        3                4.0   \n",
       "1       1     1                   2        1                5.0   \n",
       "2       1     1                   2        1                4.0   \n",
       "3       5     3                   3        3                3.0   \n",
       "4       2     2                   2        5                3.0   \n",
       "\n",
       "   Contains plastic Chocolate box?          Optimistic  Level of concern  \\\n",
       "0               2.0   The best one  More than 80 years               5.0   \n",
       "1               3.0   The best one  More than 80 years               5.0   \n",
       "2               1.0   The best one  Less than 80 years               3.0   \n",
       "3               3.0   The best one  More than 80 years               4.0   \n",
       "4               3.0   The best one  Less than 80 years               NaN   \n",
       "\n",
       "  Longevity insurance  Cash inflow  \n",
       "0                  No       1500.0  \n",
       "1                 Yes        700.0  \n",
       "2                 Yes          0.0  \n",
       "3                  No       6000.0  \n",
       "4                  No          0.0  "
      ]
     },
     "execution_count": 9,
     "metadata": {},
     "output_type": "execute_result"
    }
   ],
   "source": [
    "print(len(df))\n",
    "df.head(5)"
   ]
  },
  {
   "cell_type": "markdown",
   "metadata": {},
   "source": [
    "### Transform to numerical"
   ]
  },
  {
   "cell_type": "code",
   "execution_count": 10,
   "metadata": {},
   "outputs": [],
   "source": [
    "df['Longevity insurance'].replace({'No': 0, 'Yes': 1}, inplace=True)\n",
    "df['Chocolate box?'].replace({'The worst one': 0, 'The best one': 1}, inplace=True)\n",
    "df['Optimistic'].replace({'Less than 80 years': 0, 'More than 80 years': 1}, inplace=True)\n",
    "df['Male'] = df['Gender'].apply(lambda x: 1 if x == 'Male' else 0)\n",
    "df.drop(['Gender'], axis=1, inplace=True)\n"
   ]
  },
  {
   "cell_type": "code",
   "execution_count": 11,
   "metadata": {},
   "outputs": [],
   "source": [
    "age_groups = [list(np.unique(df['Age']))[-1]] + list(np.unique(df['Age']))[0:-1] "
   ]
  },
  {
   "cell_type": "code",
   "execution_count": 12,
   "metadata": {},
   "outputs": [],
   "source": [
    "df['Age'].replace(dict(zip(age_groups, np.arange(len(age_groups)))), inplace=True)"
   ]
  },
  {
   "cell_type": "markdown",
   "metadata": {},
   "source": [
    "## Assign label to healthy label based on clustering result"
   ]
  },
  {
   "cell_type": "code",
   "execution_count": 13,
   "metadata": {},
   "outputs": [],
   "source": [
    "final_cutoff = {'Fruit':[2.73, True], 'Vegetable':[2.41, True], 'Junk':[4.15, False], \n",
    "                'Alcohol':[3, False], \n",
    "                'Red meat':[3, False], 'Fish':[1.84, True]}"
   ]
  },
  {
   "cell_type": "code",
   "execution_count": 14,
   "metadata": {},
   "outputs": [],
   "source": [
    "def healthy_assignment(x, final_cutoff):\n",
    "    for category in final_cutoff:\n",
    "        if final_cutoff[category][1]:\n",
    "            if x[category] >= final_cutoff[category][0]:\n",
    "                continue\n",
    "            else:\n",
    "                return 0\n",
    "        else:\n",
    "            if x[category] < final_cutoff[category][0]:\n",
    "                continue\n",
    "            else:\n",
    "                return 0\n",
    "    return 1\n",
    "            "
   ]
  },
  {
   "cell_type": "code",
   "execution_count": 15,
   "metadata": {},
   "outputs": [
    {
     "name": "stdout",
     "output_type": "stream",
     "text": [
      "0.1565217391304348\n"
     ]
    }
   ],
   "source": [
    "df['Healthy'] =df.apply(lambda x: healthy_assignment(x, final_cutoff), axis=1)\n",
    "print(np.sum(df['Healthy'] == 1) / len(df))"
   ]
  },
  {
   "cell_type": "code",
   "execution_count": 16,
   "metadata": {},
   "outputs": [
    {
     "name": "stdout",
     "output_type": "stream",
     "text": [
      "18\n"
     ]
    }
   ],
   "source": [
    "print(np.sum(df['Healthy'] == 1))"
   ]
  },
  {
   "cell_type": "code",
   "execution_count": 17,
   "metadata": {},
   "outputs": [
    {
     "data": {
      "text/html": [
       "<div>\n",
       "<style scoped>\n",
       "    .dataframe tbody tr th:only-of-type {\n",
       "        vertical-align: middle;\n",
       "    }\n",
       "\n",
       "    .dataframe tbody tr th {\n",
       "        vertical-align: top;\n",
       "    }\n",
       "\n",
       "    .dataframe thead th {\n",
       "        text-align: right;\n",
       "    }\n",
       "</style>\n",
       "<table border=\"1\" class=\"dataframe\">\n",
       "  <thead>\n",
       "    <tr style=\"text-align: right;\">\n",
       "      <th></th>\n",
       "      <th>Category</th>\n",
       "      <th>Difference in Mean value between Healthy and Unhealthy</th>\n",
       "    </tr>\n",
       "  </thead>\n",
       "  <tbody>\n",
       "    <tr>\n",
       "      <th>0</th>\n",
       "      <td>Age</td>\n",
       "      <td>0.121993</td>\n",
       "    </tr>\n",
       "    <tr>\n",
       "      <th>1</th>\n",
       "      <td>Fruit</td>\n",
       "      <td>0.967927</td>\n",
       "    </tr>\n",
       "    <tr>\n",
       "      <th>2</th>\n",
       "      <td>Vegetable</td>\n",
       "      <td>0.823597</td>\n",
       "    </tr>\n",
       "    <tr>\n",
       "      <th>3</th>\n",
       "      <td>Red meat</td>\n",
       "      <td>-1.531501</td>\n",
       "    </tr>\n",
       "    <tr>\n",
       "      <th>4</th>\n",
       "      <td>Fish</td>\n",
       "      <td>0.549828</td>\n",
       "    </tr>\n",
       "    <tr>\n",
       "      <th>5</th>\n",
       "      <td>Egg</td>\n",
       "      <td>0.288087</td>\n",
       "    </tr>\n",
       "    <tr>\n",
       "      <th>6</th>\n",
       "      <td>Snacks</td>\n",
       "      <td>-0.835052</td>\n",
       "    </tr>\n",
       "    <tr>\n",
       "      <th>7</th>\n",
       "      <td>Junk</td>\n",
       "      <td>-1.031501</td>\n",
       "    </tr>\n",
       "    <tr>\n",
       "      <th>8</th>\n",
       "      <td>Ready to eat/drink</td>\n",
       "      <td>-0.865407</td>\n",
       "    </tr>\n",
       "    <tr>\n",
       "      <th>9</th>\n",
       "      <td>Alcohol</td>\n",
       "      <td>-1.312142</td>\n",
       "    </tr>\n",
       "    <tr>\n",
       "      <th>10</th>\n",
       "      <td>Subjective health</td>\n",
       "      <td>0.426714</td>\n",
       "    </tr>\n",
       "    <tr>\n",
       "      <th>11</th>\n",
       "      <td>Contains plastic</td>\n",
       "      <td>-0.030466</td>\n",
       "    </tr>\n",
       "    <tr>\n",
       "      <th>12</th>\n",
       "      <td>Chocolate box?</td>\n",
       "      <td>-0.145475</td>\n",
       "    </tr>\n",
       "    <tr>\n",
       "      <th>13</th>\n",
       "      <td>Optimistic</td>\n",
       "      <td>0.270332</td>\n",
       "    </tr>\n",
       "    <tr>\n",
       "      <th>14</th>\n",
       "      <td>Level of concern</td>\n",
       "      <td>0.691176</td>\n",
       "    </tr>\n",
       "    <tr>\n",
       "      <th>15</th>\n",
       "      <td>Longevity insurance</td>\n",
       "      <td>0.301260</td>\n",
       "    </tr>\n",
       "    <tr>\n",
       "      <th>16</th>\n",
       "      <td>Cash inflow</td>\n",
       "      <td>421.053131</td>\n",
       "    </tr>\n",
       "    <tr>\n",
       "      <th>17</th>\n",
       "      <td>Male</td>\n",
       "      <td>-0.056701</td>\n",
       "    </tr>\n",
       "    <tr>\n",
       "      <th>18</th>\n",
       "      <td>Healthy</td>\n",
       "      <td>1.000000</td>\n",
       "    </tr>\n",
       "  </tbody>\n",
       "</table>\n",
       "</div>"
      ],
      "text/plain": [
       "               Category  \\\n",
       "0                   Age   \n",
       "1                 Fruit   \n",
       "2             Vegetable   \n",
       "3              Red meat   \n",
       "4                  Fish   \n",
       "5                   Egg   \n",
       "6                Snacks   \n",
       "7                  Junk   \n",
       "8    Ready to eat/drink   \n",
       "9               Alcohol   \n",
       "10    Subjective health   \n",
       "11     Contains plastic   \n",
       "12       Chocolate box?   \n",
       "13           Optimistic   \n",
       "14     Level of concern   \n",
       "15  Longevity insurance   \n",
       "16          Cash inflow   \n",
       "17                 Male   \n",
       "18              Healthy   \n",
       "\n",
       "    Difference in Mean value between Healthy and Unhealthy  \n",
       "0                                            0.121993       \n",
       "1                                            0.967927       \n",
       "2                                            0.823597       \n",
       "3                                           -1.531501       \n",
       "4                                            0.549828       \n",
       "5                                            0.288087       \n",
       "6                                           -0.835052       \n",
       "7                                           -1.031501       \n",
       "8                                           -0.865407       \n",
       "9                                           -1.312142       \n",
       "10                                           0.426714       \n",
       "11                                          -0.030466       \n",
       "12                                          -0.145475       \n",
       "13                                           0.270332       \n",
       "14                                           0.691176       \n",
       "15                                           0.301260       \n",
       "16                                         421.053131       \n",
       "17                                          -0.056701       \n",
       "18                                           1.000000       "
      ]
     },
     "execution_count": 17,
     "metadata": {},
     "output_type": "execute_result"
    }
   ],
   "source": [
    "pd.DataFrame({'Category': list(df.columns.values), \n",
    "             'Difference in Mean value between Healthy and Unhealthy' :\n",
    "              [np.mean(df[i][df['Healthy'] == 1]) - np.mean(df[i][df['Healthy'] == 0]) for i in list(df.columns.values)]})"
   ]
  },
  {
   "cell_type": "markdown",
   "metadata": {},
   "source": [
    "## t-test on Longevity Insurance"
   ]
  },
  {
   "cell_type": "code",
   "execution_count": 18,
   "metadata": {
    "scrolled": true
   },
   "outputs": [
    {
     "name": "stdout",
     "output_type": "stream",
     "text": [
      "0.8888888888888888\n"
     ]
    }
   ],
   "source": [
    "mean_ins_h = np.mean(df['Longevity insurance'][df['Healthy'] == 1])\n",
    "print(mean_ins_h)"
   ]
  },
  {
   "cell_type": "code",
   "execution_count": 19,
   "metadata": {},
   "outputs": [
    {
     "name": "stdout",
     "output_type": "stream",
     "text": [
      "0.5876288659793815\n"
     ]
    }
   ],
   "source": [
    "mean_ins_u = np.mean(df['Longevity insurance'][df['Healthy'] == 0])\n",
    "print(mean_ins_u)"
   ]
  },
  {
   "cell_type": "code",
   "execution_count": 20,
   "metadata": {},
   "outputs": [
    {
     "data": {
      "text/plain": [
       "0.3012600229095074"
      ]
     },
     "execution_count": 20,
     "metadata": {},
     "output_type": "execute_result"
    }
   ],
   "source": [
    "mean_diff = mean_ins_h - mean_ins_u\n",
    "mean_diff"
   ]
  },
  {
   "cell_type": "code",
   "execution_count": 21,
   "metadata": {},
   "outputs": [],
   "source": [
    "standard_error = np.sqrt((mean_ins_h * (1 - mean_ins_h) / np.sum(df['Healthy'] == 1)) +  \n",
    "                         (mean_ins_u * (1 - mean_ins_u) / np.sum(df['Healthy'] == 0)))"
   ]
  },
  {
   "cell_type": "code",
   "execution_count": 22,
   "metadata": {},
   "outputs": [],
   "source": [
    "test_statistics = mean_diff / standard_error\n",
    "alpha = 0.05"
   ]
  },
  {
   "cell_type": "code",
   "execution_count": 23,
   "metadata": {},
   "outputs": [
    {
     "data": {
      "text/plain": [
       "3.3713251954732786"
      ]
     },
     "execution_count": 23,
     "metadata": {},
     "output_type": "execute_result"
    }
   ],
   "source": [
    "test_statistics"
   ]
  },
  {
   "cell_type": "code",
   "execution_count": 25,
   "metadata": {},
   "outputs": [
    {
     "name": "stdout",
     "output_type": "stream",
     "text": [
      "0.0010246682885770575\n"
     ]
    }
   ],
   "source": [
    "from scipy.stats import t\n",
    "p_value = (1 - t.cdf(test_statistics, len(df) - 2))*2\n",
    "print(p_value)"
   ]
  },
  {
   "cell_type": "markdown",
   "metadata": {},
   "source": [
    "## Power analysis"
   ]
  },
  {
   "cell_type": "code",
   "execution_count": 26,
   "metadata": {},
   "outputs": [],
   "source": [
    "import numpy as np\n",
    "import pandas as pd\n",
    "from statsmodels.stats.power import TTestIndPower\n",
    "from scipy.stats import ttest_ind\n",
    "import seaborn as sns\n",
    "import matplotlib.pyplot as plt"
   ]
  },
  {
   "cell_type": "code",
   "execution_count": 27,
   "metadata": {},
   "outputs": [
    {
     "name": "stdout",
     "output_type": "stream",
     "text": [
      "Required sample size: 153.91\n"
     ]
    }
   ],
   "source": [
    "effect_size = mean_diff\n",
    "alpha = 0.05 # significance level\n",
    "power = 0.75\n",
    "\n",
    "power_analysis = TTestIndPower()\n",
    "sample_size = power_analysis.solve_power(effect_size = effect_size, \n",
    "                                         power = power, \n",
    "                                         alpha = alpha)\n",
    "\n",
    "print('Required sample size: {0:.2f}'.format(sample_size))"
   ]
  },
  {
   "cell_type": "code",
   "execution_count": 28,
   "metadata": {},
   "outputs": [
    {
     "data": {
      "image/png": "[encoded data removed]",
      "text/plain": [
       "<Figure size 576x396 with 2 Axes>"
      ]
     },
     "metadata": {},
     "output_type": "display_data"
    }
   ],
   "source": [
    "plt.style.use('seaborn')\n",
    "fig = plt.figure()\n",
    "ax = fig.add_subplot(2,1,1)\n",
    "fig = TTestIndPower().plot_power(dep_var='nobs',\n",
    "                                 nobs= np.arange(2, 200),\n",
    "                                 effect_size=np.array([0.2, 0.5, 0.8]),\n",
    "                                 alpha=0.01,\n",
    "                                 ax=ax, title='Power of t-Test' + '\\n' + r'$\\alpha = 0.01$')\n",
    "ax.get_legend().remove()\n",
    "ax = fig.add_subplot(2,1,2)\n",
    "fig = TTestIndPower().plot_power(dep_var='nobs',\n",
    "                                 nobs= np.arange(2, 200),\n",
    "                                 effect_size=np.array([0.2, 0.5, 0.8]),\n",
    "                                 alpha=0.05,\n",
    "                                 ax=ax, title=r'$\\alpha = 0.05$') \n",
    "fig.subplots_adjust(top = 2.5)"
   ]
  },
  {
   "cell_type": "markdown",
   "metadata": {},
   "source": [
    "## Run a PDSLasso"
   ]
  },
  {
   "cell_type": "code",
   "execution_count": 29,
   "metadata": {},
   "outputs": [],
   "source": [
    "from sklearn.linear_model import LogisticRegression"
   ]
  },
  {
   "cell_type": "code",
   "execution_count": 30,
   "metadata": {},
   "outputs": [
    {
     "data": {
      "text/plain": [
       "Age                     0\n",
       "Fruit                   0\n",
       "Vegetable               0\n",
       "Red meat                0\n",
       "Fish                    0\n",
       "Egg                     0\n",
       "Snacks                  0\n",
       "Junk                    0\n",
       "Ready to eat/drink      0\n",
       "Alcohol                 0\n",
       "Subjective health       3\n",
       "Contains plastic        4\n",
       "Chocolate box?          0\n",
       "Optimistic              0\n",
       "Level of concern       10\n",
       "Longevity insurance     0\n",
       "Cash inflow             5\n",
       "Male                    0\n",
       "Healthy                 0\n",
       "dtype: int64"
      ]
     },
     "execution_count": 30,
     "metadata": {},
     "output_type": "execute_result"
    }
   ],
   "source": [
    "df.isnull().sum()"
   ]
  },
  {
   "cell_type": "code",
   "execution_count": 31,
   "metadata": {},
   "outputs": [],
   "source": [
    "df.fillna(df.median(), inplace=True)"
   ]
  },
  {
   "cell_type": "code",
   "execution_count": 32,
   "metadata": {},
   "outputs": [
    {
     "data": {
      "text/plain": [
       "Age                    0\n",
       "Fruit                  0\n",
       "Vegetable              0\n",
       "Red meat               0\n",
       "Fish                   0\n",
       "Egg                    0\n",
       "Snacks                 0\n",
       "Junk                   0\n",
       "Ready to eat/drink     0\n",
       "Alcohol                0\n",
       "Subjective health      0\n",
       "Contains plastic       0\n",
       "Chocolate box?         0\n",
       "Optimistic             0\n",
       "Level of concern       0\n",
       "Longevity insurance    0\n",
       "Cash inflow            0\n",
       "Male                   0\n",
       "Healthy                0\n",
       "dtype: int64"
      ]
     },
     "execution_count": 32,
     "metadata": {},
     "output_type": "execute_result"
    }
   ],
   "source": [
    "df.isnull().sum()"
   ]
  },
  {
   "cell_type": "code",
   "execution_count": 33,
   "metadata": {},
   "outputs": [
    {
     "data": {
      "text/html": [
       "<div>\n",
       "<style scoped>\n",
       "    .dataframe tbody tr th:only-of-type {\n",
       "        vertical-align: middle;\n",
       "    }\n",
       "\n",
       "    .dataframe tbody tr th {\n",
       "        vertical-align: top;\n",
       "    }\n",
       "\n",
       "    .dataframe thead th {\n",
       "        text-align: right;\n",
       "    }\n",
       "</style>\n",
       "<table border=\"1\" class=\"dataframe\">\n",
       "  <thead>\n",
       "    <tr style=\"text-align: right;\">\n",
       "      <th></th>\n",
       "      <th>Age</th>\n",
       "      <th>Fruit</th>\n",
       "      <th>Vegetable</th>\n",
       "      <th>Red meat</th>\n",
       "      <th>Fish</th>\n",
       "      <th>Egg</th>\n",
       "      <th>Snacks</th>\n",
       "      <th>Junk</th>\n",
       "      <th>Ready to eat/drink</th>\n",
       "      <th>Alcohol</th>\n",
       "      <th>Subjective health</th>\n",
       "      <th>Contains plastic</th>\n",
       "      <th>Chocolate box?</th>\n",
       "      <th>Optimistic</th>\n",
       "      <th>Level of concern</th>\n",
       "      <th>Longevity insurance</th>\n",
       "      <th>Cash inflow</th>\n",
       "      <th>Male</th>\n",
       "      <th>Healthy</th>\n",
       "    </tr>\n",
       "  </thead>\n",
       "  <tbody>\n",
       "    <tr>\n",
       "      <th>0</th>\n",
       "      <td>1</td>\n",
       "      <td>4</td>\n",
       "      <td>2</td>\n",
       "      <td>5</td>\n",
       "      <td>4</td>\n",
       "      <td>5</td>\n",
       "      <td>5</td>\n",
       "      <td>1</td>\n",
       "      <td>1</td>\n",
       "      <td>3</td>\n",
       "      <td>4.0</td>\n",
       "      <td>2.0</td>\n",
       "      <td>1</td>\n",
       "      <td>1</td>\n",
       "      <td>5.0</td>\n",
       "      <td>0</td>\n",
       "      <td>1500.0</td>\n",
       "      <td>0</td>\n",
       "      <td>0</td>\n",
       "    </tr>\n",
       "    <tr>\n",
       "      <th>1</th>\n",
       "      <td>1</td>\n",
       "      <td>5</td>\n",
       "      <td>5</td>\n",
       "      <td>3</td>\n",
       "      <td>2</td>\n",
       "      <td>2</td>\n",
       "      <td>1</td>\n",
       "      <td>1</td>\n",
       "      <td>2</td>\n",
       "      <td>1</td>\n",
       "      <td>5.0</td>\n",
       "      <td>3.0</td>\n",
       "      <td>1</td>\n",
       "      <td>1</td>\n",
       "      <td>5.0</td>\n",
       "      <td>1</td>\n",
       "      <td>700.0</td>\n",
       "      <td>1</td>\n",
       "      <td>0</td>\n",
       "    </tr>\n",
       "    <tr>\n",
       "      <th>2</th>\n",
       "      <td>1</td>\n",
       "      <td>5</td>\n",
       "      <td>4</td>\n",
       "      <td>3</td>\n",
       "      <td>4</td>\n",
       "      <td>1</td>\n",
       "      <td>1</td>\n",
       "      <td>1</td>\n",
       "      <td>2</td>\n",
       "      <td>1</td>\n",
       "      <td>4.0</td>\n",
       "      <td>1.0</td>\n",
       "      <td>1</td>\n",
       "      <td>0</td>\n",
       "      <td>3.0</td>\n",
       "      <td>1</td>\n",
       "      <td>0.0</td>\n",
       "      <td>0</td>\n",
       "      <td>0</td>\n",
       "    </tr>\n",
       "    <tr>\n",
       "      <th>3</th>\n",
       "      <td>2</td>\n",
       "      <td>5</td>\n",
       "      <td>4</td>\n",
       "      <td>4</td>\n",
       "      <td>2</td>\n",
       "      <td>5</td>\n",
       "      <td>5</td>\n",
       "      <td>3</td>\n",
       "      <td>3</td>\n",
       "      <td>3</td>\n",
       "      <td>3.0</td>\n",
       "      <td>3.0</td>\n",
       "      <td>1</td>\n",
       "      <td>1</td>\n",
       "      <td>4.0</td>\n",
       "      <td>0</td>\n",
       "      <td>6000.0</td>\n",
       "      <td>1</td>\n",
       "      <td>0</td>\n",
       "    </tr>\n",
       "    <tr>\n",
       "      <th>4</th>\n",
       "      <td>1</td>\n",
       "      <td>2</td>\n",
       "      <td>2</td>\n",
       "      <td>3</td>\n",
       "      <td>2</td>\n",
       "      <td>3</td>\n",
       "      <td>2</td>\n",
       "      <td>2</td>\n",
       "      <td>2</td>\n",
       "      <td>5</td>\n",
       "      <td>3.0</td>\n",
       "      <td>3.0</td>\n",
       "      <td>1</td>\n",
       "      <td>0</td>\n",
       "      <td>4.0</td>\n",
       "      <td>0</td>\n",
       "      <td>0.0</td>\n",
       "      <td>0</td>\n",
       "      <td>0</td>\n",
       "    </tr>\n",
       "  </tbody>\n",
       "</table>\n",
       "</div>"
      ],
      "text/plain": [
       "   Age  Fruit  Vegetable  Red meat  Fish  Egg  Snacks  Junk  \\\n",
       "0    1      4          2         5     4    5       5     1   \n",
       "1    1      5          5         3     2    2       1     1   \n",
       "2    1      5          4         3     4    1       1     1   \n",
       "3    2      5          4         4     2    5       5     3   \n",
       "4    1      2          2         3     2    3       2     2   \n",
       "\n",
       "   Ready to eat/drink  Alcohol  Subjective health  Contains plastic  \\\n",
       "0                   1        3                4.0               2.0   \n",
       "1                   2        1                5.0               3.0   \n",
       "2                   2        1                4.0               1.0   \n",
       "3                   3        3                3.0               3.0   \n",
       "4                   2        5                3.0               3.0   \n",
       "\n",
       "   Chocolate box?  Optimistic  Level of concern  Longevity insurance  \\\n",
       "0               1           1               5.0                    0   \n",
       "1               1           1               5.0                    1   \n",
       "2               1           0               3.0                    1   \n",
       "3               1           1               4.0                    0   \n",
       "4               1           0               4.0                    0   \n",
       "\n",
       "   Cash inflow  Male  Healthy  \n",
       "0       1500.0     0        0  \n",
       "1        700.0     1        0  \n",
       "2          0.0     0        0  \n",
       "3       6000.0     1        0  \n",
       "4          0.0     0        0  "
      ]
     },
     "execution_count": 33,
     "metadata": {},
     "output_type": "execute_result"
    }
   ],
   "source": [
    "df.head(5)"
   ]
  },
  {
   "cell_type": "markdown",
   "metadata": {},
   "source": [
    "### Standardize at first"
   ]
  },
  {
   "cell_type": "code",
   "execution_count": 34,
   "metadata": {},
   "outputs": [],
   "source": [
    "from sklearn.preprocessing import MinMaxScaler"
   ]
  },
  {
   "cell_type": "code",
   "execution_count": 35,
   "metadata": {},
   "outputs": [
    {
     "data": {
      "text/plain": [
       "['Optimistic', 'Longevity insurance', 'Chocolate box?', 'Male', 'Healthy']"
      ]
     },
     "execution_count": 35,
     "metadata": {},
     "output_type": "execute_result"
    }
   ],
   "source": [
    "to_standardize = ['Age', 'Fruit', 'Vegetable', 'Red meat', 'Fish', 'Egg', 'Snacks', 'Junk', 'Ready to eat/drink',\n",
    "                    'Alcohol', 'Subjective health', 'Contains plastic', 'Level of concern', 'Cash inflow']\n",
    "not_to_standardize = list(set(list(df.columns.values)) - set(to_standardize))\n",
    "not_to_standardize"
   ]
  },
  {
   "cell_type": "code",
   "execution_count": 36,
   "metadata": {},
   "outputs": [
    {
     "name": "stderr",
     "output_type": "stream",
     "text": [
      "C:\\Users\\Pc_User\\Anaconda3\\envs\\cs7643\\lib\\site-packages\\sklearn\\preprocessing\\data.py:323: DataConversionWarning: Data with input dtype int64, float64 were all converted to float64 by MinMaxScaler.\n",
      "  return self.partial_fit(X, y)\n"
     ]
    }
   ],
   "source": [
    "mm = MinMaxScaler()\n",
    "df_std = pd.concat([pd.DataFrame(mm.fit_transform(df[to_standardize]), columns = to_standardize, index=df.index), df[not_to_standardize]], axis=1)"
   ]
  },
  {
   "cell_type": "code",
   "execution_count": 37,
   "metadata": {},
   "outputs": [
    {
     "data": {
      "text/html": [
       "<div>\n",
       "<style scoped>\n",
       "    .dataframe tbody tr th:only-of-type {\n",
       "        vertical-align: middle;\n",
       "    }\n",
       "\n",
       "    .dataframe tbody tr th {\n",
       "        vertical-align: top;\n",
       "    }\n",
       "\n",
       "    .dataframe thead th {\n",
       "        text-align: right;\n",
       "    }\n",
       "</style>\n",
       "<table border=\"1\" class=\"dataframe\">\n",
       "  <thead>\n",
       "    <tr style=\"text-align: right;\">\n",
       "      <th></th>\n",
       "      <th>Age</th>\n",
       "      <th>Fruit</th>\n",
       "      <th>Vegetable</th>\n",
       "      <th>Red meat</th>\n",
       "      <th>Fish</th>\n",
       "      <th>Egg</th>\n",
       "      <th>Snacks</th>\n",
       "      <th>Junk</th>\n",
       "      <th>Ready to eat/drink</th>\n",
       "      <th>Alcohol</th>\n",
       "      <th>Subjective health</th>\n",
       "      <th>Contains plastic</th>\n",
       "      <th>Level of concern</th>\n",
       "      <th>Cash inflow</th>\n",
       "      <th>Optimistic</th>\n",
       "      <th>Longevity insurance</th>\n",
       "      <th>Chocolate box?</th>\n",
       "      <th>Male</th>\n",
       "      <th>Healthy</th>\n",
       "    </tr>\n",
       "  </thead>\n",
       "  <tbody>\n",
       "    <tr>\n",
       "      <th>0</th>\n",
       "      <td>0.142857</td>\n",
       "      <td>0.75</td>\n",
       "      <td>0.25</td>\n",
       "      <td>1.00</td>\n",
       "      <td>0.75</td>\n",
       "      <td>1.00</td>\n",
       "      <td>1.00</td>\n",
       "      <td>0.00</td>\n",
       "      <td>0.00</td>\n",
       "      <td>0.5</td>\n",
       "      <td>0.75</td>\n",
       "      <td>0.25</td>\n",
       "      <td>1.00</td>\n",
       "      <td>0.15</td>\n",
       "      <td>1</td>\n",
       "      <td>0</td>\n",
       "      <td>1</td>\n",
       "      <td>0</td>\n",
       "      <td>0</td>\n",
       "    </tr>\n",
       "    <tr>\n",
       "      <th>1</th>\n",
       "      <td>0.142857</td>\n",
       "      <td>1.00</td>\n",
       "      <td>1.00</td>\n",
       "      <td>0.50</td>\n",
       "      <td>0.25</td>\n",
       "      <td>0.25</td>\n",
       "      <td>0.00</td>\n",
       "      <td>0.00</td>\n",
       "      <td>0.25</td>\n",
       "      <td>0.0</td>\n",
       "      <td>1.00</td>\n",
       "      <td>0.50</td>\n",
       "      <td>1.00</td>\n",
       "      <td>0.07</td>\n",
       "      <td>1</td>\n",
       "      <td>1</td>\n",
       "      <td>1</td>\n",
       "      <td>1</td>\n",
       "      <td>0</td>\n",
       "    </tr>\n",
       "    <tr>\n",
       "      <th>2</th>\n",
       "      <td>0.142857</td>\n",
       "      <td>1.00</td>\n",
       "      <td>0.75</td>\n",
       "      <td>0.50</td>\n",
       "      <td>0.75</td>\n",
       "      <td>0.00</td>\n",
       "      <td>0.00</td>\n",
       "      <td>0.00</td>\n",
       "      <td>0.25</td>\n",
       "      <td>0.0</td>\n",
       "      <td>0.75</td>\n",
       "      <td>0.00</td>\n",
       "      <td>0.50</td>\n",
       "      <td>0.00</td>\n",
       "      <td>0</td>\n",
       "      <td>1</td>\n",
       "      <td>1</td>\n",
       "      <td>0</td>\n",
       "      <td>0</td>\n",
       "    </tr>\n",
       "    <tr>\n",
       "      <th>3</th>\n",
       "      <td>0.285714</td>\n",
       "      <td>1.00</td>\n",
       "      <td>0.75</td>\n",
       "      <td>0.75</td>\n",
       "      <td>0.25</td>\n",
       "      <td>1.00</td>\n",
       "      <td>1.00</td>\n",
       "      <td>0.50</td>\n",
       "      <td>0.50</td>\n",
       "      <td>0.5</td>\n",
       "      <td>0.50</td>\n",
       "      <td>0.50</td>\n",
       "      <td>0.75</td>\n",
       "      <td>0.60</td>\n",
       "      <td>1</td>\n",
       "      <td>0</td>\n",
       "      <td>1</td>\n",
       "      <td>1</td>\n",
       "      <td>0</td>\n",
       "    </tr>\n",
       "    <tr>\n",
       "      <th>4</th>\n",
       "      <td>0.142857</td>\n",
       "      <td>0.25</td>\n",
       "      <td>0.25</td>\n",
       "      <td>0.50</td>\n",
       "      <td>0.25</td>\n",
       "      <td>0.50</td>\n",
       "      <td>0.25</td>\n",
       "      <td>0.25</td>\n",
       "      <td>0.25</td>\n",
       "      <td>1.0</td>\n",
       "      <td>0.50</td>\n",
       "      <td>0.50</td>\n",
       "      <td>0.75</td>\n",
       "      <td>0.00</td>\n",
       "      <td>0</td>\n",
       "      <td>0</td>\n",
       "      <td>1</td>\n",
       "      <td>0</td>\n",
       "      <td>0</td>\n",
       "    </tr>\n",
       "  </tbody>\n",
       "</table>\n",
       "</div>"
      ],
      "text/plain": [
       "        Age  Fruit  Vegetable  Red meat  Fish   Egg  Snacks  Junk  \\\n",
       "0  0.142857   0.75       0.25      1.00  0.75  1.00    1.00  0.00   \n",
       "1  0.142857   1.00       1.00      0.50  0.25  0.25    0.00  0.00   \n",
       "2  0.142857   1.00       0.75      0.50  0.75  0.00    0.00  0.00   \n",
       "3  0.285714   1.00       0.75      0.75  0.25  1.00    1.00  0.50   \n",
       "4  0.142857   0.25       0.25      0.50  0.25  0.50    0.25  0.25   \n",
       "\n",
       "   Ready to eat/drink  Alcohol  Subjective health  Contains plastic  \\\n",
       "0                0.00      0.5               0.75              0.25   \n",
       "1                0.25      0.0               1.00              0.50   \n",
       "2                0.25      0.0               0.75              0.00   \n",
       "3                0.50      0.5               0.50              0.50   \n",
       "4                0.25      1.0               0.50              0.50   \n",
       "\n",
       "   Level of concern  Cash inflow  Optimistic  Longevity insurance  \\\n",
       "0              1.00         0.15           1                    0   \n",
       "1              1.00         0.07           1                    1   \n",
       "2              0.50         0.00           0                    1   \n",
       "3              0.75         0.60           1                    0   \n",
       "4              0.75         0.00           0                    0   \n",
       "\n",
       "   Chocolate box?  Male  Healthy  \n",
       "0               1     0        0  \n",
       "1               1     1        0  \n",
       "2               1     0        0  \n",
       "3               1     1        0  \n",
       "4               1     0        0  "
      ]
     },
     "execution_count": 37,
     "metadata": {},
     "output_type": "execute_result"
    }
   ],
   "source": [
    "df_std.head(5)"
   ]
  },
  {
   "cell_type": "markdown",
   "metadata": {},
   "source": [
    "### Combine Longevity insurance with Level of concern, Optimism and \"Chocolate box\""
   ]
  },
  {
   "cell_type": "code",
   "execution_count": 38,
   "metadata": {},
   "outputs": [],
   "source": [
    "df['Longevity insurance'] = np.squeeze(mm.fit_transform(np.array(df['Longevity insurance'] + df['Optimistic'] * 0.2 + df['Chocolate box?'] * 0.2 - df['Level of concern'] * 0.2).reshape(-1, 1)))"
   ]
  },
  {
   "cell_type": "code",
   "execution_count": 39,
   "metadata": {},
   "outputs": [],
   "source": [
    "X = df.drop(['Longevity insurance', 'Optimistic', 'Chocolate box?', 'Level of concern'], axis=1)\n",
    "y = df['Longevity insurance']"
   ]
  },
  {
   "cell_type": "markdown",
   "metadata": {},
   "source": [
    "## First step"
   ]
  },
  {
   "cell_type": "markdown",
   "metadata": {},
   "source": [
    "### Lasso of Longevity insurance on controls"
   ]
  },
  {
   "cell_type": "code",
   "execution_count": 40,
   "metadata": {},
   "outputs": [
    {
     "data": {
      "text/plain": [
       "array([ 0.00000000e+00,  0.00000000e+00,  1.62717695e-02, -0.00000000e+00,\n",
       "        0.00000000e+00, -0.00000000e+00, -0.00000000e+00, -0.00000000e+00,\n",
       "       -0.00000000e+00, -1.62250740e-04,  0.00000000e+00, -0.00000000e+00,\n",
       "       -2.17861226e-05, -0.00000000e+00,  0.00000000e+00])"
      ]
     },
     "execution_count": 40,
     "metadata": {},
     "output_type": "execute_result"
    }
   ],
   "source": [
    "from sklearn.linear_model import LassoCV\n",
    "from sklearn.linear_model import Lasso\n",
    "\n",
    "lasso = Lasso(0.07, random_state=0)\n",
    "lasso.fit(X, y)\n",
    "lasso.coef_"
   ]
  },
  {
   "cell_type": "code",
   "execution_count": 41,
   "metadata": {},
   "outputs": [
    {
     "data": {
      "text/html": [
       "<div>\n",
       "<style scoped>\n",
       "    .dataframe tbody tr th:only-of-type {\n",
       "        vertical-align: middle;\n",
       "    }\n",
       "\n",
       "    .dataframe tbody tr th {\n",
       "        vertical-align: top;\n",
       "    }\n",
       "\n",
       "    .dataframe thead th {\n",
       "        text-align: right;\n",
       "    }\n",
       "</style>\n",
       "<table border=\"1\" class=\"dataframe\">\n",
       "  <thead>\n",
       "    <tr style=\"text-align: right;\">\n",
       "      <th></th>\n",
       "      <th>Variable</th>\n",
       "      <th>Coefficient</th>\n",
       "    </tr>\n",
       "  </thead>\n",
       "  <tbody>\n",
       "    <tr>\n",
       "      <th>0</th>\n",
       "      <td>Age</td>\n",
       "      <td>0.000000</td>\n",
       "    </tr>\n",
       "    <tr>\n",
       "      <th>1</th>\n",
       "      <td>Fruit</td>\n",
       "      <td>0.000000</td>\n",
       "    </tr>\n",
       "    <tr>\n",
       "      <th>2</th>\n",
       "      <td>Vegetable</td>\n",
       "      <td>0.016272</td>\n",
       "    </tr>\n",
       "    <tr>\n",
       "      <th>3</th>\n",
       "      <td>Red meat</td>\n",
       "      <td>-0.000000</td>\n",
       "    </tr>\n",
       "    <tr>\n",
       "      <th>4</th>\n",
       "      <td>Fish</td>\n",
       "      <td>0.000000</td>\n",
       "    </tr>\n",
       "    <tr>\n",
       "      <th>5</th>\n",
       "      <td>Egg</td>\n",
       "      <td>-0.000000</td>\n",
       "    </tr>\n",
       "    <tr>\n",
       "      <th>6</th>\n",
       "      <td>Snacks</td>\n",
       "      <td>-0.000000</td>\n",
       "    </tr>\n",
       "    <tr>\n",
       "      <th>7</th>\n",
       "      <td>Junk</td>\n",
       "      <td>-0.000000</td>\n",
       "    </tr>\n",
       "    <tr>\n",
       "      <th>8</th>\n",
       "      <td>Ready to eat/drink</td>\n",
       "      <td>-0.000000</td>\n",
       "    </tr>\n",
       "    <tr>\n",
       "      <th>9</th>\n",
       "      <td>Alcohol</td>\n",
       "      <td>-0.000162</td>\n",
       "    </tr>\n",
       "    <tr>\n",
       "      <th>10</th>\n",
       "      <td>Subjective health</td>\n",
       "      <td>0.000000</td>\n",
       "    </tr>\n",
       "    <tr>\n",
       "      <th>11</th>\n",
       "      <td>Contains plastic</td>\n",
       "      <td>-0.000000</td>\n",
       "    </tr>\n",
       "    <tr>\n",
       "      <th>12</th>\n",
       "      <td>Cash inflow</td>\n",
       "      <td>-0.000022</td>\n",
       "    </tr>\n",
       "    <tr>\n",
       "      <th>13</th>\n",
       "      <td>Male</td>\n",
       "      <td>-0.000000</td>\n",
       "    </tr>\n",
       "    <tr>\n",
       "      <th>14</th>\n",
       "      <td>Healthy</td>\n",
       "      <td>0.000000</td>\n",
       "    </tr>\n",
       "  </tbody>\n",
       "</table>\n",
       "</div>"
      ],
      "text/plain": [
       "              Variable  Coefficient\n",
       "0                  Age     0.000000\n",
       "1                Fruit     0.000000\n",
       "2            Vegetable     0.016272\n",
       "3             Red meat    -0.000000\n",
       "4                 Fish     0.000000\n",
       "5                  Egg    -0.000000\n",
       "6               Snacks    -0.000000\n",
       "7                 Junk    -0.000000\n",
       "8   Ready to eat/drink    -0.000000\n",
       "9              Alcohol    -0.000162\n",
       "10   Subjective health     0.000000\n",
       "11    Contains plastic    -0.000000\n",
       "12         Cash inflow    -0.000022\n",
       "13                Male    -0.000000\n",
       "14             Healthy     0.000000"
      ]
     },
     "execution_count": 41,
     "metadata": {},
     "output_type": "execute_result"
    }
   ],
   "source": [
    "first = pd.DataFrame({'Variable': X.columns, 'Coefficient': lasso.coef_})\n",
    "first"
   ]
  },
  {
   "cell_type": "code",
   "execution_count": 42,
   "metadata": {},
   "outputs": [
    {
     "name": "stdout",
     "output_type": "stream",
     "text": [
      "2       Vegetable\n",
      "9         Alcohol\n",
      "12    Cash inflow\n",
      "Name: Variable, dtype: object\n"
     ]
    }
   ],
   "source": [
    "print(first['Variable'][first['Coefficient'] != 0])"
   ]
  },
  {
   "cell_type": "markdown",
   "metadata": {},
   "source": [
    "## Second step"
   ]
  },
  {
   "cell_type": "markdown",
   "metadata": {},
   "source": [
    "### Lasso of Healthy on controls"
   ]
  },
  {
   "cell_type": "code",
   "execution_count": 43,
   "metadata": {},
   "outputs": [
    {
     "data": {
      "text/plain": [
       "array(['Age', 'Fruit', 'Vegetable', 'Red meat', 'Fish', 'Egg', 'Snacks',\n",
       "       'Junk', 'Ready to eat/drink', 'Alcohol', 'Subjective health',\n",
       "       'Contains plastic', 'Chocolate box?', 'Optimistic',\n",
       "       'Level of concern', 'Longevity insurance', 'Cash inflow', 'Male',\n",
       "       'Healthy'], dtype=object)"
      ]
     },
     "execution_count": 43,
     "metadata": {},
     "output_type": "execute_result"
    }
   ],
   "source": [
    "df.columns.values"
   ]
  },
  {
   "cell_type": "code",
   "execution_count": 44,
   "metadata": {},
   "outputs": [],
   "source": [
    "y = df['Healthy']\n",
    "X = X.drop(['Healthy'], axis=1)"
   ]
  },
  {
   "cell_type": "code",
   "execution_count": 45,
   "metadata": {},
   "outputs": [
    {
     "data": {
      "text/plain": [
       "Lasso(alpha=0.5, copy_X=True, fit_intercept=True, max_iter=1000,\n",
       "   normalize=False, positive=False, precompute=False, random_state=0,\n",
       "   selection='cyclic', tol=0.0001, warm_start=False)"
      ]
     },
     "execution_count": 45,
     "metadata": {},
     "output_type": "execute_result"
    }
   ],
   "source": [
    "lasso = Lasso(0.5, random_state=0)\n",
    "lasso.fit(X, y)"
   ]
  },
  {
   "cell_type": "code",
   "execution_count": 46,
   "metadata": {},
   "outputs": [
    {
     "data": {
      "text/html": [
       "<div>\n",
       "<style scoped>\n",
       "    .dataframe tbody tr th:only-of-type {\n",
       "        vertical-align: middle;\n",
       "    }\n",
       "\n",
       "    .dataframe tbody tr th {\n",
       "        vertical-align: top;\n",
       "    }\n",
       "\n",
       "    .dataframe thead th {\n",
       "        text-align: right;\n",
       "    }\n",
       "</style>\n",
       "<table border=\"1\" class=\"dataframe\">\n",
       "  <thead>\n",
       "    <tr style=\"text-align: right;\">\n",
       "      <th></th>\n",
       "      <th>Variable</th>\n",
       "      <th>Coefficient</th>\n",
       "    </tr>\n",
       "  </thead>\n",
       "  <tbody>\n",
       "    <tr>\n",
       "      <th>0</th>\n",
       "      <td>Age</td>\n",
       "      <td>-0.000000</td>\n",
       "    </tr>\n",
       "    <tr>\n",
       "      <th>1</th>\n",
       "      <td>Fruit</td>\n",
       "      <td>0.000000</td>\n",
       "    </tr>\n",
       "    <tr>\n",
       "      <th>2</th>\n",
       "      <td>Vegetable</td>\n",
       "      <td>0.000000</td>\n",
       "    </tr>\n",
       "    <tr>\n",
       "      <th>3</th>\n",
       "      <td>Red meat</td>\n",
       "      <td>-0.000000</td>\n",
       "    </tr>\n",
       "    <tr>\n",
       "      <th>4</th>\n",
       "      <td>Fish</td>\n",
       "      <td>0.000000</td>\n",
       "    </tr>\n",
       "    <tr>\n",
       "      <th>5</th>\n",
       "      <td>Egg</td>\n",
       "      <td>0.000000</td>\n",
       "    </tr>\n",
       "    <tr>\n",
       "      <th>6</th>\n",
       "      <td>Snacks</td>\n",
       "      <td>-0.000000</td>\n",
       "    </tr>\n",
       "    <tr>\n",
       "      <th>7</th>\n",
       "      <td>Junk</td>\n",
       "      <td>-0.000000</td>\n",
       "    </tr>\n",
       "    <tr>\n",
       "      <th>8</th>\n",
       "      <td>Ready to eat/drink</td>\n",
       "      <td>-0.000000</td>\n",
       "    </tr>\n",
       "    <tr>\n",
       "      <th>9</th>\n",
       "      <td>Alcohol</td>\n",
       "      <td>-0.000000</td>\n",
       "    </tr>\n",
       "    <tr>\n",
       "      <th>10</th>\n",
       "      <td>Subjective health</td>\n",
       "      <td>0.000000</td>\n",
       "    </tr>\n",
       "    <tr>\n",
       "      <th>11</th>\n",
       "      <td>Contains plastic</td>\n",
       "      <td>-0.000000</td>\n",
       "    </tr>\n",
       "    <tr>\n",
       "      <th>12</th>\n",
       "      <td>Cash inflow</td>\n",
       "      <td>0.000021</td>\n",
       "    </tr>\n",
       "    <tr>\n",
       "      <th>13</th>\n",
       "      <td>Male</td>\n",
       "      <td>-0.000000</td>\n",
       "    </tr>\n",
       "  </tbody>\n",
       "</table>\n",
       "</div>"
      ],
      "text/plain": [
       "              Variable  Coefficient\n",
       "0                  Age    -0.000000\n",
       "1                Fruit     0.000000\n",
       "2            Vegetable     0.000000\n",
       "3             Red meat    -0.000000\n",
       "4                 Fish     0.000000\n",
       "5                  Egg     0.000000\n",
       "6               Snacks    -0.000000\n",
       "7                 Junk    -0.000000\n",
       "8   Ready to eat/drink    -0.000000\n",
       "9              Alcohol    -0.000000\n",
       "10   Subjective health     0.000000\n",
       "11    Contains plastic    -0.000000\n",
       "12         Cash inflow     0.000021\n",
       "13                Male    -0.000000"
      ]
     },
     "execution_count": 46,
     "metadata": {},
     "output_type": "execute_result"
    }
   ],
   "source": [
    "second = pd.DataFrame({'Variable': X.columns, 'Coefficient': lasso.coef_})\n",
    "second"
   ]
  },
  {
   "cell_type": "code",
   "execution_count": 47,
   "metadata": {},
   "outputs": [
    {
     "name": "stdout",
     "output_type": "stream",
     "text": [
      "12    Cash inflow\n",
      "Name: Variable, dtype: object\n"
     ]
    }
   ],
   "source": [
    "print(second['Variable'][second['Coefficient'] != 0])"
   ]
  },
  {
   "cell_type": "markdown",
   "metadata": {},
   "source": [
    "## Final step"
   ]
  },
  {
   "cell_type": "markdown",
   "metadata": {},
   "source": [
    "### LPM on the union of the regressor"
   ]
  },
  {
   "cell_type": "code",
   "execution_count": 48,
   "metadata": {},
   "outputs": [],
   "source": [
    "from sklearn.linear_model import LinearRegression"
   ]
  },
  {
   "cell_type": "code",
   "execution_count": 49,
   "metadata": {},
   "outputs": [
    {
     "data": {
      "text/plain": [
       "LinearRegression(copy_X=True, fit_intercept=True, n_jobs=None,\n",
       "         normalize=False)"
      ]
     },
     "execution_count": 49,
     "metadata": {},
     "output_type": "execute_result"
    }
   ],
   "source": [
    "lr = LinearRegression()\n",
    "X = df[['Vegetable', 'Cash inflow', 'Alcohol', 'Healthy']]\n",
    "y = df['Longevity insurance']\n",
    "lr.fit(X, y)"
   ]
  },
  {
   "cell_type": "code",
   "execution_count": 50,
   "metadata": {},
   "outputs": [
    {
     "data": {
      "text/html": [
       "<div>\n",
       "<style scoped>\n",
       "    .dataframe tbody tr th:only-of-type {\n",
       "        vertical-align: middle;\n",
       "    }\n",
       "\n",
       "    .dataframe tbody tr th {\n",
       "        vertical-align: top;\n",
       "    }\n",
       "\n",
       "    .dataframe thead th {\n",
       "        text-align: right;\n",
       "    }\n",
       "</style>\n",
       "<table border=\"1\" class=\"dataframe\">\n",
       "  <thead>\n",
       "    <tr style=\"text-align: right;\">\n",
       "      <th></th>\n",
       "      <th>Variable</th>\n",
       "      <th>Coefficient</th>\n",
       "    </tr>\n",
       "  </thead>\n",
       "  <tbody>\n",
       "    <tr>\n",
       "      <th>0</th>\n",
       "      <td>Vegetable</td>\n",
       "      <td>0.046043</td>\n",
       "    </tr>\n",
       "    <tr>\n",
       "      <th>1</th>\n",
       "      <td>Cash inflow</td>\n",
       "      <td>-0.000021</td>\n",
       "    </tr>\n",
       "    <tr>\n",
       "      <th>2</th>\n",
       "      <td>Alcohol</td>\n",
       "      <td>-0.022408</td>\n",
       "    </tr>\n",
       "    <tr>\n",
       "      <th>3</th>\n",
       "      <td>Healthy</td>\n",
       "      <td>0.041671</td>\n",
       "    </tr>\n",
       "  </tbody>\n",
       "</table>\n",
       "</div>"
      ],
      "text/plain": [
       "      Variable  Coefficient\n",
       "0    Vegetable     0.046043\n",
       "1  Cash inflow    -0.000021\n",
       "2      Alcohol    -0.022408\n",
       "3      Healthy     0.041671"
      ]
     },
     "execution_count": 50,
     "metadata": {},
     "output_type": "execute_result"
    }
   ],
   "source": [
    "final = pd.DataFrame({'Variable': X.columns, 'Coefficient': lr.coef_})\n",
    "final"
   ]
  },
  {
   "cell_type": "code",
   "execution_count": 51,
   "metadata": {
    "scrolled": true
   },
   "outputs": [
    {
     "data": {
      "text/html": [
       "<div>\n",
       "<style scoped>\n",
       "    .dataframe tbody tr th:only-of-type {\n",
       "        vertical-align: middle;\n",
       "    }\n",
       "\n",
       "    .dataframe tbody tr th {\n",
       "        vertical-align: top;\n",
       "    }\n",
       "\n",
       "    .dataframe thead th {\n",
       "        text-align: right;\n",
       "    }\n",
       "</style>\n",
       "<table border=\"1\" class=\"dataframe\">\n",
       "  <thead>\n",
       "    <tr style=\"text-align: right;\">\n",
       "      <th></th>\n",
       "      <th>Category</th>\n",
       "      <th>Mean value among those buying insurance</th>\n",
       "    </tr>\n",
       "  </thead>\n",
       "  <tbody>\n",
       "    <tr>\n",
       "      <th>0</th>\n",
       "      <td>Age</td>\n",
       "      <td>1.80</td>\n",
       "    </tr>\n",
       "    <tr>\n",
       "      <th>1</th>\n",
       "      <td>Fruit</td>\n",
       "      <td>4.20</td>\n",
       "    </tr>\n",
       "    <tr>\n",
       "      <th>2</th>\n",
       "      <td>Vegetable</td>\n",
       "      <td>4.40</td>\n",
       "    </tr>\n",
       "    <tr>\n",
       "      <th>3</th>\n",
       "      <td>Red meat</td>\n",
       "      <td>3.00</td>\n",
       "    </tr>\n",
       "    <tr>\n",
       "      <th>4</th>\n",
       "      <td>Fish</td>\n",
       "      <td>3.00</td>\n",
       "    </tr>\n",
       "    <tr>\n",
       "      <th>5</th>\n",
       "      <td>Egg</td>\n",
       "      <td>2.60</td>\n",
       "    </tr>\n",
       "    <tr>\n",
       "      <th>6</th>\n",
       "      <td>Snacks</td>\n",
       "      <td>2.60</td>\n",
       "    </tr>\n",
       "    <tr>\n",
       "      <th>7</th>\n",
       "      <td>Junk</td>\n",
       "      <td>1.40</td>\n",
       "    </tr>\n",
       "    <tr>\n",
       "      <th>8</th>\n",
       "      <td>Ready to eat/drink</td>\n",
       "      <td>1.80</td>\n",
       "    </tr>\n",
       "    <tr>\n",
       "      <th>9</th>\n",
       "      <td>Alcohol</td>\n",
       "      <td>2.60</td>\n",
       "    </tr>\n",
       "    <tr>\n",
       "      <th>10</th>\n",
       "      <td>Subjective health</td>\n",
       "      <td>3.40</td>\n",
       "    </tr>\n",
       "    <tr>\n",
       "      <th>11</th>\n",
       "      <td>Contains plastic</td>\n",
       "      <td>2.60</td>\n",
       "    </tr>\n",
       "    <tr>\n",
       "      <th>12</th>\n",
       "      <td>Chocolate box?</td>\n",
       "      <td>1.00</td>\n",
       "    </tr>\n",
       "    <tr>\n",
       "      <th>13</th>\n",
       "      <td>Optimistic</td>\n",
       "      <td>1.00</td>\n",
       "    </tr>\n",
       "    <tr>\n",
       "      <th>14</th>\n",
       "      <td>Level of concern</td>\n",
       "      <td>1.80</td>\n",
       "    </tr>\n",
       "    <tr>\n",
       "      <th>15</th>\n",
       "      <td>Longevity insurance</td>\n",
       "      <td>0.92</td>\n",
       "    </tr>\n",
       "    <tr>\n",
       "      <th>16</th>\n",
       "      <td>Cash inflow</td>\n",
       "      <td>1300.00</td>\n",
       "    </tr>\n",
       "    <tr>\n",
       "      <th>17</th>\n",
       "      <td>Male</td>\n",
       "      <td>0.60</td>\n",
       "    </tr>\n",
       "    <tr>\n",
       "      <th>18</th>\n",
       "      <td>Healthy</td>\n",
       "      <td>0.20</td>\n",
       "    </tr>\n",
       "  </tbody>\n",
       "</table>\n",
       "</div>"
      ],
      "text/plain": [
       "               Category  Mean value among those buying insurance\n",
       "0                   Age                                     1.80\n",
       "1                 Fruit                                     4.20\n",
       "2             Vegetable                                     4.40\n",
       "3              Red meat                                     3.00\n",
       "4                  Fish                                     3.00\n",
       "5                   Egg                                     2.60\n",
       "6                Snacks                                     2.60\n",
       "7                  Junk                                     1.40\n",
       "8    Ready to eat/drink                                     1.80\n",
       "9               Alcohol                                     2.60\n",
       "10    Subjective health                                     3.40\n",
       "11     Contains plastic                                     2.60\n",
       "12       Chocolate box?                                     1.00\n",
       "13           Optimistic                                     1.00\n",
       "14     Level of concern                                     1.80\n",
       "15  Longevity insurance                                     0.92\n",
       "16          Cash inflow                                  1300.00\n",
       "17                 Male                                     0.60\n",
       "18              Healthy                                     0.20"
      ]
     },
     "execution_count": 51,
     "metadata": {},
     "output_type": "execute_result"
    }
   ],
   "source": [
    "customer_persona = pd.DataFrame({'Category': list(df.columns.values), \n",
    "              'Mean value among those buying insurance' : [np.mean(df[cat][df['Longevity insurance'] > 0.8]) for cat in list(df.columns.values)]\n",
    "                                                                     })\n",
    "customer_persona.to_csv(\"C:/Users/Pc_User/Desktop/H-Farm/customer_persona.csv\")\n",
    "customer_persona"
   ]
  },
  {
   "cell_type": "markdown",
   "metadata": {},
   "source": [
    "## Instrumental variables"
   ]
  },
  {
   "cell_type": "markdown",
   "metadata": {},
   "source": [
    "### We realize that in our dataset we have collected variables which could work as instrumental variables, that could mitigate the omitted variable bias. For instance, all food categories are correlated with Longevity Insurance (relevance) and can impact it only through our main X (healthy). To verify this ask yourself, if you were to observe that an individual, when he eats more fruit, his propensity to buy longevity insurance increases (like is observed here), can you think of another reason other than he is healthier? "
   ]
  },
  {
   "cell_type": "markdown",
   "metadata": {},
   "source": [
    "### However, to reduce omitted variable bias, you have to make an assumption on the other hand, that the level of health of people is the same of what respondents say it is (which is what you assume anyway by only using a survey in the first place)"
   ]
  },
  {
   "cell_type": "code",
   "execution_count": 52,
   "metadata": {},
   "outputs": [
    {
     "data": {
      "text/plain": [
       "<matplotlib.axes._subplots.AxesSubplot at 0x1bfe80b76d8>"
      ]
     },
     "execution_count": 52,
     "metadata": {},
     "output_type": "execute_result"
    },
    {
     "data": {
      "image/png": "[encoded data removed]",
      "text/plain": [
       "<Figure size 792x648 with 2 Axes>"
      ]
     },
     "metadata": {},
     "output_type": "display_data"
    }
   ],
   "source": [
    "corr = df.corr()\n",
    "\n",
    "mask = np.zeros_like(corr, dtype=np.bool)\n",
    "mask[np.triu_indices_from(mask)] = True\n",
    "\n",
    "f, ax = plt.subplots(figsize=(11, 9))\n",
    "\n",
    "sns.heatmap(corr, mask=mask, cmap='Blues', vmax=.3, center=0,\n",
    "            square=True, linewidths=.5, cbar_kws={\"shrink\": .5})"
   ]
  },
  {
   "cell_type": "code",
   "execution_count": 53,
   "metadata": {},
   "outputs": [
    {
     "data": {
      "text/plain": [
       "Age                   -0.229342\n",
       "Fruit                  0.394450\n",
       "Vegetable              0.356636\n",
       "Red meat              -0.194348\n",
       "Fish                  -0.019701\n",
       "Egg                    0.002069\n",
       "Snacks                -0.351132\n",
       "Junk                  -0.423967\n",
       "Ready to eat/drink    -0.298393\n",
       "Alcohol               -0.294518\n",
       "Subjective health      1.000000\n",
       "Contains plastic      -0.296032\n",
       "Chocolate box?        -0.058662\n",
       "Optimistic             0.317072\n",
       "Level of concern       0.240327\n",
       "Longevity insurance    0.209078\n",
       "Cash inflow           -0.025838\n",
       "Male                   0.087109\n",
       "Healthy                0.159844\n",
       "dtype: float64"
      ]
     },
     "execution_count": 53,
     "metadata": {},
     "output_type": "execute_result"
    }
   ],
   "source": [
    "df.corrwith(df['Subjective health'])"
   ]
  },
  {
   "cell_type": "code",
   "execution_count": 54,
   "metadata": {},
   "outputs": [],
   "source": [
    "x = df['Subjective health']\n",
    "y = df['Longevity insurance']\n",
    "z = df['Fruit']"
   ]
  },
  {
   "cell_type": "markdown",
   "metadata": {},
   "source": [
    "### Relevance"
   ]
  },
  {
   "cell_type": "code",
   "execution_count": 55,
   "metadata": {},
   "outputs": [
    {
     "data": {
      "text/plain": [
       "0.27775340061430437"
      ]
     },
     "execution_count": 55,
     "metadata": {},
     "output_type": "execute_result"
    }
   ],
   "source": [
    "relevance = LinearRegression()\n",
    "relevance.fit(np.array(z).reshape(-1, 1), np.array(x).reshape(-1, 1))\n",
    "coefficient = list(relevance.coef_[0])[0]\n",
    "coefficient"
   ]
  },
  {
   "cell_type": "markdown",
   "metadata": {},
   "source": [
    "### T-test"
   ]
  },
  {
   "cell_type": "code",
   "execution_count": 56,
   "metadata": {},
   "outputs": [
    {
     "data": {
      "text/plain": [
       "6.5777962391340425"
      ]
     },
     "execution_count": 56,
     "metadata": {},
     "output_type": "execute_result"
    }
   ],
   "source": [
    "sigma_squared = np.sum((x - z * coefficient)**2) / (len(df) - 2)\n",
    "sigma_squared"
   ]
  },
  {
   "cell_type": "code",
   "execution_count": 57,
   "metadata": {},
   "outputs": [
    {
     "data": {
      "text/plain": [
       "0.0036421906086013525"
      ]
     },
     "execution_count": 57,
     "metadata": {},
     "output_type": "execute_result"
    }
   ],
   "source": [
    "standard_error = sigma_squared / np.dot(np.array(z), np.array(z))\n",
    "standard_error"
   ]
  },
  {
   "cell_type": "code",
   "execution_count": 58,
   "metadata": {},
   "outputs": [
    {
     "data": {
      "text/plain": [
       "76.25998484493518"
      ]
     },
     "execution_count": 58,
     "metadata": {},
     "output_type": "execute_result"
    }
   ],
   "source": [
    "statistics = coefficient / standard_error\n",
    "statistics"
   ]
  },
  {
   "cell_type": "code",
   "execution_count": 65,
   "metadata": {},
   "outputs": [
    {
     "name": "stdout",
     "output_type": "stream",
     "text": [
      "0.0\n",
      "RELEVANT!\n"
     ]
    }
   ],
   "source": [
    "from scipy.stats import t\n",
    "p_value = (1 - t.cdf(statistics, len(df) - 2)) * 2\n",
    "print(p_value)\n",
    "print('RELEVANT!')"
   ]
  },
  {
   "cell_type": "markdown",
   "metadata": {},
   "source": [
    "### Calculate the Beta IV"
   ]
  },
  {
   "cell_type": "code",
   "execution_count": 60,
   "metadata": {},
   "outputs": [
    {
     "data": {
      "text/plain": [
       "0.14902088772845953"
      ]
     },
     "execution_count": 60,
     "metadata": {},
     "output_type": "execute_result"
    }
   ],
   "source": [
    "np.dot(z, y) / np.dot(z, x) "
   ]
  },
  {
   "cell_type": "markdown",
   "metadata": {},
   "source": [
    "## Plot customer persona characteristics"
   ]
  },
  {
   "cell_type": "code",
   "execution_count": 61,
   "metadata": {},
   "outputs": [
    {
     "data": {
      "text/html": [
       "<div>\n",
       "<style scoped>\n",
       "    .dataframe tbody tr th:only-of-type {\n",
       "        vertical-align: middle;\n",
       "    }\n",
       "\n",
       "    .dataframe tbody tr th {\n",
       "        vertical-align: top;\n",
       "    }\n",
       "\n",
       "    .dataframe thead th {\n",
       "        text-align: right;\n",
       "    }\n",
       "</style>\n",
       "<table border=\"1\" class=\"dataframe\">\n",
       "  <thead>\n",
       "    <tr style=\"text-align: right;\">\n",
       "      <th></th>\n",
       "      <th>Values</th>\n",
       "      <th>Index</th>\n",
       "    </tr>\n",
       "  </thead>\n",
       "  <tbody>\n",
       "    <tr>\n",
       "      <th>0</th>\n",
       "      <td>5.0</td>\n",
       "      <td>Fruit</td>\n",
       "    </tr>\n",
       "    <tr>\n",
       "      <th>1</th>\n",
       "      <td>4.0</td>\n",
       "      <td>Fruit</td>\n",
       "    </tr>\n",
       "    <tr>\n",
       "      <th>2</th>\n",
       "      <td>3.0</td>\n",
       "      <td>Fruit</td>\n",
       "    </tr>\n",
       "    <tr>\n",
       "      <th>3</th>\n",
       "      <td>3.0</td>\n",
       "      <td>Fruit</td>\n",
       "    </tr>\n",
       "    <tr>\n",
       "      <th>4</th>\n",
       "      <td>2.0</td>\n",
       "      <td>Fruit</td>\n",
       "    </tr>\n",
       "  </tbody>\n",
       "</table>\n",
       "</div>"
      ],
      "text/plain": [
       "   Values  Index\n",
       "0     5.0  Fruit\n",
       "1     4.0  Fruit\n",
       "2     3.0  Fruit\n",
       "3     3.0  Fruit\n",
       "4     2.0  Fruit"
      ]
     },
     "execution_count": 61,
     "metadata": {},
     "output_type": "execute_result"
    }
   ],
   "source": [
    "categories = ['Fruit','Vegetable','Red meat','Fish','Egg','Snacks','Junk','Ready to eat/drink','Alcohol','Contains plastic']\n",
    "plot = np.array(df[df['Longevity insurance'] > 0.8][categories]).reshape(-1, 1).reshape(-1)\n",
    "a = np.array([categories[0]] * len(df[df['Longevity insurance'] > 0.8])).reshape(-1, 1)\n",
    "for cat in categories[1:]:\n",
    "    a = np.vstack((a, np.array([cat] * len(df[df['Longevity insurance'] > 0.8])).reshape(-1, 1)))\n",
    "a = a.reshape(-1)\n",
    "df_plot = pd.DataFrame({'Values':plot, 'Index': a})\n",
    "df_plot.head(5)"
   ]
  },
  {
   "cell_type": "code",
   "execution_count": 62,
   "metadata": {},
   "outputs": [
    {
     "name": "stderr",
     "output_type": "stream",
     "text": [
      "C:\\Users\\Pc_User\\Anaconda3\\envs\\cs7643\\lib\\site-packages\\ipykernel_launcher.py:5: UserWarning: To output multiple subplots, the figure containing the passed axes is being cleared\n",
      "  \"\"\"\n"
     ]
    },
    {
     "data": {
      "text/plain": [
       "(<Figure size 576x396 with 11 Axes>,\n",
       " [<matplotlib.axes._subplots.AxesSubplot at 0x1bfe72af320>,\n",
       "  <matplotlib.axes._subplots.AxesSubplot at 0x1bfe8449f98>,\n",
       "  <matplotlib.axes._subplots.AxesSubplot at 0x1bfe84784e0>,\n",
       "  <matplotlib.axes._subplots.AxesSubplot at 0x1bfe849fb38>,\n",
       "  <matplotlib.axes._subplots.AxesSubplot at 0x1bfe84bdf98>,\n",
       "  <matplotlib.axes._subplots.AxesSubplot at 0x1bfe84eb828>,\n",
       "  <matplotlib.axes._subplots.AxesSubplot at 0x1bfe851b0b8>,\n",
       "  <matplotlib.axes._subplots.AxesSubplot at 0x1bfe853e940>,\n",
       "  <matplotlib.axes._subplots.AxesSubplot at 0x1bfe853e978>,\n",
       "  <matplotlib.axes._subplots.AxesSubplot at 0x1bfe85929e8>,\n",
       "  <matplotlib.axes._subplots.AxesSubplot at 0x1bfe85c2278>])"
      ]
     },
     "execution_count": 62,
     "metadata": {},
     "output_type": "execute_result"
    },
    {
     "data": {
      "image/png": "[encoded data removed]",
      "text/plain": [
       "<Figure size 576x396 with 11 Axes>"
      ]
     },
     "metadata": {},
     "output_type": "display_data"
    }
   ],
   "source": [
    "import joypy\n",
    "fig, ax = plt.subplots(1,2)\n",
    "joypy.joyplot(df_plot, by=\"Index\", column=\"Values\", range_style='own', \n",
    "                          grid=\"y\", linewidth=1, legend=False, figsize=(6,5),\n",
    "                          title=f\"Customer persona\", ax=ax[0])"
   ]
  }
 ],
 "metadata": {
  "kernelspec": {
   "display_name": "Python 3",
   "language": "python",
   "name": "python3"
  },
  "language_info": {
   "codemirror_mode": {
    "name": "ipython",
    "version": 3
   },
   "file_extension": ".py",
   "mimetype": "text/x-python",
   "name": "python",
   "nbconvert_exporter": "python",
   "pygments_lexer": "ipython3",
   "version": "3.6.1"
  }
 },
 "nbformat": 4,
 "nbformat_minor": 2
}
