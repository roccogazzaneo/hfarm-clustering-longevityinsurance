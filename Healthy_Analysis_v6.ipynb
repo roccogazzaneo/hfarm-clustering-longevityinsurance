{
 "cells": [
  {
   "cell_type": "code",
   "execution_count": 1,
   "metadata": {},
   "outputs": [],
   "source": [
    "import pandas as pd\n",
    "import numpy as np\n",
    "from pandas.io.json import json_normalize\n",
    "import json\n",
    "pd.plotting.register_matplotlib_converters()\n",
    "import matplotlib.pyplot as plt\n",
    "%matplotlib inline\n",
    "import seaborn as sns\n",
    "import datetime\n",
    "import random as r"
   ]
  },
  {
   "cell_type": "code",
   "execution_count": 122,
   "metadata": {},
   "outputs": [
    {
     "name": "stderr",
     "output_type": "stream",
     "text": [
      "/Users/aliyadavletshina/opt/anaconda3/lib/python3.8/site-packages/numpy/lib/arraysetops.py:569: FutureWarning: elementwise comparison failed; returning scalar instead, but in the future will perform elementwise comparison\n",
      "  mask |= (ar1 == a)\n"
     ]
    },
    {
     "data": {
      "text/html": [
       "<div>\n",
       "<style scoped>\n",
       "    .dataframe tbody tr th:only-of-type {\n",
       "        vertical-align: middle;\n",
       "    }\n",
       "\n",
       "    .dataframe tbody tr th {\n",
       "        vertical-align: top;\n",
       "    }\n",
       "\n",
       "    .dataframe thead th {\n",
       "        text-align: right;\n",
       "    }\n",
       "</style>\n",
       "<table border=\"1\" class=\"dataframe\">\n",
       "  <thead>\n",
       "    <tr style=\"text-align: right;\">\n",
       "      <th></th>\n",
       "      <th>id</th>\n",
       "      <th>mall</th>\n",
       "      <th>date</th>\n",
       "      <th>customer</th>\n",
       "      <th>desc</th>\n",
       "      <th>net_am</th>\n",
       "      <th>n_unit</th>\n",
       "    </tr>\n",
       "  </thead>\n",
       "  <tbody>\n",
       "    <tr>\n",
       "      <th>0</th>\n",
       "      <td>1001</td>\n",
       "      <td>2</td>\n",
       "      <td>2016-01-14 20:07:00+00:00</td>\n",
       "      <td>77021708271</td>\n",
       "      <td>caramelos s/azucar</td>\n",
       "      <td>1.00</td>\n",
       "      <td>1</td>\n",
       "    </tr>\n",
       "    <tr>\n",
       "      <th>1</th>\n",
       "      <td>1002</td>\n",
       "      <td>1</td>\n",
       "      <td>2016-01-14 15:25:00+00:00</td>\n",
       "      <td>77021708271</td>\n",
       "      <td>tosta variada</td>\n",
       "      <td>3.00</td>\n",
       "      <td>1</td>\n",
       "    </tr>\n",
       "    <tr>\n",
       "      <th>2</th>\n",
       "      <td>1002</td>\n",
       "      <td>1</td>\n",
       "      <td>2016-01-14 15:25:00+00:00</td>\n",
       "      <td>77021708271</td>\n",
       "      <td>baguette tortilla</td>\n",
       "      <td>1.00</td>\n",
       "      <td>1</td>\n",
       "    </tr>\n",
       "    <tr>\n",
       "      <th>3</th>\n",
       "      <td>1003</td>\n",
       "      <td>2</td>\n",
       "      <td>2016-01-14 20:07:00+00:00</td>\n",
       "      <td>77021708271</td>\n",
       "      <td>queso tierno mezcl</td>\n",
       "      <td>2.83</td>\n",
       "      <td>1</td>\n",
       "    </tr>\n",
       "    <tr>\n",
       "      <th>4</th>\n",
       "      <td>1003</td>\n",
       "      <td>2</td>\n",
       "      <td>2016-01-14 20:07:00+00:00</td>\n",
       "      <td>77021708271</td>\n",
       "      <td>guisantes muy fino</td>\n",
       "      <td>1.65</td>\n",
       "      <td>1</td>\n",
       "    </tr>\n",
       "  </tbody>\n",
       "</table>\n",
       "</div>"
      ],
      "text/plain": [
       "     id  mall                       date     customer                desc  \\\n",
       "0  1001     2  2016-01-14 20:07:00+00:00  77021708271  caramelos s/azucar   \n",
       "1  1002     1  2016-01-14 15:25:00+00:00  77021708271       tosta variada   \n",
       "2  1002     1  2016-01-14 15:25:00+00:00  77021708271   baguette tortilla   \n",
       "3  1003     2  2016-01-14 20:07:00+00:00  77021708271  queso tierno mezcl   \n",
       "4  1003     2  2016-01-14 20:07:00+00:00  77021708271  guisantes muy fino   \n",
       "\n",
       "   net_am  n_unit  \n",
       "0    1.00       1  \n",
       "1    3.00       1  \n",
       "2    1.00       1  \n",
       "3    2.83       1  \n",
       "4    1.65       1  "
      ]
     },
     "execution_count": 122,
     "metadata": {},
     "output_type": "execute_result"
    }
   ],
   "source": [
    "df_healthy = pd.read_csv(\"/Users/aliyadavletshina/Downloads/aliya_healthy-3.csv\", index_col = 0)\n",
    "df_healthy.head()\n",
    "\n",
    "df_trans = pd.read_csv(\"/Users/aliyadavletshina/Desktop/Bocconi/business analytics/HFarm_project/hfarm.csv\", index_col = 0)\n",
    "df_trans.head()\n",
    "\n",
    "# df_healthy.columns"
   ]
  },
  {
   "cell_type": "code",
   "execution_count": 176,
   "metadata": {},
   "outputs": [
    {
     "name": "stdout",
     "output_type": "stream",
     "text": [
      "580437 65934\n"
     ]
    }
   ],
   "source": [
    "print(df_trans['id'].nunique(), df_trans['customer'].nunique())"
   ]
  },
  {
   "cell_type": "markdown",
   "metadata": {},
   "source": [
    "### What are the most popular products among healthy customers? "
   ]
  },
  {
   "cell_type": "code",
   "execution_count": 123,
   "metadata": {},
   "outputs": [
    {
     "data": {
      "text/plain": [
       "day_of_year    4149\n",
       "hour            224\n",
       "dtype: int64"
      ]
     },
     "execution_count": 123,
     "metadata": {},
     "output_type": "execute_result"
    }
   ],
   "source": [
    "# df_healthy = df_healthy.drop(['day_of_year', 'hour', 'net_am','month'], axis = 1)\n",
    "df_healthy[df_healthy['Healthy'] == 1].iloc[:, :-1].idxmax(axis=1).value_counts().head()"
   ]
  },
  {
   "cell_type": "markdown",
   "metadata": {},
   "source": [
    "Most popular products among healthy people are **vegetables, fruit, fish.** \n",
    "Junk wasn't supposed to be there :)"
   ]
  },
  {
   "cell_type": "code",
   "execution_count": 125,
   "metadata": {},
   "outputs": [
    {
     "data": {
      "text/html": [
       "<div>\n",
       "<style scoped>\n",
       "    .dataframe tbody tr th:only-of-type {\n",
       "        vertical-align: middle;\n",
       "    }\n",
       "\n",
       "    .dataframe tbody tr th {\n",
       "        vertical-align: top;\n",
       "    }\n",
       "\n",
       "    .dataframe thead th {\n",
       "        text-align: right;\n",
       "    }\n",
       "</style>\n",
       "<table border=\"1\" class=\"dataframe\">\n",
       "  <thead>\n",
       "    <tr style=\"text-align: right;\">\n",
       "      <th></th>\n",
       "      <th>id</th>\n",
       "      <th>mall</th>\n",
       "      <th>date</th>\n",
       "      <th>customer</th>\n",
       "      <th>desc</th>\n",
       "      <th>net_am</th>\n",
       "      <th>n_unit</th>\n",
       "      <th>Healthy</th>\n",
       "    </tr>\n",
       "  </thead>\n",
       "  <tbody>\n",
       "    <tr>\n",
       "      <th>0</th>\n",
       "      <td>1001</td>\n",
       "      <td>2</td>\n",
       "      <td>2016-01-14 20:07:00+00:00</td>\n",
       "      <td>77021708271</td>\n",
       "      <td>caramelos s/azucar</td>\n",
       "      <td>1.00</td>\n",
       "      <td>1</td>\n",
       "      <td>0</td>\n",
       "    </tr>\n",
       "    <tr>\n",
       "      <th>1</th>\n",
       "      <td>1002</td>\n",
       "      <td>1</td>\n",
       "      <td>2016-01-14 15:25:00+00:00</td>\n",
       "      <td>77021708271</td>\n",
       "      <td>tosta variada</td>\n",
       "      <td>3.00</td>\n",
       "      <td>1</td>\n",
       "      <td>0</td>\n",
       "    </tr>\n",
       "    <tr>\n",
       "      <th>2</th>\n",
       "      <td>1002</td>\n",
       "      <td>1</td>\n",
       "      <td>2016-01-14 15:25:00+00:00</td>\n",
       "      <td>77021708271</td>\n",
       "      <td>baguette tortilla</td>\n",
       "      <td>1.00</td>\n",
       "      <td>1</td>\n",
       "      <td>0</td>\n",
       "    </tr>\n",
       "    <tr>\n",
       "      <th>3</th>\n",
       "      <td>1003</td>\n",
       "      <td>2</td>\n",
       "      <td>2016-01-14 20:07:00+00:00</td>\n",
       "      <td>77021708271</td>\n",
       "      <td>queso tierno mezcl</td>\n",
       "      <td>2.83</td>\n",
       "      <td>1</td>\n",
       "      <td>0</td>\n",
       "    </tr>\n",
       "    <tr>\n",
       "      <th>4</th>\n",
       "      <td>1003</td>\n",
       "      <td>2</td>\n",
       "      <td>2016-01-14 20:07:00+00:00</td>\n",
       "      <td>77021708271</td>\n",
       "      <td>guisantes muy fino</td>\n",
       "      <td>1.65</td>\n",
       "      <td>1</td>\n",
       "      <td>0</td>\n",
       "    </tr>\n",
       "    <tr>\n",
       "      <th>...</th>\n",
       "      <td>...</td>\n",
       "      <td>...</td>\n",
       "      <td>...</td>\n",
       "      <td>...</td>\n",
       "      <td>...</td>\n",
       "      <td>...</td>\n",
       "      <td>...</td>\n",
       "      <td>...</td>\n",
       "    </tr>\n",
       "    <tr>\n",
       "      <th>5609617</th>\n",
       "      <td>586468</td>\n",
       "      <td>1</td>\n",
       "      <td>2016-04-16 11:21:00+00:00</td>\n",
       "      <td>77098881832</td>\n",
       "      <td>galleta delicia flor</td>\n",
       "      <td>7.80</td>\n",
       "      <td>10</td>\n",
       "      <td>0</td>\n",
       "    </tr>\n",
       "    <tr>\n",
       "      <th>5609618</th>\n",
       "      <td>586468</td>\n",
       "      <td>1</td>\n",
       "      <td>2016-04-16 11:21:00+00:00</td>\n",
       "      <td>77098881832</td>\n",
       "      <td>lejia lavadora ace</td>\n",
       "      <td>1.50</td>\n",
       "      <td>2</td>\n",
       "      <td>0</td>\n",
       "    </tr>\n",
       "    <tr>\n",
       "      <th>5609619</th>\n",
       "      <td>586468</td>\n",
       "      <td>1</td>\n",
       "      <td>2016-04-16 11:21:00+00:00</td>\n",
       "      <td>77098881832</td>\n",
       "      <td>brandy conde osbor</td>\n",
       "      <td>23.35</td>\n",
       "      <td>1</td>\n",
       "      <td>0</td>\n",
       "    </tr>\n",
       "    <tr>\n",
       "      <th>5609620</th>\n",
       "      <td>586468</td>\n",
       "      <td>1</td>\n",
       "      <td>2016-04-16 11:21:00+00:00</td>\n",
       "      <td>77098881832</td>\n",
       "      <td>cerveza mahou clas</td>\n",
       "      <td>4.00</td>\n",
       "      <td>1</td>\n",
       "      <td>0</td>\n",
       "    </tr>\n",
       "    <tr>\n",
       "      <th>5609621</th>\n",
       "      <td>586468</td>\n",
       "      <td>1</td>\n",
       "      <td>2016-04-16 11:21:00+00:00</td>\n",
       "      <td>77098881832</td>\n",
       "      <td>amoniaco perfumado</td>\n",
       "      <td>3.40</td>\n",
       "      <td>4</td>\n",
       "      <td>0</td>\n",
       "    </tr>\n",
       "  </tbody>\n",
       "</table>\n",
       "<p>5609622 rows × 8 columns</p>\n",
       "</div>"
      ],
      "text/plain": [
       "             id  mall                       date     customer  \\\n",
       "0          1001     2  2016-01-14 20:07:00+00:00  77021708271   \n",
       "1          1002     1  2016-01-14 15:25:00+00:00  77021708271   \n",
       "2          1002     1  2016-01-14 15:25:00+00:00  77021708271   \n",
       "3          1003     2  2016-01-14 20:07:00+00:00  77021708271   \n",
       "4          1003     2  2016-01-14 20:07:00+00:00  77021708271   \n",
       "...         ...   ...                        ...          ...   \n",
       "5609617  586468     1  2016-04-16 11:21:00+00:00  77098881832   \n",
       "5609618  586468     1  2016-04-16 11:21:00+00:00  77098881832   \n",
       "5609619  586468     1  2016-04-16 11:21:00+00:00  77098881832   \n",
       "5609620  586468     1  2016-04-16 11:21:00+00:00  77098881832   \n",
       "5609621  586468     1  2016-04-16 11:21:00+00:00  77098881832   \n",
       "\n",
       "                         desc  net_am  n_unit  Healthy  \n",
       "0          caramelos s/azucar    1.00       1        0  \n",
       "1               tosta variada    3.00       1        0  \n",
       "2           baguette tortilla    1.00       1        0  \n",
       "3          queso tierno mezcl    2.83       1        0  \n",
       "4          guisantes muy fino    1.65       1        0  \n",
       "...                       ...     ...     ...      ...  \n",
       "5609617  galleta delicia flor    7.80      10        0  \n",
       "5609618    lejia lavadora ace    1.50       2        0  \n",
       "5609619    brandy conde osbor   23.35       1        0  \n",
       "5609620    cerveza mahou clas    4.00       1        0  \n",
       "5609621    amoniaco perfumado    3.40       4        0  \n",
       "\n",
       "[5609622 rows x 8 columns]"
      ]
     },
     "execution_count": 125,
     "metadata": {},
     "output_type": "execute_result"
    }
   ],
   "source": [
    "df_trans = df_trans[df_trans['customer'] != 'Unknown']\n",
    "df_trans.customer = df_trans.customer.astype(int)\n",
    "df_healthy_cust = pd.merge(df_trans, df_healthy.reset_index()[['customer', 'Healthy']], how ='inner', on = 'customer')\n",
    "df_healthy_cust\n"
   ]
  },
  {
   "cell_type": "code",
   "execution_count": 119,
   "metadata": {
    "scrolled": true
   },
   "outputs": [
    {
     "data": {
      "text/plain": [
       "mall  Healthy\n",
       "1     0          2547623\n",
       "      1           246361\n",
       "2     0          2563139\n",
       "      1           252499\n",
       "Name: Healthy, dtype: int64"
      ]
     },
     "execution_count": 119,
     "metadata": {},
     "output_type": "execute_result"
    }
   ],
   "source": [
    "df_healthy_cust.groupby('mall')['Healthy'].value_counts()"
   ]
  },
  {
   "cell_type": "code",
   "execution_count": 247,
   "metadata": {},
   "outputs": [
    {
     "name": "stdout",
     "output_type": "stream",
     "text": [
      "0    50276\n",
      "1     4373\n",
      "Name: Healthy, dtype: int64\n",
      "8.001976248421746\n"
     ]
    }
   ],
   "source": [
    "print(df_healthy_cust.drop_duplicates('customer')['Healthy'].value_counts())\n",
    "print(df_healthy_cust.drop_duplicates('customer')['Healthy'].value_counts()[1]*100/df_healthy_cust.drop_duplicates('customer')['Healthy'].value_counts().sum())"
   ]
  },
  {
   "cell_type": "markdown",
   "metadata": {},
   "source": [
    "### What are the most popular products bought?"
   ]
  },
  {
   "cell_type": "code",
   "execution_count": 126,
   "metadata": {},
   "outputs": [
    {
     "data": {
      "text/plain": [
       "bolsa carrefour         98908\n",
       "platano 1a bolsa        35605\n",
       "pan pistola/barra       23086\n",
       "freson tarrina 500      18185\n",
       "panecillos surtidos     17173\n",
       "                        ...  \n",
       "bifidus fresa/platan      501\n",
       "gamba gorda pink          501\n",
       "gel wc azul carref        501\n",
       "bacon cocido              501\n",
       "pechuga pavo noel         501\n",
       "Name: desc, Length: 2131, dtype: int64"
      ]
     },
     "execution_count": 126,
     "metadata": {},
     "output_type": "execute_result"
    }
   ],
   "source": [
    "desc_most_popular = df_healthy_cust.desc.value_counts()\n",
    "desc_most_popular = desc_most_popular[desc_most_popular > 500]\n",
    "desc_most_popular"
   ]
  },
  {
   "cell_type": "code",
   "execution_count": 127,
   "metadata": {
    "scrolled": true
   },
   "outputs": [
    {
     "name": "stdout",
     "output_type": "stream",
     "text": [
      "----------------Most popular products among healthy people:----------------\n",
      " bolsa carrefour         8316\n",
      "platano 1a bolsa        3390\n",
      "pan pistola/barra       1862\n",
      "freson tarrina 500      1680\n",
      "limon carrefour 750g    1637\n",
      "banana granel           1569\n",
      "pera conferencia        1569\n",
      "panecillos surtidos     1497\n",
      "freson caja 2 kg        1492\n",
      "manzana golden          1428\n",
      "baguette carrefour      1378\n",
      "zanahoria bolsa 1kg     1352\n",
      "pimiento italiano       1295\n",
      "Name: desc, dtype: int64\n",
      "----------------Most popular products among unhealthy people:----------------:\n",
      " bolsa carrefour        90592\n",
      "platano 1a bolsa       32215\n",
      "pan pistola/barra      21224\n",
      "freson tarrina 500     16505\n",
      "baguette carrefour     15736\n",
      "panecillos surtidos    15676\n",
      "zanahoria bolsa 1kg    13714\n",
      "pimiento italiano      13288\n",
      "cerveza mahou clas     12893\n",
      "calabacin campo        12104\n",
      "cebolla carrefour      11730\n",
      "freson caja 2 kg       11707\n",
      "atun claro aceite      11600\n",
      "Name: desc, dtype: int64\n"
     ]
    }
   ],
   "source": [
    "df_trans = df_healthy_cust.copy()\n",
    "print(\"----------------Most popular products among healthy people:----------------\\n\", df_trans[df_trans['Healthy'] == 1]['desc'].value_counts()[:13])\n",
    "print(\"----------------Most popular products among unhealthy people:----------------:\\n\", df_trans[df_trans['Healthy'] == 0]['desc'].value_counts().head(13))\n"
   ]
  },
  {
   "cell_type": "markdown",
   "metadata": {},
   "source": [
    "Most popular products are similar for healthy and unhealthy people. "
   ]
  },
  {
   "cell_type": "code",
   "execution_count": 139,
   "metadata": {},
   "outputs": [
    {
     "name": "stdout",
     "output_type": "stream",
     "text": [
      "id :  586479\n",
      "mall :  2\n",
      "date :  134711\n",
      "customer :  66058\n",
      "desc :  53429\n",
      "net_am :  6153\n",
      "n_unit :  183\n",
      "Healthy :  2\n"
     ]
    }
   ],
   "source": [
    "for i in df_trans:\n",
    "    print(i,\": \", df_trans[i].nunique()) # unique values for each column"
   ]
  },
  {
   "cell_type": "code",
   "execution_count": 128,
   "metadata": {
    "scrolled": true
   },
   "outputs": [
    {
     "data": {
      "text/html": [
       "<div>\n",
       "<style scoped>\n",
       "    .dataframe tbody tr th:only-of-type {\n",
       "        vertical-align: middle;\n",
       "    }\n",
       "\n",
       "    .dataframe tbody tr th {\n",
       "        vertical-align: top;\n",
       "    }\n",
       "\n",
       "    .dataframe thead th {\n",
       "        text-align: right;\n",
       "    }\n",
       "</style>\n",
       "<table border=\"1\" class=\"dataframe\">\n",
       "  <thead>\n",
       "    <tr style=\"text-align: right;\">\n",
       "      <th></th>\n",
       "      <th>date</th>\n",
       "      <th>day_of_week</th>\n",
       "      <th>id</th>\n",
       "      <th>mall</th>\n",
       "      <th>customer</th>\n",
       "      <th>desc</th>\n",
       "      <th>net_am</th>\n",
       "      <th>n_unit</th>\n",
       "      <th>Healthy</th>\n",
       "      <th>time</th>\n",
       "    </tr>\n",
       "  </thead>\n",
       "  <tbody>\n",
       "    <tr>\n",
       "      <th>0</th>\n",
       "      <td>2016-01-14</td>\n",
       "      <td>Thur</td>\n",
       "      <td>1001</td>\n",
       "      <td>2</td>\n",
       "      <td>77021708271</td>\n",
       "      <td>caramelos s/azucar</td>\n",
       "      <td>1.00</td>\n",
       "      <td>1</td>\n",
       "      <td>0</td>\n",
       "      <td>20:07:00</td>\n",
       "    </tr>\n",
       "    <tr>\n",
       "      <th>1</th>\n",
       "      <td>2016-01-14</td>\n",
       "      <td>Thur</td>\n",
       "      <td>1002</td>\n",
       "      <td>1</td>\n",
       "      <td>77021708271</td>\n",
       "      <td>tosta variada</td>\n",
       "      <td>3.00</td>\n",
       "      <td>1</td>\n",
       "      <td>0</td>\n",
       "      <td>15:25:00</td>\n",
       "    </tr>\n",
       "    <tr>\n",
       "      <th>2</th>\n",
       "      <td>2016-01-14</td>\n",
       "      <td>Thur</td>\n",
       "      <td>1002</td>\n",
       "      <td>1</td>\n",
       "      <td>77021708271</td>\n",
       "      <td>baguette tortilla</td>\n",
       "      <td>1.00</td>\n",
       "      <td>1</td>\n",
       "      <td>0</td>\n",
       "      <td>15:25:00</td>\n",
       "    </tr>\n",
       "    <tr>\n",
       "      <th>3</th>\n",
       "      <td>2016-01-14</td>\n",
       "      <td>Thur</td>\n",
       "      <td>1003</td>\n",
       "      <td>2</td>\n",
       "      <td>77021708271</td>\n",
       "      <td>queso tierno mezcl</td>\n",
       "      <td>2.83</td>\n",
       "      <td>1</td>\n",
       "      <td>0</td>\n",
       "      <td>20:07:00</td>\n",
       "    </tr>\n",
       "    <tr>\n",
       "      <th>4</th>\n",
       "      <td>2016-01-14</td>\n",
       "      <td>Thur</td>\n",
       "      <td>1003</td>\n",
       "      <td>2</td>\n",
       "      <td>77021708271</td>\n",
       "      <td>guisantes muy fino</td>\n",
       "      <td>1.65</td>\n",
       "      <td>1</td>\n",
       "      <td>0</td>\n",
       "      <td>20:07:00</td>\n",
       "    </tr>\n",
       "    <tr>\n",
       "      <th>...</th>\n",
       "      <td>...</td>\n",
       "      <td>...</td>\n",
       "      <td>...</td>\n",
       "      <td>...</td>\n",
       "      <td>...</td>\n",
       "      <td>...</td>\n",
       "      <td>...</td>\n",
       "      <td>...</td>\n",
       "      <td>...</td>\n",
       "      <td>...</td>\n",
       "    </tr>\n",
       "    <tr>\n",
       "      <th>5609617</th>\n",
       "      <td>2016-04-17</td>\n",
       "      <td>Mon</td>\n",
       "      <td>581413</td>\n",
       "      <td>1</td>\n",
       "      <td>77023558475</td>\n",
       "      <td>patatas lays sal</td>\n",
       "      <td>2.43</td>\n",
       "      <td>2</td>\n",
       "      <td>0</td>\n",
       "      <td>00:00:00</td>\n",
       "    </tr>\n",
       "    <tr>\n",
       "      <th>5609618</th>\n",
       "      <td>2016-04-17</td>\n",
       "      <td>Mon</td>\n",
       "      <td>581413</td>\n",
       "      <td>1</td>\n",
       "      <td>77023558475</td>\n",
       "      <td>mayonesa 450 mlmus</td>\n",
       "      <td>2.14</td>\n",
       "      <td>2</td>\n",
       "      <td>0</td>\n",
       "      <td>00:00:00</td>\n",
       "    </tr>\n",
       "    <tr>\n",
       "      <th>5609619</th>\n",
       "      <td>2016-04-17</td>\n",
       "      <td>Mon</td>\n",
       "      <td>581413</td>\n",
       "      <td>1</td>\n",
       "      <td>77023558475</td>\n",
       "      <td>salsa cesar ensala</td>\n",
       "      <td>1.00</td>\n",
       "      <td>1</td>\n",
       "      <td>0</td>\n",
       "      <td>00:00:00</td>\n",
       "    </tr>\n",
       "    <tr>\n",
       "      <th>5609620</th>\n",
       "      <td>2016-04-17</td>\n",
       "      <td>Mon</td>\n",
       "      <td>581413</td>\n",
       "      <td>1</td>\n",
       "      <td>77023558475</td>\n",
       "      <td>bolsa carrefour</td>\n",
       "      <td>0.05</td>\n",
       "      <td>1</td>\n",
       "      <td>0</td>\n",
       "      <td>00:00:00</td>\n",
       "    </tr>\n",
       "    <tr>\n",
       "      <th>5609621</th>\n",
       "      <td>2016-04-17</td>\n",
       "      <td>Mon</td>\n",
       "      <td>581413</td>\n",
       "      <td>1</td>\n",
       "      <td>77023558475</td>\n",
       "      <td>gel flor cereza nb</td>\n",
       "      <td>3.45</td>\n",
       "      <td>2</td>\n",
       "      <td>0</td>\n",
       "      <td>00:00:00</td>\n",
       "    </tr>\n",
       "  </tbody>\n",
       "</table>\n",
       "<p>5609622 rows × 10 columns</p>\n",
       "</div>"
      ],
      "text/plain": [
       "               date day_of_week      id  mall     customer  \\\n",
       "0        2016-01-14        Thur    1001     2  77021708271   \n",
       "1        2016-01-14        Thur    1002     1  77021708271   \n",
       "2        2016-01-14        Thur    1002     1  77021708271   \n",
       "3        2016-01-14        Thur    1003     2  77021708271   \n",
       "4        2016-01-14        Thur    1003     2  77021708271   \n",
       "...             ...         ...     ...   ...          ...   \n",
       "5609617  2016-04-17         Mon  581413     1  77023558475   \n",
       "5609618  2016-04-17         Mon  581413     1  77023558475   \n",
       "5609619  2016-04-17         Mon  581413     1  77023558475   \n",
       "5609620  2016-04-17         Mon  581413     1  77023558475   \n",
       "5609621  2016-04-17         Mon  581413     1  77023558475   \n",
       "\n",
       "                       desc  net_am  n_unit  Healthy      time  \n",
       "0        caramelos s/azucar    1.00       1        0  20:07:00  \n",
       "1             tosta variada    3.00       1        0  15:25:00  \n",
       "2         baguette tortilla    1.00       1        0  15:25:00  \n",
       "3        queso tierno mezcl    2.83       1        0  20:07:00  \n",
       "4        guisantes muy fino    1.65       1        0  20:07:00  \n",
       "...                     ...     ...     ...      ...       ...  \n",
       "5609617    patatas lays sal    2.43       2        0  00:00:00  \n",
       "5609618  mayonesa 450 mlmus    2.14       2        0  00:00:00  \n",
       "5609619  salsa cesar ensala    1.00       1        0  00:00:00  \n",
       "5609620     bolsa carrefour    0.05       1        0  00:00:00  \n",
       "5609621  gel flor cereza nb    3.45       2        0  00:00:00  \n",
       "\n",
       "[5609622 rows x 10 columns]"
      ]
     },
     "execution_count": 128,
     "metadata": {},
     "output_type": "execute_result"
    }
   ],
   "source": [
    "# separating date and time from timestamp \n",
    "df_trans['date'] = pd.to_datetime(df_trans['date'])\n",
    "df_trans['time'] = df_trans['date'].dt.time\n",
    "df_trans['date'] = df_trans['date'].dt.date\n",
    "\n",
    "# adding day of the week\n",
    "a = ['Thur', 'Fri', \"Sat\", 'Sun', 'Mon', 'Tue', 'Wed']\n",
    "date_weekday = pd.DataFrame({'date': df_trans.date.unique(), 'day_of_week': np.resize(a, len(df_trans.date.unique()))})\n",
    "df_trans = date_weekday.merge(df_trans, how='right', on='date') \n",
    "df_trans "
   ]
  },
  {
   "cell_type": "markdown",
   "metadata": {},
   "source": [
    "There are some values with negative or zero price. Can we delete them?"
   ]
  },
  {
   "cell_type": "code",
   "execution_count": 129,
   "metadata": {},
   "outputs": [
    {
     "name": "stdout",
     "output_type": "stream",
     "text": [
      "0.77 %\n"
     ]
    }
   ],
   "source": [
    "print(round(df_trans[(df_trans['n_unit'] <= 0) | (df_trans['net_am'] <= 0)]['id'].count() / df_trans['id'].count() * 100, 2), \"%\")"
   ]
  },
  {
   "cell_type": "markdown",
   "metadata": {},
   "source": [
    "Since they account for less than 1% of the data, we can get rid of these outliers. "
   ]
  },
  {
   "cell_type": "code",
   "execution_count": 131,
   "metadata": {
    "scrolled": true
   },
   "outputs": [],
   "source": [
    "outliers = df_trans[(df_trans['net_am'] <= 0) | (df_trans['n_unit'] <= 0)]\n",
    "df_trans = df_trans[~df_trans.index.isin(outliers.index)]\n",
    "# len(outliers)"
   ]
  },
  {
   "cell_type": "code",
   "execution_count": 132,
   "metadata": {},
   "outputs": [
    {
     "data": {
      "text/html": [
       "<div>\n",
       "<style scoped>\n",
       "    .dataframe tbody tr th:only-of-type {\n",
       "        vertical-align: middle;\n",
       "    }\n",
       "\n",
       "    .dataframe tbody tr th {\n",
       "        vertical-align: top;\n",
       "    }\n",
       "\n",
       "    .dataframe thead th {\n",
       "        text-align: right;\n",
       "    }\n",
       "</style>\n",
       "<table border=\"1\" class=\"dataframe\">\n",
       "  <thead>\n",
       "    <tr style=\"text-align: right;\">\n",
       "      <th></th>\n",
       "      <th>date</th>\n",
       "      <th>day_of_week</th>\n",
       "      <th>id</th>\n",
       "      <th>mall</th>\n",
       "      <th>customer</th>\n",
       "      <th>desc</th>\n",
       "      <th>net_am</th>\n",
       "      <th>n_unit</th>\n",
       "      <th>Healthy</th>\n",
       "      <th>time</th>\n",
       "    </tr>\n",
       "  </thead>\n",
       "  <tbody>\n",
       "    <tr>\n",
       "      <th>0</th>\n",
       "      <td>2016-01-14</td>\n",
       "      <td>Thur</td>\n",
       "      <td>1001</td>\n",
       "      <td>2</td>\n",
       "      <td>77021708271</td>\n",
       "      <td>caramelos s/azucar</td>\n",
       "      <td>1.00</td>\n",
       "      <td>1</td>\n",
       "      <td>0</td>\n",
       "      <td>20:07:00</td>\n",
       "    </tr>\n",
       "    <tr>\n",
       "      <th>1</th>\n",
       "      <td>2016-01-14</td>\n",
       "      <td>Thur</td>\n",
       "      <td>1002</td>\n",
       "      <td>1</td>\n",
       "      <td>77021708271</td>\n",
       "      <td>tosta variada</td>\n",
       "      <td>3.00</td>\n",
       "      <td>1</td>\n",
       "      <td>0</td>\n",
       "      <td>15:25:00</td>\n",
       "    </tr>\n",
       "    <tr>\n",
       "      <th>2</th>\n",
       "      <td>2016-01-14</td>\n",
       "      <td>Thur</td>\n",
       "      <td>1002</td>\n",
       "      <td>1</td>\n",
       "      <td>77021708271</td>\n",
       "      <td>baguette tortilla</td>\n",
       "      <td>1.00</td>\n",
       "      <td>1</td>\n",
       "      <td>0</td>\n",
       "      <td>15:25:00</td>\n",
       "    </tr>\n",
       "    <tr>\n",
       "      <th>3</th>\n",
       "      <td>2016-01-14</td>\n",
       "      <td>Thur</td>\n",
       "      <td>1003</td>\n",
       "      <td>2</td>\n",
       "      <td>77021708271</td>\n",
       "      <td>queso tierno mezcl</td>\n",
       "      <td>2.83</td>\n",
       "      <td>1</td>\n",
       "      <td>0</td>\n",
       "      <td>20:07:00</td>\n",
       "    </tr>\n",
       "    <tr>\n",
       "      <th>4</th>\n",
       "      <td>2016-01-14</td>\n",
       "      <td>Thur</td>\n",
       "      <td>1003</td>\n",
       "      <td>2</td>\n",
       "      <td>77021708271</td>\n",
       "      <td>guisantes muy fino</td>\n",
       "      <td>1.65</td>\n",
       "      <td>1</td>\n",
       "      <td>0</td>\n",
       "      <td>20:07:00</td>\n",
       "    </tr>\n",
       "    <tr>\n",
       "      <th>...</th>\n",
       "      <td>...</td>\n",
       "      <td>...</td>\n",
       "      <td>...</td>\n",
       "      <td>...</td>\n",
       "      <td>...</td>\n",
       "      <td>...</td>\n",
       "      <td>...</td>\n",
       "      <td>...</td>\n",
       "      <td>...</td>\n",
       "      <td>...</td>\n",
       "    </tr>\n",
       "    <tr>\n",
       "      <th>5609617</th>\n",
       "      <td>2016-04-17</td>\n",
       "      <td>Mon</td>\n",
       "      <td>581413</td>\n",
       "      <td>1</td>\n",
       "      <td>77023558475</td>\n",
       "      <td>patatas lays sal</td>\n",
       "      <td>2.43</td>\n",
       "      <td>2</td>\n",
       "      <td>0</td>\n",
       "      <td>00:00:00</td>\n",
       "    </tr>\n",
       "    <tr>\n",
       "      <th>5609618</th>\n",
       "      <td>2016-04-17</td>\n",
       "      <td>Mon</td>\n",
       "      <td>581413</td>\n",
       "      <td>1</td>\n",
       "      <td>77023558475</td>\n",
       "      <td>mayonesa 450 mlmus</td>\n",
       "      <td>2.14</td>\n",
       "      <td>2</td>\n",
       "      <td>0</td>\n",
       "      <td>00:00:00</td>\n",
       "    </tr>\n",
       "    <tr>\n",
       "      <th>5609619</th>\n",
       "      <td>2016-04-17</td>\n",
       "      <td>Mon</td>\n",
       "      <td>581413</td>\n",
       "      <td>1</td>\n",
       "      <td>77023558475</td>\n",
       "      <td>salsa cesar ensala</td>\n",
       "      <td>1.00</td>\n",
       "      <td>1</td>\n",
       "      <td>0</td>\n",
       "      <td>00:00:00</td>\n",
       "    </tr>\n",
       "    <tr>\n",
       "      <th>5609620</th>\n",
       "      <td>2016-04-17</td>\n",
       "      <td>Mon</td>\n",
       "      <td>581413</td>\n",
       "      <td>1</td>\n",
       "      <td>77023558475</td>\n",
       "      <td>bolsa carrefour</td>\n",
       "      <td>0.05</td>\n",
       "      <td>1</td>\n",
       "      <td>0</td>\n",
       "      <td>00:00:00</td>\n",
       "    </tr>\n",
       "    <tr>\n",
       "      <th>5609621</th>\n",
       "      <td>2016-04-17</td>\n",
       "      <td>Mon</td>\n",
       "      <td>581413</td>\n",
       "      <td>1</td>\n",
       "      <td>77023558475</td>\n",
       "      <td>gel flor cereza nb</td>\n",
       "      <td>3.45</td>\n",
       "      <td>2</td>\n",
       "      <td>0</td>\n",
       "      <td>00:00:00</td>\n",
       "    </tr>\n",
       "  </tbody>\n",
       "</table>\n",
       "<p>5566636 rows × 10 columns</p>\n",
       "</div>"
      ],
      "text/plain": [
       "               date day_of_week      id  mall     customer  \\\n",
       "0        2016-01-14        Thur    1001     2  77021708271   \n",
       "1        2016-01-14        Thur    1002     1  77021708271   \n",
       "2        2016-01-14        Thur    1002     1  77021708271   \n",
       "3        2016-01-14        Thur    1003     2  77021708271   \n",
       "4        2016-01-14        Thur    1003     2  77021708271   \n",
       "...             ...         ...     ...   ...          ...   \n",
       "5609617  2016-04-17         Mon  581413     1  77023558475   \n",
       "5609618  2016-04-17         Mon  581413     1  77023558475   \n",
       "5609619  2016-04-17         Mon  581413     1  77023558475   \n",
       "5609620  2016-04-17         Mon  581413     1  77023558475   \n",
       "5609621  2016-04-17         Mon  581413     1  77023558475   \n",
       "\n",
       "                       desc  net_am  n_unit  Healthy      time  \n",
       "0        caramelos s/azucar    1.00       1        0  20:07:00  \n",
       "1             tosta variada    3.00       1        0  15:25:00  \n",
       "2         baguette tortilla    1.00       1        0  15:25:00  \n",
       "3        queso tierno mezcl    2.83       1        0  20:07:00  \n",
       "4        guisantes muy fino    1.65       1        0  20:07:00  \n",
       "...                     ...     ...     ...      ...       ...  \n",
       "5609617    patatas lays sal    2.43       2        0  00:00:00  \n",
       "5609618  mayonesa 450 mlmus    2.14       2        0  00:00:00  \n",
       "5609619  salsa cesar ensala    1.00       1        0  00:00:00  \n",
       "5609620     bolsa carrefour    0.05       1        0  00:00:00  \n",
       "5609621  gel flor cereza nb    3.45       2        0  00:00:00  \n",
       "\n",
       "[5566636 rows x 10 columns]"
      ]
     },
     "execution_count": 132,
     "metadata": {},
     "output_type": "execute_result"
    }
   ],
   "source": [
    "df_trans"
   ]
  },
  {
   "cell_type": "markdown",
   "metadata": {},
   "source": [
    "### How many items do customers buy? What is the average quantity and price?"
   ]
  },
  {
   "cell_type": "code",
   "execution_count": 133,
   "metadata": {
    "scrolled": true
   },
   "outputs": [
    {
     "name": "stderr",
     "output_type": "stream",
     "text": [
      "/Users/aliyadavletshina/opt/anaconda3/lib/python3.8/site-packages/pandas/core/ops/array_ops.py:253: FutureWarning: elementwise comparison failed; returning scalar instead, but in the future will perform elementwise comparison\n",
      "  res_values = method(rvalues)\n",
      "<ipython-input-133-ba6f5cdc8219>:1: FutureWarning: Indexing with multiple keys (implicitly converted to a tuple of keys) will be deprecated, use a list instead.\n",
      "  df_trans[(df_trans[\"Healthy\"]==1) & (df_trans[\"customer\"] != \"Unknown\")].groupby('id')['n_unit', 'net_am'].sum().describe()\n"
     ]
    },
    {
     "data": {
      "text/html": [
       "<div>\n",
       "<style scoped>\n",
       "    .dataframe tbody tr th:only-of-type {\n",
       "        vertical-align: middle;\n",
       "    }\n",
       "\n",
       "    .dataframe tbody tr th {\n",
       "        vertical-align: top;\n",
       "    }\n",
       "\n",
       "    .dataframe thead th {\n",
       "        text-align: right;\n",
       "    }\n",
       "</style>\n",
       "<table border=\"1\" class=\"dataframe\">\n",
       "  <thead>\n",
       "    <tr style=\"text-align: right;\">\n",
       "      <th></th>\n",
       "      <th>n_unit</th>\n",
       "      <th>net_am</th>\n",
       "    </tr>\n",
       "  </thead>\n",
       "  <tbody>\n",
       "    <tr>\n",
       "      <th>count</th>\n",
       "      <td>36452.000000</td>\n",
       "      <td>36452.000000</td>\n",
       "    </tr>\n",
       "    <tr>\n",
       "      <th>mean</th>\n",
       "      <td>20.566553</td>\n",
       "      <td>52.492270</td>\n",
       "    </tr>\n",
       "    <tr>\n",
       "      <th>std</th>\n",
       "      <td>25.742684</td>\n",
       "      <td>62.011598</td>\n",
       "    </tr>\n",
       "    <tr>\n",
       "      <th>min</th>\n",
       "      <td>1.000000</td>\n",
       "      <td>0.010000</td>\n",
       "    </tr>\n",
       "    <tr>\n",
       "      <th>25%</th>\n",
       "      <td>4.000000</td>\n",
       "      <td>12.330000</td>\n",
       "    </tr>\n",
       "    <tr>\n",
       "      <th>50%</th>\n",
       "      <td>12.000000</td>\n",
       "      <td>33.100000</td>\n",
       "    </tr>\n",
       "    <tr>\n",
       "      <th>75%</th>\n",
       "      <td>29.000000</td>\n",
       "      <td>71.535000</td>\n",
       "    </tr>\n",
       "    <tr>\n",
       "      <th>max</th>\n",
       "      <td>1392.000000</td>\n",
       "      <td>1899.000000</td>\n",
       "    </tr>\n",
       "  </tbody>\n",
       "</table>\n",
       "</div>"
      ],
      "text/plain": [
       "             n_unit        net_am\n",
       "count  36452.000000  36452.000000\n",
       "mean      20.566553     52.492270\n",
       "std       25.742684     62.011598\n",
       "min        1.000000      0.010000\n",
       "25%        4.000000     12.330000\n",
       "50%       12.000000     33.100000\n",
       "75%       29.000000     71.535000\n",
       "max     1392.000000   1899.000000"
      ]
     },
     "execution_count": 133,
     "metadata": {},
     "output_type": "execute_result"
    }
   ],
   "source": [
    "df_trans[(df_trans[\"Healthy\"]==1) & (df_trans[\"customer\"] != \"Unknown\")].groupby('id')['n_unit', 'net_am'].sum().describe()"
   ]
  },
  {
   "cell_type": "code",
   "execution_count": 134,
   "metadata": {
    "scrolled": true
   },
   "outputs": [
    {
     "name": "stderr",
     "output_type": "stream",
     "text": [
      "/Users/aliyadavletshina/opt/anaconda3/lib/python3.8/site-packages/pandas/core/ops/array_ops.py:253: FutureWarning: elementwise comparison failed; returning scalar instead, but in the future will perform elementwise comparison\n",
      "  res_values = method(rvalues)\n",
      "<ipython-input-134-7cf1c7fca497>:1: FutureWarning: Indexing with multiple keys (implicitly converted to a tuple of keys) will be deprecated, use a list instead.\n",
      "  df_trans[(df_trans[\"Healthy\"]==0) & (df_trans[\"customer\"] != \"Unknown\")].groupby('id')['n_unit', 'net_am'].sum().describe()\n"
     ]
    },
    {
     "data": {
      "text/html": [
       "<div>\n",
       "<style scoped>\n",
       "    .dataframe tbody tr th:only-of-type {\n",
       "        vertical-align: middle;\n",
       "    }\n",
       "\n",
       "    .dataframe tbody tr th {\n",
       "        vertical-align: top;\n",
       "    }\n",
       "\n",
       "    .dataframe thead th {\n",
       "        text-align: right;\n",
       "    }\n",
       "</style>\n",
       "<table border=\"1\" class=\"dataframe\">\n",
       "  <thead>\n",
       "    <tr style=\"text-align: right;\">\n",
       "      <th></th>\n",
       "      <th>n_unit</th>\n",
       "      <th>net_am</th>\n",
       "    </tr>\n",
       "  </thead>\n",
       "  <tbody>\n",
       "    <tr>\n",
       "      <th>count</th>\n",
       "      <td>370490.000000</td>\n",
       "      <td>370490.000000</td>\n",
       "    </tr>\n",
       "    <tr>\n",
       "      <th>mean</th>\n",
       "      <td>20.096275</td>\n",
       "      <td>52.267723</td>\n",
       "    </tr>\n",
       "    <tr>\n",
       "      <th>std</th>\n",
       "      <td>23.749409</td>\n",
       "      <td>62.078766</td>\n",
       "    </tr>\n",
       "    <tr>\n",
       "      <th>min</th>\n",
       "      <td>1.000000</td>\n",
       "      <td>0.010000</td>\n",
       "    </tr>\n",
       "    <tr>\n",
       "      <th>25%</th>\n",
       "      <td>4.000000</td>\n",
       "      <td>12.362500</td>\n",
       "    </tr>\n",
       "    <tr>\n",
       "      <th>50%</th>\n",
       "      <td>11.000000</td>\n",
       "      <td>32.950000</td>\n",
       "    </tr>\n",
       "    <tr>\n",
       "      <th>75%</th>\n",
       "      <td>28.000000</td>\n",
       "      <td>70.840000</td>\n",
       "    </tr>\n",
       "    <tr>\n",
       "      <th>max</th>\n",
       "      <td>729.000000</td>\n",
       "      <td>3298.000000</td>\n",
       "    </tr>\n",
       "  </tbody>\n",
       "</table>\n",
       "</div>"
      ],
      "text/plain": [
       "              n_unit         net_am\n",
       "count  370490.000000  370490.000000\n",
       "mean       20.096275      52.267723\n",
       "std        23.749409      62.078766\n",
       "min         1.000000       0.010000\n",
       "25%         4.000000      12.362500\n",
       "50%        11.000000      32.950000\n",
       "75%        28.000000      70.840000\n",
       "max       729.000000    3298.000000"
      ]
     },
     "execution_count": 134,
     "metadata": {},
     "output_type": "execute_result"
    }
   ],
   "source": [
    "df_trans[(df_trans[\"Healthy\"]==0) & (df_trans[\"customer\"] != \"Unknown\")].groupby('id')['n_unit', 'net_am'].sum().describe()"
   ]
  },
  {
   "cell_type": "markdown",
   "metadata": {},
   "source": [
    "So on average both groups of cunsumers have about **20 items** in their basket and the average receipt is **52 euros**. Median number of items per visit is about **11**, median receipt is **33 euros**. \n"
   ]
  },
  {
   "cell_type": "code",
   "execution_count": 135,
   "metadata": {},
   "outputs": [
    {
     "data": {
      "image/png": "[encoded data removed]",
      "text/plain": [
       "<Figure size 432x288 with 1 Axes>"
      ]
     },
     "metadata": {
      "needs_background": "light"
     },
     "output_type": "display_data"
    }
   ],
   "source": [
    "sns.distplot(df_trans.groupby('id')['n_unit'].sum()[df_trans.groupby('id')['n_unit'].sum() <= 100])\n",
    "plt.grid(True)\n",
    "plt.title(\"Distribution of the number of units per visit\")\n",
    "plt.tight_layout()"
   ]
  },
  {
   "cell_type": "code",
   "execution_count": 136,
   "metadata": {
    "scrolled": true
   },
   "outputs": [
    {
     "data": {
      "image/png": "[encoded data removed]",
      "text/plain": [
       "<Figure size 432x288 with 1 Axes>"
      ]
     },
     "metadata": {
      "needs_background": "light"
     },
     "output_type": "display_data"
    }
   ],
   "source": [
    "sns.distplot(df_trans.groupby('id')['net_am'].sum()[df_trans.groupby('id')['net_am'].sum() <= 100])\n",
    "plt.grid(True)\n",
    "plt.title(\"Distribution of the receipt value\")\n",
    "plt.tight_layout()"
   ]
  },
  {
   "cell_type": "markdown",
   "metadata": {},
   "source": [
    "### How many people buy too many things or too expensive things?"
   ]
  },
  {
   "cell_type": "code",
   "execution_count": 204,
   "metadata": {
    "scrolled": true
   },
   "outputs": [
    {
     "name": "stdout",
     "output_type": "stream",
     "text": [
      "4965\n",
      "1.2200755881673555 % of customers bought more than 100 items per visit.\n"
     ]
    }
   ],
   "source": [
    "\n",
    "print((df_trans.groupby('id')['n_unit'].sum() > 100).sum())\n",
    "print((df_trans.groupby('id')['n_unit'].sum() > 100).sum() / df_trans.id.nunique() * 100, \"% of customers bought more than 100 items per visit.\")"
   ]
  },
  {
   "cell_type": "code",
   "execution_count": 153,
   "metadata": {
    "scrolled": true
   },
   "outputs": [
    {
     "data": {
      "text/html": [
       "<div>\n",
       "<style scoped>\n",
       "    .dataframe tbody tr th:only-of-type {\n",
       "        vertical-align: middle;\n",
       "    }\n",
       "\n",
       "    .dataframe tbody tr th {\n",
       "        vertical-align: top;\n",
       "    }\n",
       "\n",
       "    .dataframe thead th {\n",
       "        text-align: right;\n",
       "    }\n",
       "</style>\n",
       "<table border=\"1\" class=\"dataframe\">\n",
       "  <thead>\n",
       "    <tr style=\"text-align: right;\">\n",
       "      <th></th>\n",
       "      <th>id</th>\n",
       "      <th>customer</th>\n",
       "      <th>Healthy</th>\n",
       "      <th>mall</th>\n",
       "      <th>date</th>\n",
       "      <th>day_of_week</th>\n",
       "      <th>time</th>\n",
       "      <th>net_am_sum</th>\n",
       "      <th>n_unit_sum</th>\n",
       "    </tr>\n",
       "  </thead>\n",
       "  <tbody>\n",
       "    <tr>\n",
       "      <th>0</th>\n",
       "      <td>1</td>\n",
       "      <td>77014474650</td>\n",
       "      <td>0</td>\n",
       "      <td>2</td>\n",
       "      <td>2016-01-14</td>\n",
       "      <td>Thur</td>\n",
       "      <td>17:14:00</td>\n",
       "      <td>16.25</td>\n",
       "      <td>11</td>\n",
       "    </tr>\n",
       "    <tr>\n",
       "      <th>9</th>\n",
       "      <td>2</td>\n",
       "      <td>77014474650</td>\n",
       "      <td>0</td>\n",
       "      <td>1</td>\n",
       "      <td>2016-01-14</td>\n",
       "      <td>Thur</td>\n",
       "      <td>16:14:00</td>\n",
       "      <td>10.65</td>\n",
       "      <td>4</td>\n",
       "    </tr>\n",
       "    <tr>\n",
       "      <th>12</th>\n",
       "      <td>3</td>\n",
       "      <td>77014474650</td>\n",
       "      <td>0</td>\n",
       "      <td>2</td>\n",
       "      <td>2016-01-14</td>\n",
       "      <td>Thur</td>\n",
       "      <td>16:14:00</td>\n",
       "      <td>4.85</td>\n",
       "      <td>1</td>\n",
       "    </tr>\n",
       "    <tr>\n",
       "      <th>13</th>\n",
       "      <td>4</td>\n",
       "      <td>77014474650</td>\n",
       "      <td>0</td>\n",
       "      <td>1</td>\n",
       "      <td>2016-01-14</td>\n",
       "      <td>Thur</td>\n",
       "      <td>20:14:00</td>\n",
       "      <td>4.75</td>\n",
       "      <td>2</td>\n",
       "    </tr>\n",
       "    <tr>\n",
       "      <th>15</th>\n",
       "      <td>5</td>\n",
       "      <td>77014474650</td>\n",
       "      <td>0</td>\n",
       "      <td>1</td>\n",
       "      <td>2016-01-14</td>\n",
       "      <td>Thur</td>\n",
       "      <td>17:14:00</td>\n",
       "      <td>7.67</td>\n",
       "      <td>2</td>\n",
       "    </tr>\n",
       "  </tbody>\n",
       "</table>\n",
       "</div>"
      ],
      "text/plain": [
       "    id     customer  Healthy  mall        date day_of_week      time  \\\n",
       "0    1  77014474650        0     2  2016-01-14        Thur  17:14:00   \n",
       "9    2  77014474650        0     1  2016-01-14        Thur  16:14:00   \n",
       "12   3  77014474650        0     2  2016-01-14        Thur  16:14:00   \n",
       "13   4  77014474650        0     1  2016-01-14        Thur  20:14:00   \n",
       "15   5  77014474650        0     1  2016-01-14        Thur  17:14:00   \n",
       "\n",
       "    net_am_sum  n_unit_sum  \n",
       "0        16.25          11  \n",
       "9        10.65           4  \n",
       "12        4.85           1  \n",
       "13        4.75           2  \n",
       "15        7.67           2  "
      ]
     },
     "execution_count": 153,
     "metadata": {},
     "output_type": "execute_result"
    }
   ],
   "source": [
    "# healthy_people = df_trans[df_trans['Healthy'] == 1]\n",
    "# unhealthy_people = df_trans[df_trans['Healthy'] == 0]\n",
    "\n",
    "# adding total amount per each purchase and quantity of items per each purchase\n",
    "df_both = df_trans.groupby('id')['n_unit'].sum().reset_index().merge(df_trans, on = 'id', how ='right', suffixes = ('_sum',None))\n",
    "df_both = df_both.groupby('id')['net_am'].sum().reset_index().merge(df_both, on = 'id', how='right', suffixes = ('_sum',None))\n",
    "\n",
    "df_with_total_recept = df_both[['id','customer','Healthy', 'mall','date','day_of_week','time','net_am_sum','n_unit_sum']].drop_duplicates()\n",
    "df_with_total_recept.head()\n",
    "\n",
    "# df_both.drop_duplicates(['customer', 'date', 'time'])"
   ]
  },
  {
   "cell_type": "code",
   "execution_count": 157,
   "metadata": {},
   "outputs": [
    {
     "data": {
      "text/html": [
       "<div>\n",
       "<style scoped>\n",
       "    .dataframe tbody tr th:only-of-type {\n",
       "        vertical-align: middle;\n",
       "    }\n",
       "\n",
       "    .dataframe tbody tr th {\n",
       "        vertical-align: top;\n",
       "    }\n",
       "\n",
       "    .dataframe thead th {\n",
       "        text-align: right;\n",
       "    }\n",
       "</style>\n",
       "<table border=\"1\" class=\"dataframe\">\n",
       "  <thead>\n",
       "    <tr style=\"text-align: right;\">\n",
       "      <th></th>\n",
       "      <th>id</th>\n",
       "      <th>net_am_sum</th>\n",
       "      <th>n_unit_sum</th>\n",
       "      <th>date</th>\n",
       "      <th>day_of_week</th>\n",
       "      <th>mall</th>\n",
       "      <th>customer</th>\n",
       "      <th>desc</th>\n",
       "      <th>net_am</th>\n",
       "      <th>n_unit</th>\n",
       "      <th>Healthy</th>\n",
       "      <th>time</th>\n",
       "    </tr>\n",
       "  </thead>\n",
       "  <tbody>\n",
       "    <tr>\n",
       "      <th>0</th>\n",
       "      <td>1</td>\n",
       "      <td>16.25</td>\n",
       "      <td>11</td>\n",
       "      <td>2016-01-14</td>\n",
       "      <td>Thur</td>\n",
       "      <td>2</td>\n",
       "      <td>77014474650</td>\n",
       "      <td>cerveza koenigsbier</td>\n",
       "      <td>0.66</td>\n",
       "      <td>3</td>\n",
       "      <td>0</td>\n",
       "      <td>17:14:00</td>\n",
       "    </tr>\n",
       "    <tr>\n",
       "      <th>1</th>\n",
       "      <td>1</td>\n",
       "      <td>16.25</td>\n",
       "      <td>11</td>\n",
       "      <td>2016-01-14</td>\n",
       "      <td>Thur</td>\n",
       "      <td>2</td>\n",
       "      <td>77014474650</td>\n",
       "      <td>vino grand moment</td>\n",
       "      <td>5.80</td>\n",
       "      <td>1</td>\n",
       "      <td>0</td>\n",
       "      <td>17:14:00</td>\n",
       "    </tr>\n",
       "    <tr>\n",
       "      <th>2</th>\n",
       "      <td>1</td>\n",
       "      <td>16.25</td>\n",
       "      <td>11</td>\n",
       "      <td>2016-01-14</td>\n",
       "      <td>Thur</td>\n",
       "      <td>2</td>\n",
       "      <td>77014474650</td>\n",
       "      <td>gel &amp; body milk</td>\n",
       "      <td>2.19</td>\n",
       "      <td>1</td>\n",
       "      <td>0</td>\n",
       "      <td>17:14:00</td>\n",
       "    </tr>\n",
       "    <tr>\n",
       "      <th>3</th>\n",
       "      <td>1</td>\n",
       "      <td>16.25</td>\n",
       "      <td>11</td>\n",
       "      <td>2016-01-14</td>\n",
       "      <td>Thur</td>\n",
       "      <td>2</td>\n",
       "      <td>77014474650</td>\n",
       "      <td>azucar bolsa papel</td>\n",
       "      <td>0.75</td>\n",
       "      <td>1</td>\n",
       "      <td>0</td>\n",
       "      <td>17:14:00</td>\n",
       "    </tr>\n",
       "    <tr>\n",
       "      <th>4</th>\n",
       "      <td>1</td>\n",
       "      <td>16.25</td>\n",
       "      <td>11</td>\n",
       "      <td>2016-01-14</td>\n",
       "      <td>Thur</td>\n",
       "      <td>2</td>\n",
       "      <td>77014474650</td>\n",
       "      <td>pan molde sandwich</td>\n",
       "      <td>0.93</td>\n",
       "      <td>1</td>\n",
       "      <td>0</td>\n",
       "      <td>17:14:00</td>\n",
       "    </tr>\n",
       "  </tbody>\n",
       "</table>\n",
       "</div>"
      ],
      "text/plain": [
       "   id  net_am_sum  n_unit_sum        date day_of_week  mall     customer  \\\n",
       "0   1       16.25          11  2016-01-14        Thur     2  77014474650   \n",
       "1   1       16.25          11  2016-01-14        Thur     2  77014474650   \n",
       "2   1       16.25          11  2016-01-14        Thur     2  77014474650   \n",
       "3   1       16.25          11  2016-01-14        Thur     2  77014474650   \n",
       "4   1       16.25          11  2016-01-14        Thur     2  77014474650   \n",
       "\n",
       "                  desc  net_am  n_unit  Healthy      time  \n",
       "0  cerveza koenigsbier    0.66       3        0  17:14:00  \n",
       "1    vino grand moment    5.80       1        0  17:14:00  \n",
       "2      gel & body milk    2.19       1        0  17:14:00  \n",
       "3   azucar bolsa papel    0.75       1        0  17:14:00  \n",
       "4   pan molde sandwich    0.93       1        0  17:14:00  "
      ]
     },
     "execution_count": 157,
     "metadata": {},
     "output_type": "execute_result"
    }
   ],
   "source": [
    "df_both.head()"
   ]
  },
  {
   "cell_type": "code",
   "execution_count": 184,
   "metadata": {
    "scrolled": true
   },
   "outputs": [
    {
     "name": "stdout",
     "output_type": "stream",
     "text": [
      "mean receipt for healthy people 52.49\n",
      "mean receipt for unhealthy people 52.27\n",
      "mean number of items for healthy people 20.57\n",
      "mean number of items for unhealthy people 20.1\n",
      "median receipt for healthy people 52.49\n",
      "median receipt for unhealthy people 52.27\n",
      "median number of items for healthy people 20.57\n",
      "median number of items for unhealthy people 20.1\n",
      "mean unit price for healthy people 6.77\n",
      "mean unit price for unhealthy people 6.62\n",
      "median unit price for healthy people 5.86\n",
      "median unit price for unhealthy people 5.7\n"
     ]
    }
   ],
   "source": [
    "print(\"mean receipt for healthy people\", round(df_with_total_recept[df_with_total_recept['Healthy'] == 1].groupby('id')['net_am_sum'].mean().mean(),2))\n",
    "print(\"mean receipt for unhealthy people\", round(df_with_total_recept[df_with_total_recept['Healthy'] == 0].groupby('id')['net_am_sum'].mean().mean(),2))\n",
    "\n",
    "print(\"mean number of items for healthy people\", round(df_with_total_recept[df_with_total_recept['Healthy'] == 1].groupby('id')['n_unit_sum'].mean().mean(),2))\n",
    "print(\"mean number of items for unhealthy people\", round(df_with_total_recept[df_with_total_recept['Healthy'] == 0].groupby('id')['n_unit_sum'].mean().mean(),2))\n",
    "\n",
    "print(\"median receipt for healthy people\", round(df_with_total_recept[df_with_total_recept['Healthy'] == 1].groupby('id')['net_am_sum'].median().mean(),2))\n",
    "print(\"median receipt for unhealthy people\", round(df_with_total_recept[df_with_total_recept['Healthy'] == 0].groupby('id')['net_am_sum'].median().mean(),2))\n",
    "\n",
    "print(\"median number of items for healthy people\", round(df_with_total_recept[df_with_total_recept['Healthy'] == 1].groupby('id')['n_unit_sum'].median().mean(),2))\n",
    "print(\"median number of items for unhealthy people\", round(df_with_total_recept[df_with_total_recept['Healthy'] == 0].groupby('id')['n_unit_sum'].median().mean(),2))\n",
    "\n",
    "print(\"mean unit price for healthy people\", round(df_both[df_both['Healthy'] == 1].groupby('id')['net_am'].mean().mean(),2))\n",
    "print(\"mean unit price for unhealthy people\", round(df_both[df_both['Healthy'] == 0].groupby('id')['net_am'].mean().mean(),2))\n",
    "\n",
    "print(\"median unit price for healthy people\", round(df_both[df_both['Healthy'] == 1].groupby('id')['net_am'].median().mean(),2))\n",
    "print(\"median unit price for unhealthy people\", round(df_both[df_both['Healthy'] == 0].groupby('id')['net_am'].median().mean(),2))\n",
    "\n",
    "\n"
   ]
  },
  {
   "cell_type": "code",
   "execution_count": 190,
   "metadata": {
    "scrolled": false
   },
   "outputs": [
    {
     "data": {
      "text/plain": [
       "Text(0.5, 1.0, 'Total number of items per visit')"
      ]
     },
     "execution_count": 190,
     "metadata": {},
     "output_type": "execute_result"
    },
    {
     "data": {
      "image/png": "[encoded data removed]",
      "text/plain": [
       "<Figure size 432x288 with 1 Axes>"
      ]
     },
     "metadata": {
      "needs_background": "light"
     },
     "output_type": "display_data"
    }
   ],
   "source": [
    "# fig, axes = plt.subplots(1, 2, figsize=(10, 5))\n",
    "\n",
    "plt.ylim(0, 40)\n",
    "\n",
    "sns.boxplot( x=\"Healthy\", y=\"n_unit_sum\", data=df_with_total_recept, palette=\"mako\", width = 0.5)\n",
    "plt.title('Total number of items per visit')"
   ]
  },
  {
   "cell_type": "code",
   "execution_count": 188,
   "metadata": {},
   "outputs": [
    {
     "data": {
      "text/plain": [
       "Text(0.5, 1.0, 'Total receipt per visit')"
      ]
     },
     "execution_count": 188,
     "metadata": {},
     "output_type": "execute_result"
    },
    {
     "data": {
      "image/png": "[encoded data removed]",
      "text/plain": [
       "<Figure size 432x288 with 1 Axes>"
      ]
     },
     "metadata": {
      "needs_background": "light"
     },
     "output_type": "display_data"
    }
   ],
   "source": [
    "plt.ylim(0, 100)\n",
    "\n",
    "sns.boxplot( x=\"Healthy\", y=\"net_am_sum\", data=df_with_total_recept, palette=\"mako\", width = 0.5)\n",
    "plt.title(\"Total receipt per visit\")"
   ]
  },
  {
   "cell_type": "code",
   "execution_count": 141,
   "metadata": {},
   "outputs": [
    {
     "data": {
      "text/html": [
       "<div>\n",
       "<style scoped>\n",
       "    .dataframe tbody tr th:only-of-type {\n",
       "        vertical-align: middle;\n",
       "    }\n",
       "\n",
       "    .dataframe tbody tr th {\n",
       "        vertical-align: top;\n",
       "    }\n",
       "\n",
       "    .dataframe thead th {\n",
       "        text-align: right;\n",
       "    }\n",
       "</style>\n",
       "<table border=\"1\" class=\"dataframe\">\n",
       "  <thead>\n",
       "    <tr style=\"text-align: right;\">\n",
       "      <th></th>\n",
       "      <th>date</th>\n",
       "      <th>day_of_week</th>\n",
       "      <th>id</th>\n",
       "      <th>mall</th>\n",
       "      <th>customer</th>\n",
       "      <th>desc</th>\n",
       "      <th>net_am</th>\n",
       "      <th>n_unit</th>\n",
       "      <th>Healthy</th>\n",
       "      <th>time</th>\n",
       "    </tr>\n",
       "  </thead>\n",
       "  <tbody>\n",
       "    <tr>\n",
       "      <th>0</th>\n",
       "      <td>2016-01-14</td>\n",
       "      <td>Thur</td>\n",
       "      <td>1001</td>\n",
       "      <td>2</td>\n",
       "      <td>77021708271</td>\n",
       "      <td>caramelos s/azucar</td>\n",
       "      <td>1.00</td>\n",
       "      <td>1</td>\n",
       "      <td>0</td>\n",
       "      <td>20:07:00</td>\n",
       "    </tr>\n",
       "    <tr>\n",
       "      <th>1</th>\n",
       "      <td>2016-01-14</td>\n",
       "      <td>Thur</td>\n",
       "      <td>1002</td>\n",
       "      <td>1</td>\n",
       "      <td>77021708271</td>\n",
       "      <td>tosta variada</td>\n",
       "      <td>3.00</td>\n",
       "      <td>1</td>\n",
       "      <td>0</td>\n",
       "      <td>15:25:00</td>\n",
       "    </tr>\n",
       "    <tr>\n",
       "      <th>2</th>\n",
       "      <td>2016-01-14</td>\n",
       "      <td>Thur</td>\n",
       "      <td>1002</td>\n",
       "      <td>1</td>\n",
       "      <td>77021708271</td>\n",
       "      <td>baguette tortilla</td>\n",
       "      <td>1.00</td>\n",
       "      <td>1</td>\n",
       "      <td>0</td>\n",
       "      <td>15:25:00</td>\n",
       "    </tr>\n",
       "    <tr>\n",
       "      <th>3</th>\n",
       "      <td>2016-01-14</td>\n",
       "      <td>Thur</td>\n",
       "      <td>1003</td>\n",
       "      <td>2</td>\n",
       "      <td>77021708271</td>\n",
       "      <td>queso tierno mezcl</td>\n",
       "      <td>2.83</td>\n",
       "      <td>1</td>\n",
       "      <td>0</td>\n",
       "      <td>20:07:00</td>\n",
       "    </tr>\n",
       "    <tr>\n",
       "      <th>4</th>\n",
       "      <td>2016-01-14</td>\n",
       "      <td>Thur</td>\n",
       "      <td>1003</td>\n",
       "      <td>2</td>\n",
       "      <td>77021708271</td>\n",
       "      <td>guisantes muy fino</td>\n",
       "      <td>1.65</td>\n",
       "      <td>1</td>\n",
       "      <td>0</td>\n",
       "      <td>20:07:00</td>\n",
       "    </tr>\n",
       "    <tr>\n",
       "      <th>...</th>\n",
       "      <td>...</td>\n",
       "      <td>...</td>\n",
       "      <td>...</td>\n",
       "      <td>...</td>\n",
       "      <td>...</td>\n",
       "      <td>...</td>\n",
       "      <td>...</td>\n",
       "      <td>...</td>\n",
       "      <td>...</td>\n",
       "      <td>...</td>\n",
       "    </tr>\n",
       "    <tr>\n",
       "      <th>5609617</th>\n",
       "      <td>2016-04-17</td>\n",
       "      <td>Mon</td>\n",
       "      <td>581413</td>\n",
       "      <td>1</td>\n",
       "      <td>77023558475</td>\n",
       "      <td>patatas lays sal</td>\n",
       "      <td>2.43</td>\n",
       "      <td>2</td>\n",
       "      <td>0</td>\n",
       "      <td>00:00:00</td>\n",
       "    </tr>\n",
       "    <tr>\n",
       "      <th>5609618</th>\n",
       "      <td>2016-04-17</td>\n",
       "      <td>Mon</td>\n",
       "      <td>581413</td>\n",
       "      <td>1</td>\n",
       "      <td>77023558475</td>\n",
       "      <td>mayonesa 450 mlmus</td>\n",
       "      <td>2.14</td>\n",
       "      <td>2</td>\n",
       "      <td>0</td>\n",
       "      <td>00:00:00</td>\n",
       "    </tr>\n",
       "    <tr>\n",
       "      <th>5609619</th>\n",
       "      <td>2016-04-17</td>\n",
       "      <td>Mon</td>\n",
       "      <td>581413</td>\n",
       "      <td>1</td>\n",
       "      <td>77023558475</td>\n",
       "      <td>salsa cesar ensala</td>\n",
       "      <td>1.00</td>\n",
       "      <td>1</td>\n",
       "      <td>0</td>\n",
       "      <td>00:00:00</td>\n",
       "    </tr>\n",
       "    <tr>\n",
       "      <th>5609620</th>\n",
       "      <td>2016-04-17</td>\n",
       "      <td>Mon</td>\n",
       "      <td>581413</td>\n",
       "      <td>1</td>\n",
       "      <td>77023558475</td>\n",
       "      <td>bolsa carrefour</td>\n",
       "      <td>0.05</td>\n",
       "      <td>1</td>\n",
       "      <td>0</td>\n",
       "      <td>00:00:00</td>\n",
       "    </tr>\n",
       "    <tr>\n",
       "      <th>5609621</th>\n",
       "      <td>2016-04-17</td>\n",
       "      <td>Mon</td>\n",
       "      <td>581413</td>\n",
       "      <td>1</td>\n",
       "      <td>77023558475</td>\n",
       "      <td>gel flor cereza nb</td>\n",
       "      <td>3.45</td>\n",
       "      <td>2</td>\n",
       "      <td>0</td>\n",
       "      <td>00:00:00</td>\n",
       "    </tr>\n",
       "  </tbody>\n",
       "</table>\n",
       "<p>5566636 rows × 10 columns</p>\n",
       "</div>"
      ],
      "text/plain": [
       "               date day_of_week      id  mall     customer  \\\n",
       "0        2016-01-14        Thur    1001     2  77021708271   \n",
       "1        2016-01-14        Thur    1002     1  77021708271   \n",
       "2        2016-01-14        Thur    1002     1  77021708271   \n",
       "3        2016-01-14        Thur    1003     2  77021708271   \n",
       "4        2016-01-14        Thur    1003     2  77021708271   \n",
       "...             ...         ...     ...   ...          ...   \n",
       "5609617  2016-04-17         Mon  581413     1  77023558475   \n",
       "5609618  2016-04-17         Mon  581413     1  77023558475   \n",
       "5609619  2016-04-17         Mon  581413     1  77023558475   \n",
       "5609620  2016-04-17         Mon  581413     1  77023558475   \n",
       "5609621  2016-04-17         Mon  581413     1  77023558475   \n",
       "\n",
       "                       desc  net_am  n_unit  Healthy      time  \n",
       "0        caramelos s/azucar    1.00       1        0  20:07:00  \n",
       "1             tosta variada    3.00       1        0  15:25:00  \n",
       "2         baguette tortilla    1.00       1        0  15:25:00  \n",
       "3        queso tierno mezcl    2.83       1        0  20:07:00  \n",
       "4        guisantes muy fino    1.65       1        0  20:07:00  \n",
       "...                     ...     ...     ...      ...       ...  \n",
       "5609617    patatas lays sal    2.43       2        0  00:00:00  \n",
       "5609618  mayonesa 450 mlmus    2.14       2        0  00:00:00  \n",
       "5609619  salsa cesar ensala    1.00       1        0  00:00:00  \n",
       "5609620     bolsa carrefour    0.05       1        0  00:00:00  \n",
       "5609621  gel flor cereza nb    3.45       2        0  00:00:00  \n",
       "\n",
       "[5566636 rows x 10 columns]"
      ]
     },
     "execution_count": 141,
     "metadata": {},
     "output_type": "execute_result"
    }
   ],
   "source": [
    "df_trans"
   ]
  },
  {
   "cell_type": "code",
   "execution_count": null,
   "metadata": {},
   "outputs": [],
   "source": []
  },
  {
   "cell_type": "raw",
   "metadata": {},
   "source": [
    "sns.violinplot(data=df_with_total_recept\\\n",
    "            [df_with_total_recept['net_am_sum'] < df_with_total_recept.net_am_sum.quantile(0.75)], \\\n",
    "               x=\"day_of_week\", y=\"net_am_sum\", hue=\"Healthy\",\n",
    "               split=True, inner=\"quart\", linewidth=1,\n",
    "               palette=\"mako\")\n",
    "#                palette={1: \"b\", 0: \".85\"})\n",
    "sns.despine(left=True)"
   ]
  },
  {
   "cell_type": "code",
   "execution_count": 108,
   "metadata": {
    "scrolled": true
   },
   "outputs": [
    {
     "data": {
      "image/png": "[encoded data removed]",
      "text/plain": [
       "<Figure size 432x288 with 1 Axes>"
      ]
     },
     "metadata": {
      "needs_background": "light"
     },
     "output_type": "display_data"
    }
   ],
   "source": [
    "sns.violinplot(data=df_with_total_recept\\\n",
    "            [df_with_total_recept['n_unit_sum'] < df_with_total_recept.net_am_sum.quantile(0.75)], \\\n",
    "               x=\"day_of_week\", y=\"n_unit_sum\", hue=\"Healthy\",\n",
    "               split=True, inner=\"quart\", linewidth=1,\n",
    "               palette=\"mako\")\n",
    "#                palette={1: \"b\", 0: \".85\"})\n",
    "sns.despine(left=True)"
   ]
  },
  {
   "cell_type": "code",
   "execution_count": 146,
   "metadata": {},
   "outputs": [
    {
     "data": {
      "text/html": [
       "<div>\n",
       "<style scoped>\n",
       "    .dataframe tbody tr th:only-of-type {\n",
       "        vertical-align: middle;\n",
       "    }\n",
       "\n",
       "    .dataframe tbody tr th {\n",
       "        vertical-align: top;\n",
       "    }\n",
       "\n",
       "    .dataframe thead th {\n",
       "        text-align: right;\n",
       "    }\n",
       "</style>\n",
       "<table border=\"1\" class=\"dataframe\">\n",
       "  <thead>\n",
       "    <tr style=\"text-align: right;\">\n",
       "      <th></th>\n",
       "      <th>date</th>\n",
       "      <th>day_of_week</th>\n",
       "      <th>id</th>\n",
       "      <th>mall</th>\n",
       "      <th>customer</th>\n",
       "      <th>desc</th>\n",
       "      <th>net_am</th>\n",
       "      <th>n_unit</th>\n",
       "      <th>Healthy</th>\n",
       "      <th>time</th>\n",
       "      <th>unit_price</th>\n",
       "    </tr>\n",
       "  </thead>\n",
       "  <tbody>\n",
       "    <tr>\n",
       "      <th>8961</th>\n",
       "      <td>2016-01-14</td>\n",
       "      <td>Thur</td>\n",
       "      <td>299</td>\n",
       "      <td>1</td>\n",
       "      <td>77052531701</td>\n",
       "      <td>titan hulk avengers</td>\n",
       "      <td>5.00</td>\n",
       "      <td>1</td>\n",
       "      <td>1</td>\n",
       "      <td>18:53:00</td>\n",
       "      <td>5.00</td>\n",
       "    </tr>\n",
       "    <tr>\n",
       "      <th>8962</th>\n",
       "      <td>2016-01-14</td>\n",
       "      <td>Thur</td>\n",
       "      <td>299</td>\n",
       "      <td>1</td>\n",
       "      <td>77052531701</td>\n",
       "      <td>jurassic titan t-rex</td>\n",
       "      <td>32.90</td>\n",
       "      <td>1</td>\n",
       "      <td>1</td>\n",
       "      <td>18:53:00</td>\n",
       "      <td>32.90</td>\n",
       "    </tr>\n",
       "    <tr>\n",
       "      <th>8963</th>\n",
       "      <td>2016-01-14</td>\n",
       "      <td>Thur</td>\n",
       "      <td>300</td>\n",
       "      <td>2</td>\n",
       "      <td>77052531701</td>\n",
       "      <td>cafe con leche</td>\n",
       "      <td>2.50</td>\n",
       "      <td>2</td>\n",
       "      <td>1</td>\n",
       "      <td>16:53:00</td>\n",
       "      <td>1.25</td>\n",
       "    </tr>\n",
       "    <tr>\n",
       "      <th>8964</th>\n",
       "      <td>2016-01-14</td>\n",
       "      <td>Thur</td>\n",
       "      <td>301</td>\n",
       "      <td>1</td>\n",
       "      <td>77052531701</td>\n",
       "      <td>agua carrefour 0,5</td>\n",
       "      <td>0.24</td>\n",
       "      <td>1</td>\n",
       "      <td>1</td>\n",
       "      <td>15:52:00</td>\n",
       "      <td>0.24</td>\n",
       "    </tr>\n",
       "    <tr>\n",
       "      <th>8965</th>\n",
       "      <td>2016-01-14</td>\n",
       "      <td>Thur</td>\n",
       "      <td>301</td>\n",
       "      <td>1</td>\n",
       "      <td>77052531701</td>\n",
       "      <td>ensaladilla rusa 250</td>\n",
       "      <td>0.93</td>\n",
       "      <td>1</td>\n",
       "      <td>1</td>\n",
       "      <td>15:52:00</td>\n",
       "      <td>0.93</td>\n",
       "    </tr>\n",
       "    <tr>\n",
       "      <th>...</th>\n",
       "      <td>...</td>\n",
       "      <td>...</td>\n",
       "      <td>...</td>\n",
       "      <td>...</td>\n",
       "      <td>...</td>\n",
       "      <td>...</td>\n",
       "      <td>...</td>\n",
       "      <td>...</td>\n",
       "      <td>...</td>\n",
       "      <td>...</td>\n",
       "      <td>...</td>\n",
       "    </tr>\n",
       "    <tr>\n",
       "      <th>5609601</th>\n",
       "      <td>2016-04-17</td>\n",
       "      <td>Mon</td>\n",
       "      <td>581402</td>\n",
       "      <td>1</td>\n",
       "      <td>77030384651</td>\n",
       "      <td>pechuga de pavo 170g</td>\n",
       "      <td>1.85</td>\n",
       "      <td>1</td>\n",
       "      <td>1</td>\n",
       "      <td>00:02:00</td>\n",
       "      <td>1.85</td>\n",
       "    </tr>\n",
       "    <tr>\n",
       "      <th>5609602</th>\n",
       "      <td>2016-04-17</td>\n",
       "      <td>Mon</td>\n",
       "      <td>581402</td>\n",
       "      <td>1</td>\n",
       "      <td>77030384651</td>\n",
       "      <td>l casei fresa</td>\n",
       "      <td>1.00</td>\n",
       "      <td>1</td>\n",
       "      <td>1</td>\n",
       "      <td>00:02:00</td>\n",
       "      <td>1.00</td>\n",
       "    </tr>\n",
       "    <tr>\n",
       "      <th>5609603</th>\n",
       "      <td>2016-04-17</td>\n",
       "      <td>Mon</td>\n",
       "      <td>581402</td>\n",
       "      <td>1</td>\n",
       "      <td>77030384651</td>\n",
       "      <td>pimiento italiano</td>\n",
       "      <td>1.10</td>\n",
       "      <td>1</td>\n",
       "      <td>1</td>\n",
       "      <td>00:02:00</td>\n",
       "      <td>1.10</td>\n",
       "    </tr>\n",
       "    <tr>\n",
       "      <th>5609604</th>\n",
       "      <td>2016-04-17</td>\n",
       "      <td>Mon</td>\n",
       "      <td>581402</td>\n",
       "      <td>1</td>\n",
       "      <td>77030384651</td>\n",
       "      <td>3 bayetas ballerina</td>\n",
       "      <td>2.20</td>\n",
       "      <td>1</td>\n",
       "      <td>1</td>\n",
       "      <td>00:02:00</td>\n",
       "      <td>2.20</td>\n",
       "    </tr>\n",
       "    <tr>\n",
       "      <th>5609605</th>\n",
       "      <td>2016-04-17</td>\n",
       "      <td>Mon</td>\n",
       "      <td>581402</td>\n",
       "      <td>1</td>\n",
       "      <td>77030384651</td>\n",
       "      <td>galletas estrellas</td>\n",
       "      <td>1.54</td>\n",
       "      <td>1</td>\n",
       "      <td>1</td>\n",
       "      <td>00:02:00</td>\n",
       "      <td>1.54</td>\n",
       "    </tr>\n",
       "  </tbody>\n",
       "</table>\n",
       "<p>495501 rows × 11 columns</p>\n",
       "</div>"
      ],
      "text/plain": [
       "               date day_of_week      id  mall     customer  \\\n",
       "8961     2016-01-14        Thur     299     1  77052531701   \n",
       "8962     2016-01-14        Thur     299     1  77052531701   \n",
       "8963     2016-01-14        Thur     300     2  77052531701   \n",
       "8964     2016-01-14        Thur     301     1  77052531701   \n",
       "8965     2016-01-14        Thur     301     1  77052531701   \n",
       "...             ...         ...     ...   ...          ...   \n",
       "5609601  2016-04-17         Mon  581402     1  77030384651   \n",
       "5609602  2016-04-17         Mon  581402     1  77030384651   \n",
       "5609603  2016-04-17         Mon  581402     1  77030384651   \n",
       "5609604  2016-04-17         Mon  581402     1  77030384651   \n",
       "5609605  2016-04-17         Mon  581402     1  77030384651   \n",
       "\n",
       "                         desc  net_am  n_unit  Healthy      time  unit_price  \n",
       "8961      titan hulk avengers    5.00       1        1  18:53:00        5.00  \n",
       "8962     jurassic titan t-rex   32.90       1        1  18:53:00       32.90  \n",
       "8963           cafe con leche    2.50       2        1  16:53:00        1.25  \n",
       "8964       agua carrefour 0,5    0.24       1        1  15:52:00        0.24  \n",
       "8965     ensaladilla rusa 250    0.93       1        1  15:52:00        0.93  \n",
       "...                       ...     ...     ...      ...       ...         ...  \n",
       "5609601  pechuga de pavo 170g    1.85       1        1  00:02:00        1.85  \n",
       "5609602         l casei fresa    1.00       1        1  00:02:00        1.00  \n",
       "5609603     pimiento italiano    1.10       1        1  00:02:00        1.10  \n",
       "5609604   3 bayetas ballerina    2.20       1        1  00:02:00        2.20  \n",
       "5609605    galletas estrellas    1.54       1        1  00:02:00        1.54  \n",
       "\n",
       "[495501 rows x 11 columns]"
      ]
     },
     "execution_count": 146,
     "metadata": {},
     "output_type": "execute_result"
    }
   ],
   "source": [
    "healthy_people"
   ]
  },
  {
   "cell_type": "code",
   "execution_count": 152,
   "metadata": {},
   "outputs": [
    {
     "name": "stdout",
     "output_type": "stream",
     "text": [
      "Mean receipt of unhealthy people is 53.4\n",
      "Mean receipt of healthy people is 66.23\n",
      "Mean number of items for healthy people is 20.57\n",
      "Mean number of items for unhealthy people is 20.1\n",
      "Mean price of an item of healthy people is 3.11\n",
      "Mean price of an item of unhealthy people is 3.6\n"
     ]
    }
   ],
   "source": [
    "print('Mean receipt of unhealthy people is', round(df_with_total_recept[df_with_total_recept['Healthy'] == 0].\\\n",
    "      groupby('customer')['net_am_sum'].mean().mean(),2))\n",
    "print('Mean receipt of healthy people is', round(df_with_total_recept[df_with_total_recept['Healthy'] == 1].\\\n",
    "      groupby('customer')['net_am_sum'].mean().mean(),2))\n",
    "\n",
    "print('Mean number of items for healthy people is', round(healthy_people.groupby('id')['n_unit'].sum().mean(),2))\n",
    "print('Mean number of items for unhealthy people is', round(unhealthy_people.groupby('id')['n_unit'].sum().mean(),2))\n",
    "\n",
    "print('Mean price of an item of healthy people is', round(healthy_people.groupby('customer')['unit_price'].mean().mean(),2))\n",
    "print('Mean price of an item of unhealthy people is', round(unhealthy_people.groupby('customer')['unit_price'].mean().mean(),2))"
   ]
  },
  {
   "cell_type": "code",
   "execution_count": 34,
   "metadata": {},
   "outputs": [
    {
     "name": "stdout",
     "output_type": "stream",
     "text": [
      "For  100.0 % of visits we were able to classify if the customer is healthy.\n"
     ]
    }
   ],
   "source": [
    "print(\"For \", round(len(df_with_total_recept[df_with_total_recept['Healthy'].notnull()]) / len(df_with_total_recept) \\\n",
    "      * 100, 2), \"% of visits we were able to classify if the customer is healthy.\")"
   ]
  },
  {
   "cell_type": "markdown",
   "metadata": {},
   "source": [
    "### Let's look separately at healthy and unhealthy people."
   ]
  },
  {
   "cell_type": "markdown",
   "metadata": {},
   "source": [
    "### Healthy people"
   ]
  },
  {
   "cell_type": "code",
   "execution_count": 105,
   "metadata": {},
   "outputs": [
    {
     "name": "stderr",
     "output_type": "stream",
     "text": [
      "<ipython-input-105-55656e90e4af>:4: SettingWithCopyWarning: \n",
      "A value is trying to be set on a copy of a slice from a DataFrame.\n",
      "Try using .loc[row_indexer,col_indexer] = value instead\n",
      "\n",
      "See the caveats in the documentation: https://pandas.pydata.org/pandas-docs/stable/user_guide/indexing.html#returning-a-view-versus-a-copy\n",
      "  healthy_people['unit_price'] = healthy_people['net_am'] / healthy_people['n_unit'] # calculating unit price of a product\n",
      "<ipython-input-105-55656e90e4af>:5: SettingWithCopyWarning: \n",
      "A value is trying to be set on a copy of a slice from a DataFrame.\n",
      "Try using .loc[row_indexer,col_indexer] = value instead\n",
      "\n",
      "See the caveats in the documentation: https://pandas.pydata.org/pandas-docs/stable/user_guide/indexing.html#returning-a-view-versus-a-copy\n",
      "  unhealthy_people['unit_price'] = unhealthy_people['net_am'] / unhealthy_people['n_unit'] # calculating unit price of a product\n"
     ]
    }
   ],
   "source": [
    "healthy_people = df_trans[df_trans['Healthy'] == 1]\n",
    "unhealthy_people = df_trans[df_trans['Healthy'] == 0]\n",
    "\n",
    "healthy_people['unit_price'] = healthy_people['net_am'] / healthy_people['n_unit'] # calculating unit price of a product \n",
    "unhealthy_people['unit_price'] = unhealthy_people['net_am'] / unhealthy_people['n_unit'] # calculating unit price of a product \n"
   ]
  },
  {
   "cell_type": "code",
   "execution_count": 106,
   "metadata": {
    "scrolled": false
   },
   "outputs": [
    {
     "name": "stdout",
     "output_type": "stream",
     "text": [
      "count    4373.000000\n",
      "mean        1.899921\n",
      "std         0.410631\n",
      "min         0.430000\n",
      "25%         1.670000\n",
      "50%         1.875000\n",
      "75%         2.000000\n",
      "max         6.350000\n",
      "Name: unit_price, dtype: float64\n",
      "count    50276.000000\n",
      "mean         2.443665\n",
      "std          7.398265\n",
      "min          0.050000\n",
      "25%          1.600000\n",
      "50%          1.850000\n",
      "75%          2.090000\n",
      "max        859.000000\n",
      "Name: unit_price, dtype: float64\n"
     ]
    }
   ],
   "source": [
    "print(healthy_people.groupby('customer')['unit_price'].median().describe())\n",
    "print(unhealthy_people.groupby('customer')['unit_price'].median().describe())\n",
    "\n",
    "# healthy_people"
   ]
  },
  {
   "cell_type": "markdown",
   "metadata": {},
   "source": [
    "The median price of an item in one's basket is roughly **1.86 euros**. "
   ]
  },
  {
   "cell_type": "code",
   "execution_count": 39,
   "metadata": {},
   "outputs": [
    {
     "name": "stdout",
     "output_type": "stream",
     "text": [
      "A median price of an item in 80% of baskets is less or equal to 3.225\n"
     ]
    }
   ],
   "source": [
    "threshold = int(len(healthy_people.groupby('id')['unit_price'].median().sort_values())*0.8)\n",
    "sorted_median_price = healthy_people.groupby('id')['unit_price'].median().sort_values().reset_index()\n",
    "\n",
    "print(\"A median price of an item in 80% of baskets is less or equal to\", sorted_median_price.iloc[threshold,1])"
   ]
  },
  {
   "cell_type": "code",
   "execution_count": 148,
   "metadata": {},
   "outputs": [
    {
     "data": {
      "image/png": "[encoded data removed]",
      "text/plain": [
       "<Figure size 432x288 with 1 Axes>"
      ]
     },
     "metadata": {
      "needs_background": "light"
     },
     "output_type": "display_data"
    }
   ],
   "source": [
    "sns.distplot(healthy_people.groupby('id')['unit_price'].median()[healthy_people.groupby('id')['unit_price'].median() <= 3.5])\n",
    "sns.distplot(unhealthy_people.groupby('id')['unit_price'].median()[unhealthy_people.groupby('id')['unit_price'].median() <= 3.5])\n",
    "\n",
    "plt.grid(True)\n",
    "plt.title(\"Distribution of median item price per basket\")\n",
    "plt.tight_layout()"
   ]
  },
  {
   "cell_type": "markdown",
   "metadata": {},
   "source": [
    "### What are the most expensive purchases?"
   ]
  },
  {
   "cell_type": "code",
   "execution_count": 217,
   "metadata": {
    "scrolled": false
   },
   "outputs": [
    {
     "data": {
      "text/plain": [
       "3741714    1899.0\n",
       "4201001    1169.0\n",
       "37456       899.0\n",
       "1771794     849.0\n",
       "356596      799.0\n",
       "2297202     749.0\n",
       "1362187     699.0\n",
       "2408941     669.0\n",
       "1858208     649.0\n",
       "2739887     629.0\n",
       "Name: unit_price, dtype: float64"
      ]
     },
     "execution_count": 217,
     "metadata": {},
     "output_type": "execute_result"
    }
   ],
   "source": [
    "healthy_people['unit_price'].drop_duplicates().sort_values(ascending = False)[:10]"
   ]
  },
  {
   "cell_type": "code",
   "execution_count": 218,
   "metadata": {
    "scrolled": true
   },
   "outputs": [
    {
     "data": {
      "text/plain": [
       "2999756    2299.0\n",
       "4789502    1999.0\n",
       "1923589    1899.0\n",
       "1355246    1649.0\n",
       "1328994    1569.0\n",
       "1195100    1499.0\n",
       "3592807    1299.0\n",
       "645306     1249.0\n",
       "1844516    1239.0\n",
       "1942041    1199.0\n",
       "Name: unit_price, dtype: float64"
      ]
     },
     "execution_count": 218,
     "metadata": {},
     "output_type": "execute_result"
    }
   ],
   "source": [
    "unhealthy_people['unit_price'].drop_duplicates().sort_values(ascending = False)[:10]"
   ]
  },
  {
   "cell_type": "code",
   "execution_count": 232,
   "metadata": {},
   "outputs": [
    {
     "data": {
      "text/plain": [
       "<matplotlib.legend.Legend at 0x7f9efad6b130>"
      ]
     },
     "execution_count": 232,
     "metadata": {},
     "output_type": "execute_result"
    },
    {
     "data": {
      "image/png": "[encoded data removed]",
      "text/plain": [
       "<Figure size 432x288 with 1 Axes>"
      ]
     },
     "metadata": {
      "needs_background": "light"
     },
     "output_type": "display_data"
    }
   ],
   "source": [
    "sns.distplot(healthy_people['unit_price'][healthy_people['unit_price'] > 800], label = 'healthy')\n",
    "sns.distplot(unhealthy_people['unit_price'][unhealthy_people['unit_price'] > 800], label = 'unhealthy')\n",
    "\n",
    "plt.grid(True)\n",
    "plt.title(\"Distribution of unit price\")\n",
    "plt.tight_layout()\n",
    "plt.legend()"
   ]
  },
  {
   "cell_type": "code",
   "execution_count": 242,
   "metadata": {},
   "outputs": [],
   "source": [
    "# df_trans['unit_price'] = df_trans['net_am'] / df_trans['n_unit']\n",
    "rich_customers = df_trans.drop_duplicates('customer').sort_values('unit_price', ascending = False)[:1000]"
   ]
  },
  {
   "cell_type": "code",
   "execution_count": 243,
   "metadata": {
    "scrolled": false
   },
   "outputs": [
    {
     "data": {
      "text/plain": [
       "False    1.0\n",
       "Name: id, dtype: float64"
      ]
     },
     "execution_count": 243,
     "metadata": {},
     "output_type": "execute_result"
    }
   ],
   "source": [
    "# df_trans.sort_values('unit_price', ascending = False)[:100].value_counts('Healthy')\n",
    "df_trans.id.isin(rich_customers).value_counts('Healthy')\n"
   ]
  },
  {
   "cell_type": "markdown",
   "metadata": {},
   "source": [
    "### When do people shop? "
   ]
  },
  {
   "cell_type": "code",
   "execution_count": 57,
   "metadata": {},
   "outputs": [
    {
     "name": "stdout",
     "output_type": "stream",
     "text": [
      "number of visits by healthy and unhealthy people    Healthy      id\n",
      "0        0  370490\n",
      "1        1   36452\n",
      "number of healthy and unhealthy customers    Healthy  customer\n",
      "0        0     50276\n",
      "1        1      4373\n",
      "there are 10.163777021836935 times more visits by unhealthy people\n",
      "there are 11.496912874456894 times more unhealthy customers\n"
     ]
    },
    {
     "data": {
      "image/png": "[encoded data removed]",
      "text/plain": [
       "<Figure size 1080x360 with 2 Axes>"
      ]
     },
     "metadata": {
      "needs_background": "light"
     },
     "output_type": "display_data"
    }
   ],
   "source": [
    "print(\"number of visits by healthy and unhealthy people\" , df_trans.groupby('Healthy')['id'].nunique().reset_index())\n",
    "print(\"number of healthy and unhealthy customers\" , df_trans.groupby('Healthy')['customer'].nunique().reset_index())\n",
    "\n",
    "fig, axes = plt.subplots(1, 2, figsize=(15, 5))\n",
    "\n",
    "\n",
    "sns.barplot(ax = axes[0], x=\"Healthy\", y=\"id\", data=df_trans.groupby('Healthy')['id'].nunique().reset_index())\n",
    "sns.barplot(ax = axes[1], x=\"Healthy\", y=\"customer\", data=df_trans.groupby('Healthy')['customer'].nunique().reset_index())\n",
    "\n",
    "print(\"there are\", df_trans.groupby('Healthy')['id'].nunique()[0]/df_trans.groupby('Healthy')['id'].nunique()[1], \"times more visits by unhealthy people\")\n",
    "print(\"there are\", df_trans.groupby('Healthy')['customer'].nunique()[0]/df_trans.groupby('Healthy')['customer'].nunique()[1], \"times more unhealthy customers\")\n",
    "\n",
    "\n"
   ]
  },
  {
   "cell_type": "code",
   "execution_count": 46,
   "metadata": {},
   "outputs": [
    {
     "data": {
      "text/plain": [
       "day_of_week  Healthy\n",
       "Fri          0          788586\n",
       "Wed          0          784553\n",
       "Thur         0          746227\n",
       "Tue          0          738836\n",
       "Sat          0          722051\n",
       "Mon          0          685208\n",
       "Sun          0          605674\n",
       "Wed          1           79846\n",
       "Tue          1           74841\n",
       "Thur         1           74160\n",
       "Fri          1           69650\n",
       "Mon          1           68359\n",
       "Sat          1           67685\n",
       "Sun          1           60960\n",
       "Name: id, dtype: int64"
      ]
     },
     "execution_count": 46,
     "metadata": {},
     "output_type": "execute_result"
    }
   ],
   "source": [
    "df_trans.groupby(['day_of_week', 'Healthy'])['id'].count().sort_values(ascending=False)"
   ]
  },
  {
   "cell_type": "code",
   "execution_count": 66,
   "metadata": {
    "scrolled": false
   },
   "outputs": [
    {
     "data": {
      "text/plain": [
       "Text(0.5, 1.0, 'Distribution of visits by healthy people across the week')"
      ]
     },
     "execution_count": 66,
     "metadata": {},
     "output_type": "execute_result"
    },
    {
     "data": {
      "image/png": "[encoded data removed]",
      "text/plain": [
       "<Figure size 1080x360 with 2 Axes>"
      ]
     },
     "metadata": {
      "needs_background": "light"
     },
     "output_type": "display_data"
    }
   ],
   "source": [
    "fig, axes = plt.subplots(1, 2, figsize=(15, 5))\n",
    "\n",
    "sns.barplot(ax = axes[0], x = 'day_of_week', y = 'id', data = df_trans[df_trans['Healthy']==0].groupby('day_of_week')['id'].\\\n",
    "            nunique().reset_index().sort_values('id', ascending=False), palette=\"mako\")\n",
    "axes[0].set_title('Distribution of visits by unhealthy people across the week')\n",
    "\n",
    "sns.barplot(ax = axes[1], x = 'day_of_week', y = 'id', data = df_trans[df_trans['Healthy']==1].\\\n",
    "            groupby('day_of_week')['id'].nunique().reset_index().sort_values('id', ascending=False), palette=\"mako\")\n",
    "axes[1].set_title('Distribution of visits by healthy people across the week')"
   ]
  },
  {
   "cell_type": "code",
   "execution_count": 75,
   "metadata": {},
   "outputs": [
    {
     "name": "stdout",
     "output_type": "stream",
     "text": [
      "Min: 1.000000, Max: 77.000000\n",
      "Min: 1.000000, Max: 627.000000\n"
     ]
    },
    {
     "data": {
      "text/plain": [
       "array([[0.05263158],\n",
       "       [0.17105263],\n",
       "       [0.07894737],\n",
       "       ...,\n",
       "       [0.03947368],\n",
       "       [0.03947368],\n",
       "       [0.03947368]])"
      ]
     },
     "execution_count": 75,
     "metadata": {},
     "output_type": "execute_result"
    }
   ],
   "source": [
    "from sklearn.preprocessing import MinMaxScaler\n",
    "\n",
    "values = df_trans[df_trans['Healthy'] == 1].groupby('time')['id'].nunique().values\n",
    "values = values.reshape((len(values), 1))\n",
    "# train the normalization\n",
    "scaler = MinMaxScaler(feature_range=(0, 1))\n",
    "scaler = scaler.fit(values)\n",
    "print('Min: %f, Max: %f' % (scaler.data_min_, scaler.data_max_))\n",
    "# normalize the dataset and print the first 5 rows\n",
    "normalized_healthy = scaler.transform(values)\n",
    "\n",
    "values = df_trans[df_trans['Healthy'] == 0].groupby('time')['id'].nunique().values\n",
    "values = values.reshape((len(values), 1))\n",
    "# train the normalization\n",
    "scaler = MinMaxScaler(feature_range=(0, 1))\n",
    "scaler = scaler.fit(values)\n",
    "print('Min: %f, Max: %f' % (scaler.data_min_, scaler.data_max_))\n",
    "# normalize the dataset and print the first 5 rows\n",
    "normalized_unhealthy = scaler.transform(values)\n",
    "normalized_healthy\n"
   ]
  },
  {
   "cell_type": "code",
   "execution_count": 98,
   "metadata": {
    "scrolled": false
   },
   "outputs": [
    {
     "data": {
      "text/plain": [
       "<matplotlib.legend.Legend at 0x7f9ffb496fd0>"
      ]
     },
     "execution_count": 98,
     "metadata": {},
     "output_type": "execute_result"
    },
    {
     "data": {
      "image/png": "[encoded data removed]",
      "text/plain": [
       "<Figure size 640x480 with 1 Axes>"
      ]
     },
     "metadata": {
      "needs_background": "light"
     },
     "output_type": "display_data"
    }
   ],
   "source": [
    "from matplotlib.pyplot import figure\n",
    "\n",
    "figure(num=None, figsize=(8, 6), dpi=80)\n",
    "\n",
    "ax2 = ((df_trans[df_trans['Healthy'] == 0].groupby('time')['id'].nunique() - \\\n",
    "                        df_trans[df_trans['Healthy'] == 0].groupby('time')['id'].nunique().mean())/df_trans[df_trans['Healthy'] == 0].\\\n",
    "                        groupby('time')['id'].nunique().std()).plot(color='red', alpha = 0.8, grid=True, label='unhealthy people')\n",
    "ax1 = ((df_trans[df_trans['Healthy'] == 1].groupby('time')['id'].nunique() - \\\n",
    "                        df_trans[df_trans['Healthy'] == 1].groupby('time')['id'].nunique().mean())/df_trans[df_trans['Healthy'] == 1].\\\n",
    "                        groupby('time')['id'].nunique().std()).plot(color='green', alpha = 0.4, grid=True, label='healthy_people')\n",
    "\n",
    "plt.title(\"Number of visits per day by healthy and unhealthy customers\")\n",
    "plt.legend()"
   ]
  },
  {
   "cell_type": "code",
   "execution_count": 250,
   "metadata": {},
   "outputs": [],
   "source": [
    "df = pd.read_csv(\"/Users/aliyadavletshina/Downloads/standardized_data.csv\")\n"
   ]
  },
  {
   "cell_type": "code",
   "execution_count": 252,
   "metadata": {},
   "outputs": [
    {
     "data": {
      "text/html": [
       "<div>\n",
       "<style scoped>\n",
       "    .dataframe tbody tr th:only-of-type {\n",
       "        vertical-align: middle;\n",
       "    }\n",
       "\n",
       "    .dataframe tbody tr th {\n",
       "        vertical-align: top;\n",
       "    }\n",
       "\n",
       "    .dataframe thead th {\n",
       "        text-align: right;\n",
       "    }\n",
       "</style>\n",
       "<table border=\"1\" class=\"dataframe\">\n",
       "  <thead>\n",
       "    <tr style=\"text-align: right;\">\n",
       "      <th></th>\n",
       "      <th>index</th>\n",
       "      <th>customer</th>\n",
       "      <th>Carrefour product</th>\n",
       "      <th>Contains plastic / made up of plastic (contains string 'filmado')</th>\n",
       "      <th>Very Salty</th>\n",
       "      <th>Junk / Fatty</th>\n",
       "      <th>\"Raffinato\"</th>\n",
       "      <th>Fruit - list internet</th>\n",
       "      <th>Vegetable and greens - List on internet</th>\n",
       "      <th>Family product</th>\n",
       "      <th>...</th>\n",
       "      <th>Clothes</th>\n",
       "      <th>Hygiene</th>\n",
       "      <th>For children</th>\n",
       "      <th>Medical</th>\n",
       "      <th>Woman</th>\n",
       "      <th>Plants</th>\n",
       "      <th>Discounts</th>\n",
       "      <th>Man</th>\n",
       "      <th>net_am</th>\n",
       "      <th>Healthy</th>\n",
       "    </tr>\n",
       "  </thead>\n",
       "  <tbody>\n",
       "    <tr>\n",
       "      <th>0</th>\n",
       "      <td>0</td>\n",
       "      <td>77000001548</td>\n",
       "      <td>-0.158321</td>\n",
       "      <td>-0.053447</td>\n",
       "      <td>-0.350373</td>\n",
       "      <td>0.337635</td>\n",
       "      <td>-0.097112</td>\n",
       "      <td>-0.180019</td>\n",
       "      <td>-0.028216</td>\n",
       "      <td>-0.032503</td>\n",
       "      <td>...</td>\n",
       "      <td>-0.150810</td>\n",
       "      <td>0.304416</td>\n",
       "      <td>-0.085269</td>\n",
       "      <td>-0.155957</td>\n",
       "      <td>-0.131868</td>\n",
       "      <td>-0.057960</td>\n",
       "      <td>-0.034186</td>\n",
       "      <td>-0.057877</td>\n",
       "      <td>-0.080189</td>\n",
       "      <td>0</td>\n",
       "    </tr>\n",
       "    <tr>\n",
       "      <th>1</th>\n",
       "      <td>1</td>\n",
       "      <td>77000001680</td>\n",
       "      <td>-0.096066</td>\n",
       "      <td>-0.028327</td>\n",
       "      <td>0.037753</td>\n",
       "      <td>0.157667</td>\n",
       "      <td>-0.059877</td>\n",
       "      <td>-0.277066</td>\n",
       "      <td>0.006771</td>\n",
       "      <td>0.031094</td>\n",
       "      <td>...</td>\n",
       "      <td>0.019058</td>\n",
       "      <td>0.137045</td>\n",
       "      <td>-0.085269</td>\n",
       "      <td>-0.117979</td>\n",
       "      <td>-0.131868</td>\n",
       "      <td>-0.057960</td>\n",
       "      <td>-0.034186</td>\n",
       "      <td>-0.057877</td>\n",
       "      <td>-0.064374</td>\n",
       "      <td>0</td>\n",
       "    </tr>\n",
       "    <tr>\n",
       "      <th>2</th>\n",
       "      <td>2</td>\n",
       "      <td>77000002166</td>\n",
       "      <td>-0.015346</td>\n",
       "      <td>0.000591</td>\n",
       "      <td>0.111469</td>\n",
       "      <td>-0.026350</td>\n",
       "      <td>-0.051519</td>\n",
       "      <td>-0.257449</td>\n",
       "      <td>-0.046120</td>\n",
       "      <td>-0.069408</td>\n",
       "      <td>...</td>\n",
       "      <td>-0.078354</td>\n",
       "      <td>-0.195917</td>\n",
       "      <td>-0.085269</td>\n",
       "      <td>-0.058762</td>\n",
       "      <td>-0.034960</td>\n",
       "      <td>0.119172</td>\n",
       "      <td>-0.034186</td>\n",
       "      <td>-0.057877</td>\n",
       "      <td>-0.157043</td>\n",
       "      <td>0</td>\n",
       "    </tr>\n",
       "    <tr>\n",
       "      <th>3</th>\n",
       "      <td>3</td>\n",
       "      <td>77000004744</td>\n",
       "      <td>-0.190864</td>\n",
       "      <td>-0.037327</td>\n",
       "      <td>0.347066</td>\n",
       "      <td>0.131442</td>\n",
       "      <td>-0.215505</td>\n",
       "      <td>-0.366925</td>\n",
       "      <td>0.012306</td>\n",
       "      <td>-0.311227</td>\n",
       "      <td>...</td>\n",
       "      <td>-0.058155</td>\n",
       "      <td>0.038787</td>\n",
       "      <td>-0.085269</td>\n",
       "      <td>-0.093811</td>\n",
       "      <td>-0.007944</td>\n",
       "      <td>-0.057960</td>\n",
       "      <td>-0.034186</td>\n",
       "      <td>-0.057877</td>\n",
       "      <td>-0.098536</td>\n",
       "      <td>0</td>\n",
       "    </tr>\n",
       "    <tr>\n",
       "      <th>4</th>\n",
       "      <td>4</td>\n",
       "      <td>77000005496</td>\n",
       "      <td>-0.443657</td>\n",
       "      <td>-0.062196</td>\n",
       "      <td>-0.448311</td>\n",
       "      <td>-0.592346</td>\n",
       "      <td>0.284225</td>\n",
       "      <td>1.313724</td>\n",
       "      <td>-0.019195</td>\n",
       "      <td>-0.365278</td>\n",
       "      <td>...</td>\n",
       "      <td>-0.150810</td>\n",
       "      <td>-0.403379</td>\n",
       "      <td>-0.085269</td>\n",
       "      <td>-0.155957</td>\n",
       "      <td>-0.131868</td>\n",
       "      <td>-0.057960</td>\n",
       "      <td>-0.034186</td>\n",
       "      <td>-0.057877</td>\n",
       "      <td>-0.100717</td>\n",
       "      <td>0</td>\n",
       "    </tr>\n",
       "  </tbody>\n",
       "</table>\n",
       "<p>5 rows × 42 columns</p>\n",
       "</div>"
      ],
      "text/plain": [
       "   index     customer  Carrefour product  \\\n",
       "0      0  77000001548          -0.158321   \n",
       "1      1  77000001680          -0.096066   \n",
       "2      2  77000002166          -0.015346   \n",
       "3      3  77000004744          -0.190864   \n",
       "4      4  77000005496          -0.443657   \n",
       "\n",
       "   Contains plastic / made up of plastic (contains string 'filmado')  \\\n",
       "0                                          -0.053447                   \n",
       "1                                          -0.028327                   \n",
       "2                                           0.000591                   \n",
       "3                                          -0.037327                   \n",
       "4                                          -0.062196                   \n",
       "\n",
       "   Very Salty  Junk / Fatty  \"Raffinato\"  Fruit - list internet  \\\n",
       "0   -0.350373      0.337635    -0.097112              -0.180019   \n",
       "1    0.037753      0.157667    -0.059877              -0.277066   \n",
       "2    0.111469     -0.026350    -0.051519              -0.257449   \n",
       "3    0.347066      0.131442    -0.215505              -0.366925   \n",
       "4   -0.448311     -0.592346     0.284225               1.313724   \n",
       "\n",
       "   Vegetable and greens - List on internet  Family product  ...   Clothes  \\\n",
       "0                                -0.028216       -0.032503  ... -0.150810   \n",
       "1                                 0.006771        0.031094  ...  0.019058   \n",
       "2                                -0.046120       -0.069408  ... -0.078354   \n",
       "3                                 0.012306       -0.311227  ... -0.058155   \n",
       "4                                -0.019195       -0.365278  ... -0.150810   \n",
       "\n",
       "    Hygiene  For children   Medical     Woman    Plants  Discounts       Man  \\\n",
       "0  0.304416     -0.085269 -0.155957 -0.131868 -0.057960  -0.034186 -0.057877   \n",
       "1  0.137045     -0.085269 -0.117979 -0.131868 -0.057960  -0.034186 -0.057877   \n",
       "2 -0.195917     -0.085269 -0.058762 -0.034960  0.119172  -0.034186 -0.057877   \n",
       "3  0.038787     -0.085269 -0.093811 -0.007944 -0.057960  -0.034186 -0.057877   \n",
       "4 -0.403379     -0.085269 -0.155957 -0.131868 -0.057960  -0.034186 -0.057877   \n",
       "\n",
       "     net_am  Healthy  \n",
       "0 -0.080189        0  \n",
       "1 -0.064374        0  \n",
       "2 -0.157043        0  \n",
       "3 -0.098536        0  \n",
       "4 -0.100717        0  \n",
       "\n",
       "[5 rows x 42 columns]"
      ]
     },
     "execution_count": 252,
     "metadata": {},
     "output_type": "execute_result"
    }
   ],
   "source": [
    "df.head()\n",
    "df_standardized = pd.merge(df.reset_index(), df_healthy.reset_index()[['customer', 'Healthy']], how ='inner', on = 'customer')\n",
    "df_standardized.head()"
   ]
  },
  {
   "cell_type": "code",
   "execution_count": 255,
   "metadata": {},
   "outputs": [
    {
     "data": {
      "text/plain": [
       "count    54646.000000\n",
       "mean         0.080024\n",
       "std          0.271333\n",
       "min          0.000000\n",
       "25%          0.000000\n",
       "50%          0.000000\n",
       "75%          0.000000\n",
       "max          1.000000\n",
       "Name: Healthy, dtype: float64"
      ]
     },
     "execution_count": 255,
     "metadata": {},
     "output_type": "execute_result"
    }
   ],
   "source": [
    "df_standardized.Healthy.describe()"
   ]
  },
  {
   "cell_type": "code",
   "execution_count": 261,
   "metadata": {},
   "outputs": [],
   "source": [
    "df_standardized.columns = ['index', 'customer', 'Carrefour product',\n",
    "       'Contains plastic',\n",
    "       'Very salty', 'Junk', 'Refined', 'Fruit',\n",
    "       'Vegetables', 'Family product', 'Alcohol',\n",
    "       'Ready to eat', 'Snacks', 'High in sugar',\n",
    "       'Packed in glass or aluminum', 'Condimenti', 'Cook', 'Integrale', 'Egg',\n",
    "       'Fish', 'White meat', 'Red meat',\n",
    "       'Dairy', 'Drinks', 'Coffee',\n",
    "       'For pets', 'Legumes', 'Fitness products', 'Cereals',\n",
    "       'Instruments to cook', 'One-time use product', 'House products',\n",
    "       'Clothes', 'Hygiene', 'For children', 'Medical', 'Woman', 'Plants',\n",
    "       'Discounts', 'Man', 'net_am', 'Healthy']\n",
    "\n",
    "# Fruit\tVegetable\tRed meat\tFish\tEgg\tSnacks\tJunk\tReady to eat/drink\tAlcohol\tContains plastic\t"
   ]
  },
  {
   "cell_type": "code",
   "execution_count": 288,
   "metadata": {},
   "outputs": [
    {
     "name": "stderr",
     "output_type": "stream",
     "text": [
      "<ipython-input-288-6d0c58744993>:6: FutureWarning: Indexing with multiple keys (implicitly converted to a tuple of keys) will be deprecated, use a list instead.\n",
      "  data=df_standardized.groupby(\"Healthy\")['Vegetables','Fruit','Junk','Egg','Snacks','Ready to eat',\\\n"
     ]
    },
    {
     "data": {
      "text/plain": [
       "<seaborn.axisgrid.FacetGrid at 0x7f9c89d12b80>"
      ]
     },
     "execution_count": 288,
     "metadata": {},
     "output_type": "execute_result"
    },
    {
     "data": {
      "text/plain": [
       "<Figure size 1152x432 with 0 Axes>"
      ]
     },
     "metadata": {},
     "output_type": "display_data"
    },
    {
     "data": {
      "image/png": "[encoded data removed]",
      "text/plain": [
       "<Figure size 685.426x451.44 with 1 Axes>"
      ]
     },
     "metadata": {
      "needs_background": "light"
     },
     "output_type": "display_data"
    }
   ],
   "source": [
    "plt.figure(figsize=(16, 6))\n",
    "# fig.set_size_inches(11.7, 8.27)\n",
    "\n",
    "g = sns.catplot(x=\"variable\", y=\"value\",\n",
    "               hue=\"Healthy\",\n",
    "               data=df_standardized.groupby(\"Healthy\")['Vegetables','Fruit','Junk','Egg','Snacks','Ready to eat',\\\n",
    "                                    'Red meat','Contains plastic','Alcohol'].mean().reset_index().melt(id_vars =['Healthy']), kind=\"bar\",\\\n",
    "               height=6.27, aspect=11.7/8.27)\n",
    "g.set_xticklabels(rotation=30)"
   ]
  },
  {
   "cell_type": "code",
   "execution_count": 290,
   "metadata": {},
   "outputs": [
    {
     "name": "stderr",
     "output_type": "stream",
     "text": [
      "<ipython-input-290-4c0958824c97>:3: FutureWarning: Indexing with multiple keys (implicitly converted to a tuple of keys) will be deprecated, use a list instead.\n",
      "  data=df_standardized.groupby(\"Healthy\")['High in sugar','Packed in glass or aluminum', \\\n"
     ]
    },
    {
     "data": {
      "text/plain": [
       "<seaborn.axisgrid.FacetGrid at 0x7f9f07f8f4c0>"
      ]
     },
     "execution_count": 290,
     "metadata": {},
     "output_type": "execute_result"
    },
    {
     "data": {
      "image/png": "[encoded data removed]",
      "text/plain": [
       "<Figure size 685.426x451.44 with 1 Axes>"
      ]
     },
     "metadata": {
      "needs_background": "light"
     },
     "output_type": "display_data"
    }
   ],
   "source": [
    "\n",
    "g = sns.catplot(x=\"variable\", y=\"value\",\n",
    "               hue=\"Healthy\",\n",
    "               data=df_standardized.groupby(\"Healthy\")['High in sugar','Packed in glass or aluminum', \\\n",
    "                                                       'Condimenti', 'Cook', 'Integrale','Very salty','House products',\\\n",
    "                                                       'Dairy','Coffee','For pets', 'Legumes'].\\\n",
    "                mean().reset_index().melt(id_vars =['Healthy']), kind=\"bar\",\\\n",
    "               height=6.27, aspect=11.7/8.27)\n",
    "g.set_xticklabels(rotation=30)\n",
    "\n",
    "# 'Fish', 'White meat', 'Red meat',\n",
    "#        'Dairy', 'Drinks', 'Coffee',\n",
    "#        'For pets', 'Legumes', 'Fitness products', 'Cereals',\n",
    "#        'Instruments to cook', 'One-time use product', 'House products',\n",
    "#        'Clothes', 'Hygiene', 'For children', 'Medical', 'Woman', 'Plants',"
   ]
  },
  {
   "cell_type": "code",
   "execution_count": null,
   "metadata": {},
   "outputs": [],
   "source": []
  }
 ],
 "metadata": {
  "kernelspec": {
   "display_name": "Python 3",
   "language": "python",
   "name": "python3"
  },
  "language_info": {
   "codemirror_mode": {
    "name": "ipython",
    "version": 3
   },
   "file_extension": ".py",
   "mimetype": "text/x-python",
   "name": "python",
   "nbconvert_exporter": "python",
   "pygments_lexer": "ipython3",
   "version": "3.8.3"
  }
 },
 "nbformat": 4,
 "nbformat_minor": 2
}
