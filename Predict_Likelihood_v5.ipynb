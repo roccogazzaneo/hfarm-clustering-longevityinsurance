{
 "cells": [
  {
   "cell_type": "code",
   "execution_count": 1,
   "metadata": {},
   "outputs": [],
   "source": [
    "import pandas as pd\n",
    "import numpy as np\n",
    "import seaborn as sns\n",
    "import matplotlib.pyplot as plt\n",
    "plt.style.use('seaborn')\n",
    "df = pd.read_csv(\"C:/Users/Pc_User/Desktop/H-Farm/predict_likelihood_v5.csv\", index_col=0).drop(['labels', 'Score'],axis=1)\n",
    "columns = list(df.columns.values)\n",
    "df.reset_index(inplace=True)\n",
    "customer_persona = pd.read_csv(\"C:/Users/Pc_User/Desktop/H-Farm/customer_persona.csv\").drop('Unnamed: 0', axis=1)\n",
    "customer_persona = customer_persona[customer_persona['Category'].isin(list(df.columns.values))]"
   ]
  },
  {
   "cell_type": "markdown",
   "metadata": {},
   "source": [
    "### Compute the distance of each data point from the customer persona"
   ]
  },
  {
   "cell_type": "code",
   "execution_count": 2,
   "metadata": {},
   "outputs": [
    {
     "data": {
      "text/html": [
       "<div>\n",
       "<style scoped>\n",
       "    .dataframe tbody tr th:only-of-type {\n",
       "        vertical-align: middle;\n",
       "    }\n",
       "\n",
       "    .dataframe tbody tr th {\n",
       "        vertical-align: top;\n",
       "    }\n",
       "\n",
       "    .dataframe thead th {\n",
       "        text-align: right;\n",
       "    }\n",
       "</style>\n",
       "<table border=\"1\" class=\"dataframe\">\n",
       "  <thead>\n",
       "    <tr style=\"text-align: right;\">\n",
       "      <th></th>\n",
       "      <th>Category</th>\n",
       "      <th>Mean value among those buying insurance</th>\n",
       "    </tr>\n",
       "  </thead>\n",
       "  <tbody>\n",
       "    <tr>\n",
       "      <th>1</th>\n",
       "      <td>Fruit</td>\n",
       "      <td>4.2</td>\n",
       "    </tr>\n",
       "    <tr>\n",
       "      <th>2</th>\n",
       "      <td>Vegetable</td>\n",
       "      <td>4.4</td>\n",
       "    </tr>\n",
       "    <tr>\n",
       "      <th>3</th>\n",
       "      <td>Red meat</td>\n",
       "      <td>3.0</td>\n",
       "    </tr>\n",
       "    <tr>\n",
       "      <th>4</th>\n",
       "      <td>Fish</td>\n",
       "      <td>3.0</td>\n",
       "    </tr>\n",
       "    <tr>\n",
       "      <th>5</th>\n",
       "      <td>Egg</td>\n",
       "      <td>2.6</td>\n",
       "    </tr>\n",
       "    <tr>\n",
       "      <th>6</th>\n",
       "      <td>Snacks</td>\n",
       "      <td>2.6</td>\n",
       "    </tr>\n",
       "    <tr>\n",
       "      <th>7</th>\n",
       "      <td>Junk</td>\n",
       "      <td>1.4</td>\n",
       "    </tr>\n",
       "    <tr>\n",
       "      <th>8</th>\n",
       "      <td>Ready to eat/drink</td>\n",
       "      <td>1.8</td>\n",
       "    </tr>\n",
       "    <tr>\n",
       "      <th>9</th>\n",
       "      <td>Alcohol</td>\n",
       "      <td>2.6</td>\n",
       "    </tr>\n",
       "    <tr>\n",
       "      <th>11</th>\n",
       "      <td>Contains plastic</td>\n",
       "      <td>2.6</td>\n",
       "    </tr>\n",
       "  </tbody>\n",
       "</table>\n",
       "</div>"
      ],
      "text/plain": [
       "              Category  Mean value among those buying insurance\n",
       "1                Fruit                                      4.2\n",
       "2            Vegetable                                      4.4\n",
       "3             Red meat                                      3.0\n",
       "4                 Fish                                      3.0\n",
       "5                  Egg                                      2.6\n",
       "6               Snacks                                      2.6\n",
       "7                 Junk                                      1.4\n",
       "8   Ready to eat/drink                                      1.8\n",
       "9              Alcohol                                      2.6\n",
       "11    Contains plastic                                      2.6"
      ]
     },
     "execution_count": 2,
     "metadata": {},
     "output_type": "execute_result"
    }
   ],
   "source": [
    "customer_persona"
   ]
  },
  {
   "cell_type": "code",
   "execution_count": 3,
   "metadata": {},
   "outputs": [
    {
     "data": {
      "text/html": [
       "<div>\n",
       "<style scoped>\n",
       "    .dataframe tbody tr th:only-of-type {\n",
       "        vertical-align: middle;\n",
       "    }\n",
       "\n",
       "    .dataframe tbody tr th {\n",
       "        vertical-align: top;\n",
       "    }\n",
       "\n",
       "    .dataframe thead th {\n",
       "        text-align: right;\n",
       "    }\n",
       "</style>\n",
       "<table border=\"1\" class=\"dataframe\">\n",
       "  <thead>\n",
       "    <tr style=\"text-align: right;\">\n",
       "      <th></th>\n",
       "      <th>customer</th>\n",
       "      <th>Fruit</th>\n",
       "      <th>Vegetable</th>\n",
       "      <th>Red meat</th>\n",
       "      <th>Fish</th>\n",
       "      <th>Egg</th>\n",
       "      <th>Snacks</th>\n",
       "      <th>Junk</th>\n",
       "      <th>Ready to eat/drink</th>\n",
       "      <th>Alcohol</th>\n",
       "      <th>Contains plastic</th>\n",
       "    </tr>\n",
       "  </thead>\n",
       "  <tbody>\n",
       "    <tr>\n",
       "      <th>0</th>\n",
       "      <td>77000001548</td>\n",
       "      <td>2.220152</td>\n",
       "      <td>2.774401</td>\n",
       "      <td>3.228952</td>\n",
       "      <td>1.715294</td>\n",
       "      <td>2.024853</td>\n",
       "      <td>1.880597</td>\n",
       "      <td>3.223240</td>\n",
       "      <td>2.962881</td>\n",
       "      <td>2.220152</td>\n",
       "      <td>2.638226</td>\n",
       "    </tr>\n",
       "    <tr>\n",
       "      <th>1</th>\n",
       "      <td>77000001680</td>\n",
       "      <td>2.662434</td>\n",
       "      <td>3.417868</td>\n",
       "      <td>2.951960</td>\n",
       "      <td>2.639690</td>\n",
       "      <td>1.884086</td>\n",
       "      <td>1.716192</td>\n",
       "      <td>3.211076</td>\n",
       "      <td>2.217409</td>\n",
       "      <td>2.109518</td>\n",
       "      <td>2.438544</td>\n",
       "    </tr>\n",
       "    <tr>\n",
       "      <th>2</th>\n",
       "      <td>77000002166</td>\n",
       "      <td>2.708316</td>\n",
       "      <td>3.054547</td>\n",
       "      <td>2.625417</td>\n",
       "      <td>2.379250</td>\n",
       "      <td>1.817820</td>\n",
       "      <td>1.904317</td>\n",
       "      <td>2.910788</td>\n",
       "      <td>2.578741</td>\n",
       "      <td>2.525019</td>\n",
       "      <td>2.947967</td>\n",
       "    </tr>\n",
       "    <tr>\n",
       "      <th>3</th>\n",
       "      <td>77000004744</td>\n",
       "      <td>2.384525</td>\n",
       "      <td>3.629949</td>\n",
       "      <td>3.110104</td>\n",
       "      <td>3.159294</td>\n",
       "      <td>1.454771</td>\n",
       "      <td>1.896563</td>\n",
       "      <td>3.063224</td>\n",
       "      <td>2.320064</td>\n",
       "      <td>3.018718</td>\n",
       "      <td>2.976957</td>\n",
       "    </tr>\n",
       "    <tr>\n",
       "      <th>4</th>\n",
       "      <td>77000005496</td>\n",
       "      <td>3.672307</td>\n",
       "      <td>1.000000</td>\n",
       "      <td>1.000000</td>\n",
       "      <td>1.000000</td>\n",
       "      <td>1.000000</td>\n",
       "      <td>1.000000</td>\n",
       "      <td>1.000000</td>\n",
       "      <td>1.000000</td>\n",
       "      <td>1.000000</td>\n",
       "      <td>1.000000</td>\n",
       "    </tr>\n",
       "  </tbody>\n",
       "</table>\n",
       "</div>"
      ],
      "text/plain": [
       "      customer     Fruit  Vegetable  Red meat      Fish       Egg    Snacks  \\\n",
       "0  77000001548  2.220152   2.774401  3.228952  1.715294  2.024853  1.880597   \n",
       "1  77000001680  2.662434   3.417868  2.951960  2.639690  1.884086  1.716192   \n",
       "2  77000002166  2.708316   3.054547  2.625417  2.379250  1.817820  1.904317   \n",
       "3  77000004744  2.384525   3.629949  3.110104  3.159294  1.454771  1.896563   \n",
       "4  77000005496  3.672307   1.000000  1.000000  1.000000  1.000000  1.000000   \n",
       "\n",
       "       Junk  Ready to eat/drink   Alcohol  Contains plastic  \n",
       "0  3.223240            2.962881  2.220152          2.638226  \n",
       "1  3.211076            2.217409  2.109518          2.438544  \n",
       "2  2.910788            2.578741  2.525019          2.947967  \n",
       "3  3.063224            2.320064  3.018718          2.976957  \n",
       "4  1.000000            1.000000  1.000000          1.000000  "
      ]
     },
     "execution_count": 3,
     "metadata": {},
     "output_type": "execute_result"
    }
   ],
   "source": [
    "customer_index = df['customer']\n",
    "df.head(5)"
   ]
  },
  {
   "cell_type": "markdown",
   "metadata": {},
   "source": [
    "## Create a \"Loss function\" which calculates the sum for all categories of the squared difference of each value from the mean of customer persona"
   ]
  },
  {
   "cell_type": "code",
   "execution_count": 4,
   "metadata": {},
   "outputs": [],
   "source": [
    "broadcast = pd.concat([customer_persona['Mean value among those buying insurance']] * len(df), axis=1).T.reset_index(drop=True)\n",
    "broadcast.columns = columns"
   ]
  },
  {
   "cell_type": "code",
   "execution_count": 5,
   "metadata": {},
   "outputs": [
    {
     "data": {
      "text/html": [
       "<div>\n",
       "<style scoped>\n",
       "    .dataframe tbody tr th:only-of-type {\n",
       "        vertical-align: middle;\n",
       "    }\n",
       "\n",
       "    .dataframe tbody tr th {\n",
       "        vertical-align: top;\n",
       "    }\n",
       "\n",
       "    .dataframe thead th {\n",
       "        text-align: right;\n",
       "    }\n",
       "</style>\n",
       "<table border=\"1\" class=\"dataframe\">\n",
       "  <thead>\n",
       "    <tr style=\"text-align: right;\">\n",
       "      <th></th>\n",
       "      <th>Loss</th>\n",
       "    </tr>\n",
       "    <tr>\n",
       "      <th>customer</th>\n",
       "      <th></th>\n",
       "    </tr>\n",
       "  </thead>\n",
       "  <tbody>\n",
       "    <tr>\n",
       "      <th>77000001548</th>\n",
       "      <td>13.935832</td>\n",
       "    </tr>\n",
       "    <tr>\n",
       "      <th>77000001680</th>\n",
       "      <td>8.475344</td>\n",
       "    </tr>\n",
       "    <tr>\n",
       "      <th>77000002166</th>\n",
       "      <td>8.672407</td>\n",
       "    </tr>\n",
       "    <tr>\n",
       "      <th>77000004744</th>\n",
       "      <td>9.087001</td>\n",
       "    </tr>\n",
       "    <tr>\n",
       "      <th>77000005496</th>\n",
       "      <td>30.878460</td>\n",
       "    </tr>\n",
       "    <tr>\n",
       "      <th>77000013484</th>\n",
       "      <td>27.614853</td>\n",
       "    </tr>\n",
       "    <tr>\n",
       "      <th>77000016559</th>\n",
       "      <td>28.436362</td>\n",
       "    </tr>\n",
       "    <tr>\n",
       "      <th>77000018175</th>\n",
       "      <td>15.525187</td>\n",
       "    </tr>\n",
       "    <tr>\n",
       "      <th>77000019287</th>\n",
       "      <td>25.449900</td>\n",
       "    </tr>\n",
       "    <tr>\n",
       "      <th>77000019784</th>\n",
       "      <td>9.975797</td>\n",
       "    </tr>\n",
       "    <tr>\n",
       "      <th>77000021548</th>\n",
       "      <td>6.416391</td>\n",
       "    </tr>\n",
       "    <tr>\n",
       "      <th>77000022356</th>\n",
       "      <td>13.720390</td>\n",
       "    </tr>\n",
       "    <tr>\n",
       "      <th>77000025660</th>\n",
       "      <td>6.274160</td>\n",
       "    </tr>\n",
       "    <tr>\n",
       "      <th>77000025990</th>\n",
       "      <td>17.798068</td>\n",
       "    </tr>\n",
       "    <tr>\n",
       "      <th>77000028401</th>\n",
       "      <td>21.926825</td>\n",
       "    </tr>\n",
       "    <tr>\n",
       "      <th>77000028423</th>\n",
       "      <td>7.707127</td>\n",
       "    </tr>\n",
       "    <tr>\n",
       "      <th>77000029204</th>\n",
       "      <td>12.726375</td>\n",
       "    </tr>\n",
       "    <tr>\n",
       "      <th>77000030689</th>\n",
       "      <td>30.264757</td>\n",
       "    </tr>\n",
       "    <tr>\n",
       "      <th>77000033980</th>\n",
       "      <td>42.302856</td>\n",
       "    </tr>\n",
       "    <tr>\n",
       "      <th>77000036266</th>\n",
       "      <td>16.024781</td>\n",
       "    </tr>\n",
       "  </tbody>\n",
       "</table>\n",
       "</div>"
      ],
      "text/plain": [
       "                  Loss\n",
       "customer              \n",
       "77000001548  13.935832\n",
       "77000001680   8.475344\n",
       "77000002166   8.672407\n",
       "77000004744   9.087001\n",
       "77000005496  30.878460\n",
       "77000013484  27.614853\n",
       "77000016559  28.436362\n",
       "77000018175  15.525187\n",
       "77000019287  25.449900\n",
       "77000019784   9.975797\n",
       "77000021548   6.416391\n",
       "77000022356  13.720390\n",
       "77000025660   6.274160\n",
       "77000025990  17.798068\n",
       "77000028401  21.926825\n",
       "77000028423   7.707127\n",
       "77000029204  12.726375\n",
       "77000030689  30.264757\n",
       "77000033980  42.302856\n",
       "77000036266  16.024781"
      ]
     },
     "execution_count": 5,
     "metadata": {},
     "output_type": "execute_result"
    }
   ],
   "source": [
    "loss_per_customer = pd.concat([np.sum((df[columns] - broadcast)**2, axis=1), df['customer']], axis=1).set_index('customer')\n",
    "loss_per_customer.columns = ['Loss']\n",
    "loss_per_customer.head(20)"
   ]
  },
  {
   "cell_type": "code",
   "execution_count": 6,
   "metadata": {},
   "outputs": [
    {
     "name": "stderr",
     "output_type": "stream",
     "text": [
      "C:\\Users\\Pc_User\\Anaconda3\\envs\\cs7643\\lib\\site-packages\\scipy\\stats\\stats.py:1713: FutureWarning: Using a non-tuple sequence for multidimensional indexing is deprecated; use `arr[tuple(seq)]` instead of `arr[seq]`. In the future this will be interpreted as an array index, `arr[np.array(seq)]`, which will result either in an error or a different result.\n",
      "  return np.add.reduce(sorted[indexer] * weights, axis=axis) / sumval\n"
     ]
    },
    {
     "data": {
      "text/plain": [
       "<matplotlib.axes._subplots.AxesSubplot at 0x219e2e3e748>"
      ]
     },
     "execution_count": 6,
     "metadata": {},
     "output_type": "execute_result"
    },
    {
     "data": {
      "image/png": "[encoded data removed]",
      "text/plain": [
       "<Figure size 432x288 with 1 Axes>"
      ]
     },
     "metadata": {
      "needs_background": "light"
     },
     "output_type": "display_data"
    }
   ],
   "source": [
    "sns.distplot(loss_per_customer['Loss'])"
   ]
  },
  {
   "cell_type": "code",
   "execution_count": 7,
   "metadata": {},
   "outputs": [],
   "source": [
    "loss_per_customer['Constant'] = '0'"
   ]
  },
  {
   "cell_type": "code",
   "execution_count": 8,
   "metadata": {},
   "outputs": [],
   "source": [
    "from sklearn.cluster import KMeans\n",
    "def K_means(data, number_of_clusters, one_dim=False):\n",
    "    if one_dim:\n",
    "        km = KMeans(n_clusters=number_of_clusters)\n",
    "        labels = km.fit_predict(np.array(data).reshape(-1, 1))\n",
    "        return np.squeeze(labels)\n",
    "    else:\n",
    "        km = KMeans(n_clusters=number_of_clusters)\n",
    "        labels = km.fit_predict(np.array(data))\n",
    "        data['labels'] = np.squeeze(labels)"
   ]
  },
  {
   "cell_type": "code",
   "execution_count": 9,
   "metadata": {},
   "outputs": [
    {
     "data": {
      "text/plain": [
       "<matplotlib.legend.Legend at 0x219f63e1c50>"
      ]
     },
     "execution_count": 9,
     "metadata": {},
     "output_type": "execute_result"
    },
    {
     "data": {
      "image/png": "[encoded data removed]",
      "text/plain": [
       "<Figure size 432x288 with 1 Axes>"
      ]
     },
     "metadata": {
      "needs_background": "light"
     },
     "output_type": "display_data"
    }
   ],
   "source": [
    "loss_per_customer['labels'] = K_means(loss_per_customer['Loss'], 2, True)\n",
    "sample = loss_per_customer.sample(500)\n",
    "sample['labels'].replace({1:'Offer them insurance', 0:'Don\\'t offer them insurance'})\n",
    "sns.stripplot(x=sample['Constant'], y=sample['Loss'] ,hue=sample['labels'],jitter=True, orient='v')\n",
    "plt.legend()"
   ]
  },
  {
   "cell_type": "code",
   "execution_count": 10,
   "metadata": {},
   "outputs": [],
   "source": [
    "healthy_categorization = pd.read_csv(\"C:/Users/Pc_User/Desktop/H-Farm/aliya_healthy.csv\").set_index('customer')['Healthy']\n",
    "assert len(healthy_categorization) == len(loss_per_customer)"
   ]
  },
  {
   "cell_type": "code",
   "execution_count": 11,
   "metadata": {},
   "outputs": [
    {
     "data": {
      "text/html": [
       "<div>\n",
       "<style scoped>\n",
       "    .dataframe tbody tr th:only-of-type {\n",
       "        vertical-align: middle;\n",
       "    }\n",
       "\n",
       "    .dataframe tbody tr th {\n",
       "        vertical-align: top;\n",
       "    }\n",
       "\n",
       "    .dataframe thead th {\n",
       "        text-align: right;\n",
       "    }\n",
       "</style>\n",
       "<table border=\"1\" class=\"dataframe\">\n",
       "  <thead>\n",
       "    <tr style=\"text-align: right;\">\n",
       "      <th></th>\n",
       "      <th>Healthy</th>\n",
       "      <th>Loss</th>\n",
       "    </tr>\n",
       "    <tr>\n",
       "      <th>customer</th>\n",
       "      <th></th>\n",
       "      <th></th>\n",
       "    </tr>\n",
       "  </thead>\n",
       "  <tbody>\n",
       "    <tr>\n",
       "      <th>77000001548</th>\n",
       "      <td>0</td>\n",
       "      <td>13.935832</td>\n",
       "    </tr>\n",
       "    <tr>\n",
       "      <th>77000001680</th>\n",
       "      <td>0</td>\n",
       "      <td>8.475344</td>\n",
       "    </tr>\n",
       "    <tr>\n",
       "      <th>77000002166</th>\n",
       "      <td>0</td>\n",
       "      <td>8.672407</td>\n",
       "    </tr>\n",
       "    <tr>\n",
       "      <th>77000004744</th>\n",
       "      <td>0</td>\n",
       "      <td>9.087001</td>\n",
       "    </tr>\n",
       "    <tr>\n",
       "      <th>77000005496</th>\n",
       "      <td>0</td>\n",
       "      <td>30.878460</td>\n",
       "    </tr>\n",
       "    <tr>\n",
       "      <th>77000013484</th>\n",
       "      <td>0</td>\n",
       "      <td>27.614853</td>\n",
       "    </tr>\n",
       "    <tr>\n",
       "      <th>77000016559</th>\n",
       "      <td>0</td>\n",
       "      <td>28.436362</td>\n",
       "    </tr>\n",
       "    <tr>\n",
       "      <th>77000018175</th>\n",
       "      <td>0</td>\n",
       "      <td>15.525187</td>\n",
       "    </tr>\n",
       "    <tr>\n",
       "      <th>77000019287</th>\n",
       "      <td>0</td>\n",
       "      <td>25.449900</td>\n",
       "    </tr>\n",
       "    <tr>\n",
       "      <th>77000019784</th>\n",
       "      <td>0</td>\n",
       "      <td>9.975797</td>\n",
       "    </tr>\n",
       "  </tbody>\n",
       "</table>\n",
       "</div>"
      ],
      "text/plain": [
       "             Healthy       Loss\n",
       "customer                       \n",
       "77000001548        0  13.935832\n",
       "77000001680        0   8.475344\n",
       "77000002166        0   8.672407\n",
       "77000004744        0   9.087001\n",
       "77000005496        0  30.878460\n",
       "77000013484        0  27.614853\n",
       "77000016559        0  28.436362\n",
       "77000018175        0  15.525187\n",
       "77000019287        0  25.449900\n",
       "77000019784        0   9.975797"
      ]
     },
     "execution_count": 11,
     "metadata": {},
     "output_type": "execute_result"
    }
   ],
   "source": [
    "loss_vs_healthy = pd.concat([healthy_categorization, loss_per_customer['Loss']], axis=1)\n",
    "loss_vs_healthy.head(10)"
   ]
  },
  {
   "cell_type": "code",
   "execution_count": 12,
   "metadata": {},
   "outputs": [
    {
     "name": "stderr",
     "output_type": "stream",
     "text": [
      "C:\\Users\\Pc_User\\Anaconda3\\envs\\cs7643\\lib\\site-packages\\scipy\\stats\\stats.py:1713: FutureWarning: Using a non-tuple sequence for multidimensional indexing is deprecated; use `arr[tuple(seq)]` instead of `arr[seq]`. In the future this will be interpreted as an array index, `arr[np.array(seq)]`, which will result either in an error or a different result.\n",
      "  return np.add.reduce(sorted[indexer] * weights, axis=axis) / sumval\n"
     ]
    },
    {
     "data": {
      "image/png": "[encoded data removed]",
      "text/plain": [
       "<Figure size 432x288 with 1 Axes>"
      ]
     },
     "metadata": {
      "needs_background": "light"
     },
     "output_type": "display_data"
    }
   ],
   "source": [
    "fig, ax = plt.subplots()\n",
    "ax = sns.kdeplot(loss_vs_healthy.loc[loss_vs_healthy['Healthy'] == 1 , 'Loss'],\n",
    "            color='tomato',\n",
    "            shade=True,\n",
    "            Label='Healthy')\n",
    "\n",
    "ax = sns.kdeplot(loss_vs_healthy.loc[loss_vs_healthy['Healthy'] == 0 , 'Loss'],\n",
    "            color='darkolivegreen',\n",
    "            shade=True,\n",
    "            Label='Unhealthy')\n",
    "\n",
    "_ = ax.set(title=\"Comparing loss distribution between healthy and unhealthy\",\n",
    "          xlabel='Loss')\n",
    "ax.grid(True)"
   ]
  },
  {
   "cell_type": "markdown",
   "metadata": {},
   "source": [
    "## Final t-test"
   ]
  },
  {
   "cell_type": "code",
   "execution_count": 13,
   "metadata": {},
   "outputs": [
    {
     "name": "stdout",
     "output_type": "stream",
     "text": [
      "19.053378864594965\n"
     ]
    }
   ],
   "source": [
    "mean_loss_u = np.mean(loss_vs_healthy['Loss'][loss_vs_healthy['Healthy'] == 0])\n",
    "print(mean_loss_u)"
   ]
  },
  {
   "cell_type": "code",
   "execution_count": 14,
   "metadata": {},
   "outputs": [
    {
     "name": "stdout",
     "output_type": "stream",
     "text": [
      "9.934024671324282\n"
     ]
    }
   ],
   "source": [
    "mean_loss_h = np.mean(loss_vs_healthy['Loss'][loss_vs_healthy['Healthy'] == 1])\n",
    "print(mean_loss_h)"
   ]
  },
  {
   "cell_type": "code",
   "execution_count": 15,
   "metadata": {},
   "outputs": [],
   "source": [
    "mean_diff = mean_loss_u - mean_loss_h"
   ]
  },
  {
   "cell_type": "code",
   "execution_count": 16,
   "metadata": {},
   "outputs": [],
   "source": [
    "standard_error = np.sqrt(\n",
    "    np.var(loss_vs_healthy['Loss'][loss_vs_healthy['Healthy'] == 1]) / np.sum(loss_vs_healthy['Healthy'] == 1) +  \n",
    "    np.var(loss_vs_healthy['Loss'][loss_vs_healthy['Healthy'] == 0]) / np.sum(loss_vs_healthy['Healthy'] == 0))  \n"
   ]
  },
  {
   "cell_type": "code",
   "execution_count": 17,
   "metadata": {},
   "outputs": [
    {
     "data": {
      "text/plain": [
       "120.71983915810513"
      ]
     },
     "execution_count": 17,
     "metadata": {},
     "output_type": "execute_result"
    }
   ],
   "source": [
    "test_statistics = mean_diff / standard_error\n",
    "alpha = 0.05\n",
    "test_statistics"
   ]
  },
  {
   "cell_type": "code",
   "execution_count": 25,
   "metadata": {},
   "outputs": [
    {
     "name": "stdout",
     "output_type": "stream",
     "text": [
      "0.0\n"
     ]
    }
   ],
   "source": [
    "from scipy.stats import t\n",
    "p_value = (1 - t.cdf(test_statistics, len(df) - 2)) * 2\n",
    "print(p_value)"
   ]
  }
 ],
 "metadata": {
  "kernelspec": {
   "display_name": "Python 3",
   "language": "python",
   "name": "python3"
  },
  "language_info": {
   "codemirror_mode": {
    "name": "ipython",
    "version": 3
   },
   "file_extension": ".py",
   "mimetype": "text/x-python",
   "name": "python",
   "nbconvert_exporter": "python",
   "pygments_lexer": "ipython3",
   "version": "3.6.1"
  }
 },
 "nbformat": 4,
 "nbformat_minor": 2
}
